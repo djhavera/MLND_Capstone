{
 "cells": [
  {
   "cell_type": "code",
   "execution_count": 160,
   "metadata": {
    "_cell_guid": "2c85ba4d-1e2a-4f9a-9538-766c9d24236e",
    "_uuid": "2dfc64ba3dda007c859b9a8e63a830081473c6a6",
    "collapsed": false
   },
   "outputs": [],
   "source": [
    "# To support both python 2 and python 3\n",
    "from __future__ import division, print_function, unicode_literals\n",
    "from IPython.display import display # Allows the use of display() for DataFrames...standard in python 3\n",
    "\n",
    "# save model for future use\n",
    "from sklearn.externals import joblib\n",
    "from sklearn.externals.joblib import dump\n",
    "from sklearn.externals.joblib import load\n",
    "from scipy.stats import boxcox\n",
    "from scipy import stats\n",
    "from scipy.stats import norm, skew\n",
    "from mlxtend.regressor import StackingRegressor\n",
    "from sklearn.feature_selection import chi2\n",
    "from time import time\n",
    "from collections import defaultdict, deque\n",
    "\n",
    "#from keras.layers import Input\n",
    "#from keras.models import Model\n",
    "import os\n",
    "#from keras.layers.core import Dense\n",
    "#from keras.models import Sequential\n",
    "#from keras.layers import Dropout, BatchNormalization\n",
    "#from keras.wrappers.scikit_learn import KerasRegressor\n",
    "\n",
    "# Common imports\n",
    "import numpy as np\n",
    "import os\n",
    "import pandas as pd\n",
    "# Import seaborn\n",
    "import seaborn as sns\n",
    "\n",
    "# Import matplotlib\n",
    "import matplotlib.pyplot as plt\n",
    "\n",
    "\n",
    "# to make this notebook's output stable across runs\n",
    "\n",
    "np.random.seed(42)\n",
    "\n",
    "# Load libraries\n",
    "import numpy\n",
    "from numpy import arange\n",
    "from matplotlib import pyplot\n",
    "from pandas import read_csv\n",
    "from pandas import set_option\n",
    "from pandas.plotting import scatter_matrix\n",
    "from sklearn.preprocessing import StandardScaler\n",
    "from sklearn.model_selection import train_test_split\n",
    "from sklearn.model_selection import KFold\n",
    "from sklearn.model_selection import cross_val_score\n",
    "from sklearn.model_selection import GridSearchCV\n",
    "from sklearn.linear_model import LinearRegression\n",
    "from sklearn.linear_model import Lasso\n",
    "from sklearn.linear_model import ElasticNet\n",
    "from sklearn.tree import DecisionTreeRegressor\n",
    "from sklearn.neighbors import KNeighborsRegressor\n",
    "from sklearn.linear_model import Ridge, RidgeCV, ElasticNet, LassoCV, LassoLarsCV\n",
    "from sklearn.svm import SVR\n",
    "from sklearn.pipeline import Pipeline\n",
    "from sklearn.ensemble import RandomForestRegressor\n",
    "from sklearn.ensemble import GradientBoostingRegressor\n",
    "from sklearn.ensemble import ExtraTreesRegressor\n",
    "from sklearn.ensemble import AdaBoostRegressor\n",
    "from sklearn.metrics import mean_absolute_error\n",
    "\n",
    "from sklearn.metrics import accuracy_score, precision_score, recall_score\n",
    "from random import seed, randint\n",
    "from sklearn.metrics import f1_score\n",
    "from scipy.stats import randint\n",
    "\n",
    "#Common Model Helpers\n",
    "from sklearn.preprocessing import OneHotEncoder, LabelEncoder\n",
    "from sklearn import feature_selection\n",
    "from sklearn import model_selection\n",
    "from sklearn import metrics\n",
    "\n",
    "from scipy.stats import uniform\n",
    "from sklearn.model_selection import RandomizedSearchCV\n",
    "import random\n",
    "import pandas as pd\n",
    "from sklearn.metrics import f1_score\n",
    "from sklearn.metrics import accuracy_score\n",
    "from sklearn.ensemble import VotingClassifier\n",
    "import seaborn as sns\n",
    "import matplotlib.pyplot as plt\n",
    "%matplotlib inline\n",
    "from sklearn.model_selection import cross_val_score\n",
    "from sklearn.preprocessing import MinMaxScaler\n",
    "from sklearn.metrics import roc_auc_score\n",
    "from sklearn.model_selection import KFold\n",
    "from sklearn.svm import SVC\n",
    "from random import seed, randint\n",
    "from sklearn.metrics import f1_score\n",
    "from scipy.stats import randint\n",
    "from scipy.stats import uniform\n",
    "from sklearn.naive_bayes import GaussianNB\n",
    "from sklearn.linear_model import LogisticRegression\n",
    "from sklearn.linear_model import LogisticRegression\n",
    "from sklearn.discriminant_analysis import LinearDiscriminantAnalysis\n",
    "from sklearn.neighbors import KNeighborsClassifier\n",
    "from sklearn.svm import SVC\n",
    "from sklearn.model_selection import GridSearchCV, StratifiedShuffleSplit\n",
    "from pandas import read_csv\n",
    "from sklearn.model_selection import KFold\n",
    "from sklearn.model_selection import cross_val_score\n",
    "from sklearn.pipeline import Pipeline\n",
    "from sklearn.pipeline import FeatureUnion\n",
    "from sklearn.linear_model import LogisticRegression\n",
    "from sklearn.decomposition import PCA\n",
    "from sklearn.feature_selection import SelectKBest\n",
    "from sklearn.pipeline import Pipeline \n",
    "from sklearn.model_selection import StratifiedKFold \n",
    "from sklearn.preprocessing import StandardScaler \n",
    "from sklearn.preprocessing import Imputer \n",
    "from sklearn.decomposition import PCA \n",
    "from sklearn.feature_selection import SelectKBest \n",
    "from sklearn.feature_selection import chi2\n",
    "from sklearn.metrics import classification_report, f1_score, accuracy_score, precision_score, confusion_matrix, recall_score"
   ]
  },
  {
   "cell_type": "code",
   "execution_count": 329,
   "metadata": {
    "_cell_guid": "736a2191-dcfa-4fa0-a3a2-bab8391cbd0d",
    "_uuid": "bae1afef341b7246d4ec4de52e71d3e4fb4e9f18",
    "collapsed": true
   },
   "outputs": [],
   "source": [
    "#Assumptions\n",
    "my_imputer = Imputer()\n",
    "num_folds = 3\n",
    "scoring = 'neg_mean_absolute_error'\n",
    "seed = 7\n",
    "numpy.random.seed(seed)\n",
    "trees = 10\n",
    "kfold = KFold(n_splits=5, shuffle=True, random_state=seed)\n",
    "scaler = MinMaxScaler(feature_range=(0, 1))\n",
    "depth = 5\n",
    "start = True\n",
    "pca = PCA(n_components=0.8)\n",
    "skb = SelectKBest(k=23)\n",
    "features = []\n",
    "features.append(('pca', pca))\n",
    "features.append(('select_best', skb))\n",
    "feature_union = FeatureUnion(features)\n",
    "\n",
    "#algorithms\n",
    "LR_clf = LinearRegression()\n",
    "Ridge_clf = Ridge()\n",
    "LASSO_clf = Lasso()\n",
    "KNN_clf = KNeighborsRegressor()\n",
    "RF_clf = RandomForestRegressor(random_state = 7)\n",
    "GB_clf = GradientBoostingRegressor(random_state = 7, n_estimators= trees, max_depth = depth, warm_start = start)\n",
    "RF_clf_tuned = RandomForestRegressor(random_state = 7, n_estimators= 189, max_depth = 3, \n",
    "                                     min_samples_split = 2 )\n",
    "KNN_clf_tuned = KNeighborsRegressor(n_neighbors = 9)\n",
    "LASSO_clf_tuned = Lasso(alpha = 0.8)\n",
    "GB_clf_tuned = GradientBoostingRegressor(random_state = 7, max_depth = 2, n_estimators = 125 )\n",
    "\n",
    "'''\n",
    "# Keras NN\n",
    "def baseline_model():\n",
    "# create model\n",
    "    model = Sequential()\n",
    "    model.add(Dense(128, input_dim=6, activation='relu', kernel_initializer=\"glorot_uniform\"))\n",
    "    model.add(Dropout(.25))\n",
    "    model.add(Dense(256, activation='relu'))\n",
    "    model.add(Dropout(.25))\n",
    "    model.add(Dense(1))\n",
    "    # Compile model\n",
    "    model.compile(optimizer='rmsprop', loss='mse', metrics=['mae'])   \n",
    "    return model\n",
    "keras_clf = KerasRegressor(build_fn=baseline_model, epochs=4, batch_size=5, verbose=0)\n",
    "'''\n",
    "stregr_clf = StackingRegressor(regressors=[RF_clf_tuned, LASSO_clf_tuned], \n",
    "                           meta_regressor=GB_clf_tuned)"
   ]
  },
  {
   "cell_type": "code",
   "execution_count": 3,
   "metadata": {
    "_cell_guid": "c7b4af7a-9f77-42d4-b8fe-98e2b779fb32",
    "_uuid": "1e65a4583338439774fdfc2a4ba7a71eec3f7fc8",
    "collapsed": true
   },
   "outputs": [],
   "source": [
    "train_df_2016 = pd.read_csv(\"train_2016_v2.csv\", parse_dates=[\"transactiondate\"])"
   ]
  },
  {
   "cell_type": "code",
   "execution_count": 4,
   "metadata": {
    "_cell_guid": "35e45da4-d549-4f83-b053-46c2ccc4253f",
    "_uuid": "261dcc2708ea1af07a555612f4ac63ff74897f5e",
    "collapsed": false
   },
   "outputs": [
    {
     "name": "stderr",
     "output_type": "stream",
     "text": [
      "C:\\Users\\203014767\\.conda\\envs\\DAND\\lib\\site-packages\\IPython\\core\\interactiveshell.py:2717: DtypeWarning: Columns (22,32,34,49,55) have mixed types. Specify dtype option on import or set low_memory=False.\n",
      "  interactivity=interactivity, compiler=compiler, result=result)\n"
     ]
    }
   ],
   "source": [
    "properties_2016_df = pd.read_csv(\"properties_2016.csv\")"
   ]
  },
  {
   "cell_type": "code",
   "execution_count": 5,
   "metadata": {
    "_cell_guid": "3cad2ff7-0977-43a2-b229-c67297de09e6",
    "_uuid": "97b797649d56e74f2244db921754b6def14d6dee",
    "collapsed": true
   },
   "outputs": [],
   "source": [
    "train_df_2016 = pd.merge(train_df_2016, properties_2016_df, on='parcelid', how='left')"
   ]
  },
  {
   "cell_type": "code",
   "execution_count": 6,
   "metadata": {
    "_cell_guid": "173904ec-43ee-466e-98d9-d5a4148e0c5d",
    "_uuid": "fc7e570693b7805eef9dd894914f00c8aca122e8",
    "collapsed": false
   },
   "outputs": [
    {
     "name": "stdout",
     "output_type": "stream",
     "text": [
      "90275\n"
     ]
    }
   ],
   "source": [
    "print(len(train_df_2016))"
   ]
  },
  {
   "cell_type": "code",
   "execution_count": 7,
   "metadata": {
    "_cell_guid": "7add501e-55ac-42b3-87a8-7f3a9f6b623d",
    "_uuid": "9e41b4d4a43bf97ac2ed96c0d2426eff809aeeef",
    "collapsed": true
   },
   "outputs": [],
   "source": [
    "train_df_2017 = pd.read_csv(\"train_2017.csv\", parse_dates=[\"transactiondate\"])"
   ]
  },
  {
   "cell_type": "code",
   "execution_count": 8,
   "metadata": {
    "_cell_guid": "050669ea-4f27-471c-80b1-5e48eca60655",
    "_uuid": "415fffa7b362e65cb963bc99c213d925ce192f14",
    "collapsed": false
   },
   "outputs": [
    {
     "name": "stderr",
     "output_type": "stream",
     "text": [
      "C:\\Users\\203014767\\.conda\\envs\\DAND\\lib\\site-packages\\IPython\\core\\interactiveshell.py:2717: DtypeWarning: Columns (49) have mixed types. Specify dtype option on import or set low_memory=False.\n",
      "  interactivity=interactivity, compiler=compiler, result=result)\n"
     ]
    }
   ],
   "source": [
    "properties_2017_df = pd.read_csv(\"properties_2017.csv\")"
   ]
  },
  {
   "cell_type": "code",
   "execution_count": 9,
   "metadata": {
    "_cell_guid": "1df5b167-20f3-4070-81a5-cf22ba273d8d",
    "_uuid": "bd49abdaa68a78f310c26ebec9fc675b630c1269",
    "collapsed": true
   },
   "outputs": [],
   "source": [
    "train_df_2017 = pd.merge(train_df_2017, properties_2017_df, on='parcelid', how='left')"
   ]
  },
  {
   "cell_type": "code",
   "execution_count": 10,
   "metadata": {
    "_cell_guid": "1088c9f4-ba88-4338-9c94-9e37dcb29f86",
    "_uuid": "c511507ba2762c211415555c5a78757c508a9d59",
    "collapsed": false,
    "scrolled": true
   },
   "outputs": [
    {
     "name": "stdout",
     "output_type": "stream",
     "text": [
      "77613\n"
     ]
    }
   ],
   "source": [
    "print(len(train_df_2017))"
   ]
  },
  {
   "cell_type": "code",
   "execution_count": 11,
   "metadata": {
    "_cell_guid": "79c8b2a9-8352-4ff6-87a0-969d7441ca80",
    "_uuid": "6935d7b579b9b521232e55177947c32f93c36bd4",
    "collapsed": true
   },
   "outputs": [],
   "source": [
    "frames = [train_df_2016, train_df_2017]\n",
    "\n",
    "train_df = pd.concat(frames)"
   ]
  },
  {
   "cell_type": "code",
   "execution_count": 12,
   "metadata": {
    "_cell_guid": "4ceafa68-6144-4a4a-8aae-109c88a0f5d6",
    "_uuid": "18ed197e934d2b256355b99fff9d93e2850d6ce9",
    "collapsed": false
   },
   "outputs": [
    {
     "name": "stdout",
     "output_type": "stream",
     "text": [
      "167888\n"
     ]
    }
   ],
   "source": [
    "print(len(train_df))"
   ]
  },
  {
   "cell_type": "code",
   "execution_count": 13,
   "metadata": {
    "_cell_guid": "ceee1bbe-aa11-49ed-962f-514425e9a9b5",
    "_uuid": "e3c231ba61e17ee83593fdfb52507c9ba65f18c4",
    "collapsed": true
   },
   "outputs": [],
   "source": [
    "test_df = pd.read_csv(\"sample_submission.csv\")"
   ]
  },
  {
   "cell_type": "code",
   "execution_count": 14,
   "metadata": {
    "_cell_guid": "0496d4da-0def-44ab-a369-af7381f44a73",
    "_uuid": "74d63f773233558c71f14849d03cc795e026bd7c",
    "collapsed": false
   },
   "outputs": [
    {
     "name": "stdout",
     "output_type": "stream",
     "text": [
      "2985217\n"
     ]
    }
   ],
   "source": [
    "print(len(test_df))"
   ]
  },
  {
   "cell_type": "code",
   "execution_count": 15,
   "metadata": {
    "_cell_guid": "22930af1-b1ff-434a-a7a8-3594939ac0e6",
    "_uuid": "c6bc1d1e100f567aa3bf9b92a490a8337bccadba",
    "collapsed": true
   },
   "outputs": [],
   "source": [
    "test_df = test_df.rename(columns={\"ParcelId\": 'parcelid'})"
   ]
  },
  {
   "cell_type": "code",
   "execution_count": 16,
   "metadata": {
    "_cell_guid": "026d70cb-1f2c-4d9d-a4a8-2d2d53318500",
    "_uuid": "517a8c0bf719eddc84ca2e087ef97e19032aeff0",
    "collapsed": false
   },
   "outputs": [
    {
     "name": "stdout",
     "output_type": "stream",
     "text": [
      "2985217\n"
     ]
    }
   ],
   "source": [
    "print(len(test_df))"
   ]
  },
  {
   "cell_type": "code",
   "execution_count": 17,
   "metadata": {
    "_cell_guid": "1dbb3b49-b627-4480-8e28-cf6c9d3de91f",
    "_uuid": "1a100ac0baf7f1b1e3dd9498959625d091de801a",
    "collapsed": true
   },
   "outputs": [],
   "source": [
    "del train_df_2016, train_df_2017 # dfs still in list\n",
    "del frames   # memory release now"
   ]
  },
  {
   "cell_type": "code",
   "execution_count": 18,
   "metadata": {
    "_cell_guid": "3605190b-345c-43ab-9f50-019a9318222c",
    "_uuid": "0229749c48545f16e6e73e904f101301851b2655",
    "collapsed": false
   },
   "outputs": [
    {
     "data": {
      "text/plain": [
       "35"
      ]
     },
     "execution_count": 18,
     "metadata": {},
     "output_type": "execute_result"
    }
   ],
   "source": [
    "import gc\n",
    "gc.collect()"
   ]
  },
  {
   "cell_type": "markdown",
   "metadata": {
    "_cell_guid": "34180f06-ed02-4ac7-ac5b-6a3e241cb385",
    "_uuid": "6221cdf2663f8a2958e172edf599c4acd257f7d0",
    "collapsed": true
   },
   "source": [
    "frames = [properties_2016_df, properties_2017_df]\n",
    "properties = pd.concat(frames)"
   ]
  },
  {
   "cell_type": "code",
   "execution_count": 19,
   "metadata": {
    "_cell_guid": "6cd9d7ff-0650-491a-9839-9036810163f6",
    "_uuid": "64e6202eb8f00a54afee933aa5eecce38177582c",
    "collapsed": true
   },
   "outputs": [],
   "source": [
    "#test_df = pd.merge(test_df, properties, on='parcelid', how='left')\n",
    "#test_df_2016 = pd.merge(test_df, properties_2016_df, on='parcelid', how='left')\n",
    "test_df = pd.merge(test_df, properties_2016_df, on='parcelid', how='left')"
   ]
  },
  {
   "cell_type": "code",
   "execution_count": 20,
   "metadata": {
    "_cell_guid": "71f8cdaf-5b77-40a4-aeb9-62a0181b9566",
    "_uuid": "c40507eb9c2cc91eeea9a5827c5369db5ae4bccd",
    "collapsed": false
   },
   "outputs": [
    {
     "name": "stdout",
     "output_type": "stream",
     "text": [
      "2985217\n"
     ]
    }
   ],
   "source": [
    "print(len(test_df))"
   ]
  },
  {
   "cell_type": "code",
   "execution_count": 21,
   "metadata": {
    "_cell_guid": "6e956048-459d-49f1-b600-9de5c272f4e9",
    "_uuid": "a1a973b7c57b45ac1ac120c9d0fe50493f80b87c",
    "collapsed": false
   },
   "outputs": [
    {
     "data": {
      "text/plain": [
       "28"
      ]
     },
     "execution_count": 21,
     "metadata": {},
     "output_type": "execute_result"
    }
   ],
   "source": [
    "del properties_2016_df, properties_2017_df # dfs still in list\n",
    "  # memory release now\n",
    "gc.collect()"
   ]
  },
  {
   "cell_type": "code",
   "execution_count": 22,
   "metadata": {
    "_cell_guid": "9d3eeeda-b88b-473b-b5b9-0cbcd9e10813",
    "_uuid": "4058e985f4de42b46a22de45b828b12bcc06eea9",
    "collapsed": false
   },
   "outputs": [
    {
     "data": {
      "text/html": [
       "<div>\n",
       "<style scoped>\n",
       "    .dataframe tbody tr th:only-of-type {\n",
       "        vertical-align: middle;\n",
       "    }\n",
       "\n",
       "    .dataframe tbody tr th {\n",
       "        vertical-align: top;\n",
       "    }\n",
       "\n",
       "    .dataframe thead th {\n",
       "        text-align: right;\n",
       "    }\n",
       "</style>\n",
       "<table border=\"1\" class=\"dataframe\">\n",
       "  <thead>\n",
       "    <tr style=\"text-align: right;\">\n",
       "      <th></th>\n",
       "      <th>NA_percent</th>\n",
       "    </tr>\n",
       "  </thead>\n",
       "  <tbody>\n",
       "    <tr>\n",
       "      <th>buildingclasstypeid</th>\n",
       "      <td>99.981535</td>\n",
       "    </tr>\n",
       "    <tr>\n",
       "      <th>finishedsquarefeet13</th>\n",
       "      <td>99.955327</td>\n",
       "    </tr>\n",
       "    <tr>\n",
       "      <th>basementsqft</th>\n",
       "      <td>99.944606</td>\n",
       "    </tr>\n",
       "    <tr>\n",
       "      <th>storytypeid</th>\n",
       "      <td>99.944606</td>\n",
       "    </tr>\n",
       "    <tr>\n",
       "      <th>yardbuildingsqft26</th>\n",
       "      <td>99.901720</td>\n",
       "    </tr>\n",
       "    <tr>\n",
       "      <th>fireplaceflag</th>\n",
       "      <td>99.765320</td>\n",
       "    </tr>\n",
       "    <tr>\n",
       "      <th>architecturalstyletypeid</th>\n",
       "      <td>99.721243</td>\n",
       "    </tr>\n",
       "    <tr>\n",
       "      <th>typeconstructiontypeid</th>\n",
       "      <td>99.689078</td>\n",
       "    </tr>\n",
       "    <tr>\n",
       "      <th>finishedsquarefeet6</th>\n",
       "      <td>99.519322</td>\n",
       "    </tr>\n",
       "    <tr>\n",
       "      <th>decktypeid</th>\n",
       "      <td>99.242352</td>\n",
       "    </tr>\n",
       "    <tr>\n",
       "      <th>pooltypeid10</th>\n",
       "      <td>99.031497</td>\n",
       "    </tr>\n",
       "    <tr>\n",
       "      <th>poolsizesum</th>\n",
       "      <td>98.905223</td>\n",
       "    </tr>\n",
       "    <tr>\n",
       "      <th>pooltypeid2</th>\n",
       "      <td>98.643143</td>\n",
       "    </tr>\n",
       "    <tr>\n",
       "      <th>hashottuborspa</th>\n",
       "      <td>97.674640</td>\n",
       "    </tr>\n",
       "    <tr>\n",
       "      <th>taxdelinquencyflag</th>\n",
       "      <td>97.210640</td>\n",
       "    </tr>\n",
       "    <tr>\n",
       "      <th>taxdelinquencyyear</th>\n",
       "      <td>97.210640</td>\n",
       "    </tr>\n",
       "    <tr>\n",
       "      <th>yardbuildingsqft17</th>\n",
       "      <td>96.998594</td>\n",
       "    </tr>\n",
       "    <tr>\n",
       "      <th>finishedsquarefeet15</th>\n",
       "      <td>96.074168</td>\n",
       "    </tr>\n",
       "    <tr>\n",
       "      <th>finishedsquarefeet50</th>\n",
       "      <td>92.320476</td>\n",
       "    </tr>\n",
       "    <tr>\n",
       "      <th>finishedfloor1squarefeet</th>\n",
       "      <td>92.320476</td>\n",
       "    </tr>\n",
       "    <tr>\n",
       "      <th>fireplacecnt</th>\n",
       "      <td>89.340513</td>\n",
       "    </tr>\n",
       "    <tr>\n",
       "      <th>threequarterbathnbr</th>\n",
       "      <td>86.827528</td>\n",
       "    </tr>\n",
       "    <tr>\n",
       "      <th>pooltypeid7</th>\n",
       "      <td>81.073096</td>\n",
       "    </tr>\n",
       "    <tr>\n",
       "      <th>poolcnt</th>\n",
       "      <td>79.703731</td>\n",
       "    </tr>\n",
       "    <tr>\n",
       "      <th>numberofstories</th>\n",
       "      <td>77.265201</td>\n",
       "    </tr>\n",
       "    <tr>\n",
       "      <th>airconditioningtypeid</th>\n",
       "      <td>67.961975</td>\n",
       "    </tr>\n",
       "    <tr>\n",
       "      <th>garagetotalsqft</th>\n",
       "      <td>66.967860</td>\n",
       "    </tr>\n",
       "    <tr>\n",
       "      <th>garagecarcnt</th>\n",
       "      <td>66.967860</td>\n",
       "    </tr>\n",
       "    <tr>\n",
       "      <th>regionidneighborhood</th>\n",
       "      <td>60.100781</td>\n",
       "    </tr>\n",
       "    <tr>\n",
       "      <th>heatingorsystemtypeid</th>\n",
       "      <td>37.070547</td>\n",
       "    </tr>\n",
       "    <tr>\n",
       "      <th>buildingqualitytypeid</th>\n",
       "      <td>36.163990</td>\n",
       "    </tr>\n",
       "    <tr>\n",
       "      <th>propertyzoningdesc</th>\n",
       "      <td>35.201444</td>\n",
       "    </tr>\n",
       "    <tr>\n",
       "      <th>unitcnt</th>\n",
       "      <td>35.042409</td>\n",
       "    </tr>\n",
       "  </tbody>\n",
       "</table>\n",
       "</div>"
      ],
      "text/plain": [
       "                          NA_percent\n",
       "buildingclasstypeid        99.981535\n",
       "finishedsquarefeet13       99.955327\n",
       "basementsqft               99.944606\n",
       "storytypeid                99.944606\n",
       "yardbuildingsqft26         99.901720\n",
       "fireplaceflag              99.765320\n",
       "architecturalstyletypeid   99.721243\n",
       "typeconstructiontypeid     99.689078\n",
       "finishedsquarefeet6        99.519322\n",
       "decktypeid                 99.242352\n",
       "pooltypeid10               99.031497\n",
       "poolsizesum                98.905223\n",
       "pooltypeid2                98.643143\n",
       "hashottuborspa             97.674640\n",
       "taxdelinquencyflag         97.210640\n",
       "taxdelinquencyyear         97.210640\n",
       "yardbuildingsqft17         96.998594\n",
       "finishedsquarefeet15       96.074168\n",
       "finishedsquarefeet50       92.320476\n",
       "finishedfloor1squarefeet   92.320476\n",
       "fireplacecnt               89.340513\n",
       "threequarterbathnbr        86.827528\n",
       "pooltypeid7                81.073096\n",
       "poolcnt                    79.703731\n",
       "numberofstories            77.265201\n",
       "airconditioningtypeid      67.961975\n",
       "garagetotalsqft            66.967860\n",
       "garagecarcnt               66.967860\n",
       "regionidneighborhood       60.100781\n",
       "heatingorsystemtypeid      37.070547\n",
       "buildingqualitytypeid      36.163990\n",
       "propertyzoningdesc         35.201444\n",
       "unitcnt                    35.042409"
      ]
     },
     "execution_count": 22,
     "metadata": {},
     "output_type": "execute_result"
    }
   ],
   "source": [
    "train_df_na = (train_df.isnull().sum() / len(train_df)) * 100\n",
    "train_df_na = train_df_na.drop(train_df_na[train_df_na == 0].index).sort_values(ascending=False)\n",
    "NA_data = pd.DataFrame({'NA_percent' :train_df_na})\n",
    "NA_data_remove = NA_data[NA_data.NA_percent >= 15]\n",
    "NA_data_remove"
   ]
  },
  {
   "cell_type": "code",
   "execution_count": 23,
   "metadata": {
    "_cell_guid": "874d9909-a4fa-4de2-838c-e98998566c8d",
    "_uuid": "8202adc2102cd8b319bb41f62757526021690958",
    "collapsed": false
   },
   "outputs": [
    {
     "data": {
      "text/html": [
       "<div>\n",
       "<style scoped>\n",
       "    .dataframe tbody tr th:only-of-type {\n",
       "        vertical-align: middle;\n",
       "    }\n",
       "\n",
       "    .dataframe tbody tr th {\n",
       "        vertical-align: top;\n",
       "    }\n",
       "\n",
       "    .dataframe thead th {\n",
       "        text-align: right;\n",
       "    }\n",
       "</style>\n",
       "<table border=\"1\" class=\"dataframe\">\n",
       "  <thead>\n",
       "    <tr style=\"text-align: right;\">\n",
       "      <th></th>\n",
       "      <th>NA_percent</th>\n",
       "    </tr>\n",
       "  </thead>\n",
       "  <tbody>\n",
       "    <tr>\n",
       "      <th>storytypeid</th>\n",
       "      <td>99.945599</td>\n",
       "    </tr>\n",
       "    <tr>\n",
       "      <th>basementsqft</th>\n",
       "      <td>99.945465</td>\n",
       "    </tr>\n",
       "    <tr>\n",
       "      <th>yardbuildingsqft26</th>\n",
       "      <td>99.911330</td>\n",
       "    </tr>\n",
       "    <tr>\n",
       "      <th>fireplaceflag</th>\n",
       "      <td>99.827048</td>\n",
       "    </tr>\n",
       "    <tr>\n",
       "      <th>architecturalstyletypeid</th>\n",
       "      <td>99.796966</td>\n",
       "    </tr>\n",
       "    <tr>\n",
       "      <th>typeconstructiontypeid</th>\n",
       "      <td>99.773986</td>\n",
       "    </tr>\n",
       "    <tr>\n",
       "      <th>finishedsquarefeet13</th>\n",
       "      <td>99.743000</td>\n",
       "    </tr>\n",
       "    <tr>\n",
       "      <th>buildingclasstypeid</th>\n",
       "      <td>99.576949</td>\n",
       "    </tr>\n",
       "    <tr>\n",
       "      <th>decktypeid</th>\n",
       "      <td>99.427311</td>\n",
       "    </tr>\n",
       "    <tr>\n",
       "      <th>finishedsquarefeet6</th>\n",
       "      <td>99.263002</td>\n",
       "    </tr>\n",
       "    <tr>\n",
       "      <th>poolsizesum</th>\n",
       "      <td>99.063385</td>\n",
       "    </tr>\n",
       "    <tr>\n",
       "      <th>pooltypeid2</th>\n",
       "      <td>98.925539</td>\n",
       "    </tr>\n",
       "    <tr>\n",
       "      <th>pooltypeid10</th>\n",
       "      <td>98.762603</td>\n",
       "    </tr>\n",
       "    <tr>\n",
       "      <th>taxdelinquencyflag</th>\n",
       "      <td>98.108613</td>\n",
       "    </tr>\n",
       "    <tr>\n",
       "      <th>taxdelinquencyyear</th>\n",
       "      <td>98.108546</td>\n",
       "    </tr>\n",
       "    <tr>\n",
       "      <th>hashottuborspa</th>\n",
       "      <td>97.688141</td>\n",
       "    </tr>\n",
       "    <tr>\n",
       "      <th>yardbuildingsqft17</th>\n",
       "      <td>97.308236</td>\n",
       "    </tr>\n",
       "    <tr>\n",
       "      <th>finishedsquarefeet15</th>\n",
       "      <td>93.608572</td>\n",
       "    </tr>\n",
       "    <tr>\n",
       "      <th>finishedsquarefeet50</th>\n",
       "      <td>93.209304</td>\n",
       "    </tr>\n",
       "    <tr>\n",
       "      <th>finishedfloor1squarefeet</th>\n",
       "      <td>93.209304</td>\n",
       "    </tr>\n",
       "    <tr>\n",
       "      <th>threequarterbathnbr</th>\n",
       "      <td>89.560859</td>\n",
       "    </tr>\n",
       "    <tr>\n",
       "      <th>fireplacecnt</th>\n",
       "      <td>89.527160</td>\n",
       "    </tr>\n",
       "    <tr>\n",
       "      <th>pooltypeid7</th>\n",
       "      <td>83.737899</td>\n",
       "    </tr>\n",
       "    <tr>\n",
       "      <th>poolcnt</th>\n",
       "      <td>82.663438</td>\n",
       "    </tr>\n",
       "    <tr>\n",
       "      <th>numberofstories</th>\n",
       "      <td>77.151778</td>\n",
       "    </tr>\n",
       "    <tr>\n",
       "      <th>airconditioningtypeid</th>\n",
       "      <td>72.815410</td>\n",
       "    </tr>\n",
       "    <tr>\n",
       "      <th>garagecarcnt</th>\n",
       "      <td>70.411967</td>\n",
       "    </tr>\n",
       "    <tr>\n",
       "      <th>garagetotalsqft</th>\n",
       "      <td>70.411967</td>\n",
       "    </tr>\n",
       "    <tr>\n",
       "      <th>regionidneighborhood</th>\n",
       "      <td>61.262381</td>\n",
       "    </tr>\n",
       "    <tr>\n",
       "      <th>heatingorsystemtypeid</th>\n",
       "      <td>39.488453</td>\n",
       "    </tr>\n",
       "    <tr>\n",
       "      <th>buildingqualitytypeid</th>\n",
       "      <td>35.063749</td>\n",
       "    </tr>\n",
       "    <tr>\n",
       "      <th>unitcnt</th>\n",
       "      <td>33.757244</td>\n",
       "    </tr>\n",
       "    <tr>\n",
       "      <th>propertyzoningdesc</th>\n",
       "      <td>33.719090</td>\n",
       "    </tr>\n",
       "  </tbody>\n",
       "</table>\n",
       "</div>"
      ],
      "text/plain": [
       "                          NA_percent\n",
       "storytypeid                99.945599\n",
       "basementsqft               99.945465\n",
       "yardbuildingsqft26         99.911330\n",
       "fireplaceflag              99.827048\n",
       "architecturalstyletypeid   99.796966\n",
       "typeconstructiontypeid     99.773986\n",
       "finishedsquarefeet13       99.743000\n",
       "buildingclasstypeid        99.576949\n",
       "decktypeid                 99.427311\n",
       "finishedsquarefeet6        99.263002\n",
       "poolsizesum                99.063385\n",
       "pooltypeid2                98.925539\n",
       "pooltypeid10               98.762603\n",
       "taxdelinquencyflag         98.108613\n",
       "taxdelinquencyyear         98.108546\n",
       "hashottuborspa             97.688141\n",
       "yardbuildingsqft17         97.308236\n",
       "finishedsquarefeet15       93.608572\n",
       "finishedsquarefeet50       93.209304\n",
       "finishedfloor1squarefeet   93.209304\n",
       "threequarterbathnbr        89.560859\n",
       "fireplacecnt               89.527160\n",
       "pooltypeid7                83.737899\n",
       "poolcnt                    82.663438\n",
       "numberofstories            77.151778\n",
       "airconditioningtypeid      72.815410\n",
       "garagecarcnt               70.411967\n",
       "garagetotalsqft            70.411967\n",
       "regionidneighborhood       61.262381\n",
       "heatingorsystemtypeid      39.488453\n",
       "buildingqualitytypeid      35.063749\n",
       "unitcnt                    33.757244\n",
       "propertyzoningdesc         33.719090"
      ]
     },
     "execution_count": 23,
     "metadata": {},
     "output_type": "execute_result"
    }
   ],
   "source": [
    "test_df_na = (test_df.isnull().sum() / len(test_df)) * 100\n",
    "test_df_na = test_df_na.drop(test_df_na[test_df_na == 0].index).sort_values(ascending=False)\n",
    "NA_data_test = pd.DataFrame({'NA_percent' :test_df_na})\n",
    "NA_data_remove_test = NA_data_test[NA_data_test.NA_percent >= 15]\n",
    "NA_data_remove_test"
   ]
  },
  {
   "cell_type": "code",
   "execution_count": 24,
   "metadata": {
    "_cell_guid": "93e5e922-1c1d-42d5-a477-2aa90e906983",
    "_uuid": "9ffb94e02cd5c781dc927fefe40aba71a721c835",
    "collapsed": true
   },
   "outputs": [],
   "source": [
    "columns_to_remove = []\n",
    "columns_to_remove = NA_data_remove.index.values.tolist()"
   ]
  },
  {
   "cell_type": "code",
   "execution_count": 25,
   "metadata": {
    "_cell_guid": "764eea70-d326-4812-97ef-e81e1fdb8a17",
    "_uuid": "35598a80ed88f9fcbba57454ea20d39af9938d2a",
    "collapsed": true
   },
   "outputs": [],
   "source": [
    "data_cleaner = [train_df, test_df]\n",
    "\n",
    "###COMPLETING: complete or delete missing values in train and test/validation dataset\n",
    "for dataset in data_cleaner:    \n",
    "    dataset.drop(columns_to_remove, axis=1, inplace = True)"
   ]
  },
  {
   "cell_type": "code",
   "execution_count": 26,
   "metadata": {
    "_cell_guid": "9f6aa11e-28e3-48e7-9058-f312a2383e29",
    "_uuid": "39374905d536afdf5bb1d10dc98427d5f9eda970",
    "collapsed": false
   },
   "outputs": [
    {
     "data": {
      "text/plain": [
       "['propertycountylandusecode']"
      ]
     },
     "execution_count": 26,
     "metadata": {},
     "output_type": "execute_result"
    }
   ],
   "source": [
    "# We use it as our only way to select categorical columns here. This is convenient, though\n",
    "# a little arbitrary.\n",
    "high_cardinality_cols = [cname for cname in train_df.columns if \n",
    "                                train_df[cname].nunique() >= 15 and\n",
    "                                train_df[cname].dtype == \"object\"]\n",
    "\n",
    "low_cardinality_cols = [cname for cname in train_df.columns if \n",
    "                                train_df[cname].nunique() < 15 and\n",
    "                                train_df[cname].dtype == \"object\"]\n",
    "numeric_cols = [cname for cname in train_df.columns if \n",
    "                                train_df[cname].dtype in ['int64', 'float64']]\n",
    "\n",
    "my_cols = low_cardinality_cols + numeric_cols\n",
    "high_cardinality_cols\n",
    "#train_predictors = candidate_train_predictors[my_cols]\n",
    "#test_predictors = candidate_test_predictors[my_cols]\n",
    "#https://www.kaggle.com/dansbecker/using-categorical-data-with-one-hot-encoding"
   ]
  },
  {
   "cell_type": "code",
   "execution_count": 27,
   "metadata": {
    "_cell_guid": "451be869-4f54-425d-a731-cf62a64bccc4",
    "_uuid": "2041ba62457a30ca942a1306db106c9ab32e36c7",
    "collapsed": false
   },
   "outputs": [
    {
     "data": {
      "text/plain": [
       "propertycountylandusecode    90\n",
       "dtype: int64"
      ]
     },
     "execution_count": 27,
     "metadata": {},
     "output_type": "execute_result"
    }
   ],
   "source": [
    "train_df[high_cardinality_cols].nunique()"
   ]
  },
  {
   "cell_type": "code",
   "execution_count": 28,
   "metadata": {
    "_cell_guid": "a0e00960-9752-49c4-88ef-8ca89a0d3d3f",
    "_uuid": "f9b56edc29851defe542ac56a323133aad74cbb7",
    "collapsed": true
   },
   "outputs": [],
   "source": [
    "for dataset in data_cleaner:    \n",
    "    dataset.drop(high_cardinality_cols, axis=1, inplace = True)"
   ]
  },
  {
   "cell_type": "code",
   "execution_count": 29,
   "metadata": {
    "_cell_guid": "9b36b0e5-e4b6-4695-bfea-770928d1fac6",
    "_uuid": "882197161db09ae91f84de0fd70664d8bbc83414",
    "collapsed": false
   },
   "outputs": [
    {
     "data": {
      "text/plain": [
       "parcelid                        165210\n",
       "logerror                         78958\n",
       "transactiondate                    616\n",
       "bathroomcnt                         26\n",
       "bedroomcnt                          18\n",
       "calculatedbathnbr                   25\n",
       "calculatedfinishedsquarefeet      5826\n",
       "finishedsquarefeet12              5730\n",
       "fips                                 4\n",
       "fullbathcnt                         17\n",
       "latitude                        126380\n",
       "longitude                       126313\n",
       "lotsizesquarefeet                25368\n",
       "propertylandusetypeid               15\n",
       "rawcensustractandblock           57812\n",
       "regionidcity                       179\n",
       "regionidcounty                       4\n",
       "regionidzip                        391\n",
       "roomcnt                             18\n",
       "yearbuilt                          139\n",
       "structuretaxvaluedollarcnt       96513\n",
       "taxvaluedollarcnt               102171\n",
       "assessmentyear                       3\n",
       "landtaxvaluedollarcnt           102190\n",
       "taxamount                       149916\n",
       "censustractandblock              57545\n",
       "dtype: int64"
      ]
     },
     "execution_count": 29,
     "metadata": {},
     "output_type": "execute_result"
    }
   ],
   "source": [
    "train_df.apply(lambda x: len(x.unique()))"
   ]
  },
  {
   "cell_type": "code",
   "execution_count": 30,
   "metadata": {
    "_cell_guid": "aa2e5d08-4d40-4d9f-abf6-ed1cc8800f6c",
    "_uuid": "5776105f383ca0d32ecd3ecd0d38bbaaf701c566",
    "collapsed": true
   },
   "outputs": [],
   "source": [
    "# More categorical high cardinality columns to drop.  \n",
    "more_columns_to_drop = ['parcelid',\n",
    "                        'censustractandblock', 'rawcensustractandblock',\n",
    "                        'latitude','longitude','regionidcounty', 'assessmentyear']\n",
    "for dataset in data_cleaner:    \n",
    "    dataset.drop(more_columns_to_drop, axis=1, inplace = True)"
   ]
  },
  {
   "cell_type": "markdown",
   "metadata": {
    "_cell_guid": "2ecb870c-7eff-4d82-bc93-ffe3f4dbf84d",
    "_uuid": "1d81df2184a1e609340141b49869693be0cdb134"
   },
   "source": [
    "train_df['visitors'], lam = boxcox(train_df['visitors'])\n",
    "print('Lambda: %f' % lam)\n",
    "#print(train_df)\n",
    "#pyplot.figure(1)"
   ]
  },
  {
   "cell_type": "code",
   "execution_count": 31,
   "metadata": {
    "_cell_guid": "d2de3baf-c9f4-4b4a-bd1a-db264113580e",
    "_uuid": "8e9fbfce03eb78aa04e6ed0a374710d7e66f9e29",
    "collapsed": true
   },
   "outputs": [],
   "source": [
    "drop_column2 = ['transactiondate'] \n",
    "train_df.drop(drop_column2, axis=1, inplace = True)"
   ]
  },
  {
   "cell_type": "code",
   "execution_count": 32,
   "metadata": {
    "_cell_guid": "e5942317-2687-418a-8234-0104c1749bec",
    "_uuid": "e7ab3b585477e0ac597ed47b5565f29ee28a94c6",
    "collapsed": false
   },
   "outputs": [
    {
     "name": "stdout",
     "output_type": "stream",
     "text": [
      "<class 'pandas.core.frame.DataFrame'>\n",
      "Int64Index: 167888 entries, 0 to 77612\n",
      "Data columns (total 18 columns):\n",
      "logerror                        167888 non-null float64\n",
      "bathroomcnt                     167854 non-null float64\n",
      "bedroomcnt                      167854 non-null float64\n",
      "calculatedbathnbr               166056 non-null float64\n",
      "calculatedfinishedsquarefeet    166992 non-null float64\n",
      "finishedsquarefeet12            159519 non-null float64\n",
      "fips                            167854 non-null float64\n",
      "fullbathcnt                     166056 non-null float64\n",
      "lotsizesquarefeet               149446 non-null float64\n",
      "propertylandusetypeid           167854 non-null float64\n",
      "regionidcity                    164579 non-null float64\n",
      "regionidzip                     167769 non-null float64\n",
      "roomcnt                         167854 non-null float64\n",
      "yearbuilt                       166828 non-null float64\n",
      "structuretaxvaluedollarcnt      167359 non-null float64\n",
      "taxvaluedollarcnt               167852 non-null float64\n",
      "landtaxvaluedollarcnt           167851 non-null float64\n",
      "taxamount                       167843 non-null float64\n",
      "dtypes: float64(18)\n",
      "memory usage: 24.3 MB\n"
     ]
    }
   ],
   "source": [
    "train_df.info()"
   ]
  },
  {
   "cell_type": "code",
   "execution_count": 33,
   "metadata": {
    "_cell_guid": "41a8f373-847a-4b03-8c21-5538bbc406ee",
    "_uuid": "d3e94ec71bad0b54541db5ace180210c43f48384",
    "collapsed": false
   },
   "outputs": [],
   "source": [
    "# Create a Y value to predict for our training set\n",
    "y = train_df['logerror'].values"
   ]
  },
  {
   "cell_type": "code",
   "execution_count": 34,
   "metadata": {
    "_cell_guid": "8abe99da-2c54-4680-baa9-4ac844c81af9",
    "_uuid": "59cd2fc3f0f35736dc5952eead998e5148a77de2",
    "collapsed": true
   },
   "outputs": [],
   "source": [
    "train_df['propertylandusetypeid'] = train_df['propertylandusetypeid'].astype(str)\n",
    "train_df['propertylandusetypeid']= train_df['propertylandusetypeid'].fillna('')\n",
    "# Test\n",
    "test_df['propertylandusetypeid'] = test_df['propertylandusetypeid'].astype(str)\n",
    "test_df['propertylandusetypeid']= test_df['propertylandusetypeid'].fillna('')\n"
   ]
  },
  {
   "cell_type": "code",
   "execution_count": 35,
   "metadata": {
    "_cell_guid": "d3c983fa-5fc0-4ba4-9e32-bc2335a22830",
    "_uuid": "5e77bd5f926a574c82735843e119b2dbd5dd914a",
    "collapsed": true
   },
   "outputs": [],
   "source": [
    "# We will use this for a constant in binning to prevent overfitting\n",
    "train_df['random_laplace_constant'] = np.random.laplace(loc=0.1, scale=0.1, size= train_df.shape[0])\n",
    "test_df['random_laplace_constant'] = np.random.laplace(loc=0.1, scale=0.1, size= test_df.shape[0])"
   ]
  },
  {
   "cell_type": "code",
   "execution_count": 36,
   "metadata": {
    "_cell_guid": "56f4e9ce-55dd-47ad-bc27-0d2046ac3e61",
    "_uuid": "191ad198fcf00ab7415e215fe66f50e7c5c4b44a",
    "collapsed": false
   },
   "outputs": [
    {
     "name": "stdout",
     "output_type": "stream",
     "text": [
      "            logerror    bathroomcnt     bedroomcnt  calculatedbathnbr  \\\n",
      "count  167888.000000  167854.000000  167854.000000      166056.000000   \n",
      "mean        0.013906       2.288265       3.041739           2.312542   \n",
      "std         0.165706       1.000835       1.149134           0.977808   \n",
      "min        -4.655420       0.000000       0.000000           1.000000   \n",
      "25%        -0.025300       2.000000       2.000000           2.000000   \n",
      "50%         0.006000       2.000000       3.000000           2.000000   \n",
      "75%         0.039200       3.000000       4.000000           3.000000   \n",
      "max         5.262999      20.000000      16.000000          20.000000   \n",
      "\n",
      "       calculatedfinishedsquarefeet  finishedsquarefeet12           fips  \\\n",
      "count                 166992.000000         159519.000000  167854.000000   \n",
      "mean                    1778.630246           1752.326939    6048.844484   \n",
      "std                      940.356025            921.360898      20.702187   \n",
      "min                        2.000000              2.000000    6037.000000   \n",
      "25%                     1183.000000           1172.000000    6037.000000   \n",
      "50%                     1541.000000           1520.000000    6037.000000   \n",
      "75%                     2103.000000           2065.000000    6059.000000   \n",
      "max                    35640.000000          21929.000000    6111.000000   \n",
      "\n",
      "         fullbathcnt  lotsizesquarefeet   regionidcity    regionidzip  \\\n",
      "count  166056.000000       1.494460e+05  164579.000000  167769.000000   \n",
      "mean        2.245345       2.951060e+04   33725.134525   96586.390722   \n",
      "std         0.964703       1.224588e+05   46922.468867    3723.009458   \n",
      "min         1.000000       1.670000e+02    3491.000000   95982.000000   \n",
      "25%         2.000000       5.702000e+03   12447.000000   96193.000000   \n",
      "50%         2.000000       7.200000e+03   25218.000000   96389.000000   \n",
      "75%         3.000000       1.174675e+04   45457.000000   96987.000000   \n",
      "max        20.000000       6.971010e+06  396556.000000  399675.000000   \n",
      "\n",
      "             roomcnt      yearbuilt  structuretaxvaluedollarcnt  \\\n",
      "count  167854.000000  166828.000000                1.673590e+05   \n",
      "mean        1.477480    1968.569311                1.843460e+05   \n",
      "std         2.821496      23.777202                2.192841e+05   \n",
      "min         0.000000    1824.000000                4.400000e+01   \n",
      "25%         0.000000    1953.000000                8.256800e+04   \n",
      "50%         0.000000    1970.000000                1.340510e+05   \n",
      "75%         0.000000    1987.000000                2.142570e+05   \n",
      "max        18.000000    2016.000000                1.142179e+07   \n",
      "\n",
      "       taxvaluedollarcnt  landtaxvaluedollarcnt      taxamount  \\\n",
      "count       1.678520e+05           1.678510e+05  167843.000000   \n",
      "mean        4.726833e+05           2.888805e+05    5989.515575   \n",
      "std         6.028372e+05           4.456451e+05    7214.731946   \n",
      "min         2.200000e+01           2.200000e+01      19.920000   \n",
      "25%         2.026522e+05           8.373000e+04    2798.070000   \n",
      "50%         3.500000e+05           1.977760e+05    4501.040000   \n",
      "75%         5.540020e+05           3.553340e+05    6914.165000   \n",
      "max         4.906124e+07           4.895220e+07  586639.300000   \n",
      "\n",
      "       random_laplace_constant  \n",
      "count            167888.000000  \n",
      "mean                  0.100221  \n",
      "std                   0.141402  \n",
      "min                  -1.646499  \n",
      "25%                   0.030934  \n",
      "50%                   0.100177  \n",
      "75%                   0.169880  \n",
      "max                   1.283120  \n"
     ]
    }
   ],
   "source": [
    "print(train_df.describe())"
   ]
  },
  {
   "cell_type": "markdown",
   "metadata": {
    "_cell_guid": "2ccf5ea3-9b99-48c7-9224-c69bbde61824",
    "_uuid": "cd0c67fc97e0ae9d70104fcc4f2832e01282257f"
   },
   "source": [
    "## One-Hot Encoding : The Standard Approach for Categorical Data¶\n",
    "One hot encoding is the most widespread approach, and it works very well unless your categorical variable takes on a large number of values (i.e. you generally won't it for variables taking more than 15 different values. It'd be a poor choice in some cases with fewer values, though that varies.)\n",
    "One-hot encoding usually helps, but it varies on a case-by-case basis. In this case, there doesn't appear to be any meaningful benefit from using the one-hot encoded variables.\n",
    "\n",
    "#https://www.kaggle.com/dansbecker/using-categorical-data-with-one-hot-encoding\n"
   ]
  },
  {
   "cell_type": "markdown",
   "metadata": {
    "_cell_guid": "62b599f8-6e94-46dc-b283-3e158cce3c90",
    "_uuid": "504e52690797e8ae2f83721037f136c05026a355"
   },
   "source": [
    "Applying to Multiple Files\n",
    "So far, you've one-hot-encoded your training data. What about when you have multiple files (e.g. a test dataset, or some other data that you'd like to make predictions for)? Scikit-learn is sensitive to the ordering of columns, so if the training dataset and test datasets get misaligned, your results will be nonsense. This could happen if a categorical had a different number of values in the training data vs the test data.\n",
    "\n",
    "Ensure the test data is encoded in the same manner as the training data with the align command:"
   ]
  },
  {
   "cell_type": "markdown",
   "metadata": {
    "_cell_guid": "d455230e-5f45-4c34-a938-23df0d0e4687",
    "_uuid": "bd667f4568f1611e9866dc1fde3aafdb8bd44424"
   },
   "source": [
    "Assessment year seems to be primarily 2015 or 2016 with little variance so we will drop it."
   ]
  },
  {
   "cell_type": "code",
   "execution_count": 37,
   "metadata": {
    "_cell_guid": "fa226ad7-b940-4cd5-8735-b02939794148",
    "_uuid": "54e7aa57e4a5c17f094cf94372dc21c81240655f",
    "collapsed": true
   },
   "outputs": [],
   "source": [
    "train_df['regionidcity'] = train_df['regionidcity'].fillna(train_df['regionidcity'].median())\n",
    "train_df['yearbuilt'] = train_df['yearbuilt'].fillna(train_df['yearbuilt'].median())\n",
    "train_df['calculatedfinishedsquarefeet'] = train_df['calculatedfinishedsquarefeet'].fillna(train_df['calculatedfinishedsquarefeet'].mean())\n",
    "train_df['lotsizesquarefeet'] = train_df['lotsizesquarefeet'].fillna(train_df['lotsizesquarefeet'].mean())\n",
    "# Test\n",
    "test_df['regionidcity'] = test_df['regionidcity'].fillna(test_df['regionidcity'].median())\n",
    "test_df['yearbuilt'] = test_df['yearbuilt'].fillna(test_df['yearbuilt'].median())\n",
    "test_df['calculatedfinishedsquarefeet'] = test_df['calculatedfinishedsquarefeet'].fillna(test_df['calculatedfinishedsquarefeet'].mean())\n",
    "test_df['lotsizesquarefeet'] = test_df['lotsizesquarefeet'].fillna(test_df['lotsizesquarefeet'].mean())\n"
   ]
  },
  {
   "cell_type": "code",
   "execution_count": 38,
   "metadata": {
    "_cell_guid": "51cbeca8-7e83-4b81-bbe6-a47978de943c",
    "_uuid": "2b8ea6f6cf3558fdc4378a06815e1c90f70481d1",
    "collapsed": false
   },
   "outputs": [
    {
     "name": "stdout",
     "output_type": "stream",
     "text": [
      "                              NA_percent\n",
      "finishedsquarefeet12            4.984871\n",
      "calculatedbathnbr               1.091204\n",
      "fullbathcnt                     1.091204\n",
      "structuretaxvaluedollarcnt      0.315091\n",
      "regionidzip                     0.070881\n",
      "taxamount                       0.026804\n",
      "landtaxvaluedollarcnt           0.022039\n",
      "taxvaluedollarcnt               0.021443\n",
      "bathroomcnt                     0.020252\n",
      "roomcnt                         0.020252\n",
      "bedroomcnt                      0.020252\n",
      "fips                            0.020252\n",
      "random_laplace_constant         0.000000\n",
      "calculatedfinishedsquarefeet    0.000000\n",
      "propertylandusetypeid           0.000000\n",
      "lotsizesquarefeet               0.000000\n",
      "regionidcity                    0.000000\n",
      "yearbuilt                       0.000000\n",
      "logerror                        0.000000\n"
     ]
    }
   ],
   "source": [
    "train_df_na = (train_df.isnull().sum() / len(train_df)) * 100\n",
    "train_df_na = train_df_na.sort_values(ascending=False)\n",
    "#train_df_na = train_df_na.drop(train_df_na[train_df_na == 0].index).sort_values(ascending=False)\n",
    "NA_data = pd.DataFrame({'NA_percent' :train_df_na})\n",
    "print(NA_data)"
   ]
  },
  {
   "cell_type": "code",
   "execution_count": 39,
   "metadata": {
    "_cell_guid": "1e85c60a-cd58-4efb-ad15-3658b8d22f26",
    "_uuid": "c96c650901fb98508c5bde4bc2f3068fab2a1ff1",
    "collapsed": false
   },
   "outputs": [
    {
     "name": "stdout",
     "output_type": "stream",
     "text": [
      "<class 'pandas.core.frame.DataFrame'>\n",
      "Int64Index: 167888 entries, 0 to 77612\n",
      "Data columns (total 19 columns):\n",
      "logerror                        167888 non-null float64\n",
      "bathroomcnt                     167854 non-null float64\n",
      "bedroomcnt                      167854 non-null float64\n",
      "calculatedbathnbr               166056 non-null float64\n",
      "calculatedfinishedsquarefeet    167888 non-null float64\n",
      "finishedsquarefeet12            159519 non-null float64\n",
      "fips                            167854 non-null float64\n",
      "fullbathcnt                     166056 non-null float64\n",
      "lotsizesquarefeet               167888 non-null float64\n",
      "propertylandusetypeid           167888 non-null object\n",
      "regionidcity                    167888 non-null float64\n",
      "regionidzip                     167769 non-null float64\n",
      "roomcnt                         167854 non-null float64\n",
      "yearbuilt                       167888 non-null float64\n",
      "structuretaxvaluedollarcnt      167359 non-null float64\n",
      "taxvaluedollarcnt               167852 non-null float64\n",
      "landtaxvaluedollarcnt           167851 non-null float64\n",
      "taxamount                       167843 non-null float64\n",
      "random_laplace_constant         167888 non-null float64\n",
      "dtypes: float64(18), object(1)\n",
      "memory usage: 25.6+ MB\n"
     ]
    }
   ],
   "source": [
    "train_df.info()"
   ]
  },
  {
   "cell_type": "code",
   "execution_count": 40,
   "metadata": {
    "_cell_guid": "31bc3617-51ff-454c-a3d6-4e47a4ca424a",
    "_uuid": "ff62901c5ad64ad5f7792799e4106eaaf546f659",
    "collapsed": true
   },
   "outputs": [],
   "source": [
    "train_df['count_region'] =  train_df.groupby('regionidcity')['regionidcity'].transform('count')\n",
    "test_df['count_region'] =  test_df.groupby('regionidcity')['regionidcity'].transform('count')"
   ]
  },
  {
   "cell_type": "code",
   "execution_count": 41,
   "metadata": {
    "_cell_guid": "9a7248c3-f579-44f1-b4f9-717a6cccec15",
    "_uuid": "3721f3b443be04a3cf35eccff1a2e6cb64973b99",
    "collapsed": false
   },
   "outputs": [
    {
     "data": {
      "text/html": [
       "<div>\n",
       "<style scoped>\n",
       "    .dataframe tbody tr th:only-of-type {\n",
       "        vertical-align: middle;\n",
       "    }\n",
       "\n",
       "    .dataframe tbody tr th {\n",
       "        vertical-align: top;\n",
       "    }\n",
       "\n",
       "    .dataframe thead th {\n",
       "        text-align: right;\n",
       "    }\n",
       "</style>\n",
       "<table border=\"1\" class=\"dataframe\">\n",
       "  <thead>\n",
       "    <tr style=\"text-align: right;\">\n",
       "      <th></th>\n",
       "      <th>logerror</th>\n",
       "      <th>bathroomcnt</th>\n",
       "      <th>bedroomcnt</th>\n",
       "      <th>calculatedbathnbr</th>\n",
       "      <th>calculatedfinishedsquarefeet</th>\n",
       "      <th>finishedsquarefeet12</th>\n",
       "      <th>fips</th>\n",
       "      <th>fullbathcnt</th>\n",
       "      <th>lotsizesquarefeet</th>\n",
       "      <th>propertylandusetypeid</th>\n",
       "      <th>regionidcity</th>\n",
       "      <th>regionidzip</th>\n",
       "      <th>roomcnt</th>\n",
       "      <th>yearbuilt</th>\n",
       "      <th>structuretaxvaluedollarcnt</th>\n",
       "      <th>taxvaluedollarcnt</th>\n",
       "      <th>landtaxvaluedollarcnt</th>\n",
       "      <th>taxamount</th>\n",
       "      <th>random_laplace_constant</th>\n",
       "      <th>count_region</th>\n",
       "    </tr>\n",
       "  </thead>\n",
       "  <tbody>\n",
       "    <tr>\n",
       "      <th>0</th>\n",
       "      <td>0.0276</td>\n",
       "      <td>2.0</td>\n",
       "      <td>3.0</td>\n",
       "      <td>2.0</td>\n",
       "      <td>1684.0</td>\n",
       "      <td>1684.0</td>\n",
       "      <td>6037.0</td>\n",
       "      <td>2.0</td>\n",
       "      <td>7528.0</td>\n",
       "      <td>261.0</td>\n",
       "      <td>12447.0</td>\n",
       "      <td>96370.0</td>\n",
       "      <td>0.0</td>\n",
       "      <td>1959.0</td>\n",
       "      <td>122754.0</td>\n",
       "      <td>360170.0</td>\n",
       "      <td>237416.0</td>\n",
       "      <td>6735.88</td>\n",
       "      <td>-0.087983</td>\n",
       "      <td>38562.0</td>\n",
       "    </tr>\n",
       "    <tr>\n",
       "      <th>1</th>\n",
       "      <td>-0.1684</td>\n",
       "      <td>3.5</td>\n",
       "      <td>4.0</td>\n",
       "      <td>3.5</td>\n",
       "      <td>2263.0</td>\n",
       "      <td>2263.0</td>\n",
       "      <td>6059.0</td>\n",
       "      <td>3.0</td>\n",
       "      <td>3643.0</td>\n",
       "      <td>261.0</td>\n",
       "      <td>32380.0</td>\n",
       "      <td>96962.0</td>\n",
       "      <td>0.0</td>\n",
       "      <td>2014.0</td>\n",
       "      <td>346458.0</td>\n",
       "      <td>585529.0</td>\n",
       "      <td>239071.0</td>\n",
       "      <td>10153.02</td>\n",
       "      <td>0.182061</td>\n",
       "      <td>1507.0</td>\n",
       "    </tr>\n",
       "    <tr>\n",
       "      <th>2</th>\n",
       "      <td>-0.0040</td>\n",
       "      <td>3.0</td>\n",
       "      <td>2.0</td>\n",
       "      <td>3.0</td>\n",
       "      <td>2217.0</td>\n",
       "      <td>2217.0</td>\n",
       "      <td>6037.0</td>\n",
       "      <td>3.0</td>\n",
       "      <td>11423.0</td>\n",
       "      <td>261.0</td>\n",
       "      <td>47019.0</td>\n",
       "      <td>96293.0</td>\n",
       "      <td>0.0</td>\n",
       "      <td>1940.0</td>\n",
       "      <td>61994.0</td>\n",
       "      <td>119906.0</td>\n",
       "      <td>57912.0</td>\n",
       "      <td>11484.48</td>\n",
       "      <td>0.086854</td>\n",
       "      <td>2154.0</td>\n",
       "    </tr>\n",
       "    <tr>\n",
       "      <th>3</th>\n",
       "      <td>0.0218</td>\n",
       "      <td>2.0</td>\n",
       "      <td>2.0</td>\n",
       "      <td>2.0</td>\n",
       "      <td>839.0</td>\n",
       "      <td>839.0</td>\n",
       "      <td>6037.0</td>\n",
       "      <td>2.0</td>\n",
       "      <td>70859.0</td>\n",
       "      <td>266.0</td>\n",
       "      <td>12447.0</td>\n",
       "      <td>96222.0</td>\n",
       "      <td>0.0</td>\n",
       "      <td>1987.0</td>\n",
       "      <td>171518.0</td>\n",
       "      <td>244880.0</td>\n",
       "      <td>73362.0</td>\n",
       "      <td>3048.74</td>\n",
       "      <td>0.159227</td>\n",
       "      <td>38562.0</td>\n",
       "    </tr>\n",
       "    <tr>\n",
       "      <th>4</th>\n",
       "      <td>-0.0050</td>\n",
       "      <td>2.5</td>\n",
       "      <td>4.0</td>\n",
       "      <td>2.5</td>\n",
       "      <td>2283.0</td>\n",
       "      <td>2283.0</td>\n",
       "      <td>6059.0</td>\n",
       "      <td>2.0</td>\n",
       "      <td>6000.0</td>\n",
       "      <td>261.0</td>\n",
       "      <td>17686.0</td>\n",
       "      <td>96961.0</td>\n",
       "      <td>8.0</td>\n",
       "      <td>1981.0</td>\n",
       "      <td>169574.0</td>\n",
       "      <td>434551.0</td>\n",
       "      <td>264977.0</td>\n",
       "      <td>5488.96</td>\n",
       "      <td>0.412309</td>\n",
       "      <td>665.0</td>\n",
       "    </tr>\n",
       "  </tbody>\n",
       "</table>\n",
       "</div>"
      ],
      "text/plain": [
       "   logerror  bathroomcnt  bedroomcnt  calculatedbathnbr  \\\n",
       "0    0.0276          2.0         3.0                2.0   \n",
       "1   -0.1684          3.5         4.0                3.5   \n",
       "2   -0.0040          3.0         2.0                3.0   \n",
       "3    0.0218          2.0         2.0                2.0   \n",
       "4   -0.0050          2.5         4.0                2.5   \n",
       "\n",
       "   calculatedfinishedsquarefeet  finishedsquarefeet12    fips  fullbathcnt  \\\n",
       "0                        1684.0                1684.0  6037.0          2.0   \n",
       "1                        2263.0                2263.0  6059.0          3.0   \n",
       "2                        2217.0                2217.0  6037.0          3.0   \n",
       "3                         839.0                 839.0  6037.0          2.0   \n",
       "4                        2283.0                2283.0  6059.0          2.0   \n",
       "\n",
       "   lotsizesquarefeet propertylandusetypeid  regionidcity  regionidzip  \\\n",
       "0             7528.0                 261.0       12447.0      96370.0   \n",
       "1             3643.0                 261.0       32380.0      96962.0   \n",
       "2            11423.0                 261.0       47019.0      96293.0   \n",
       "3            70859.0                 266.0       12447.0      96222.0   \n",
       "4             6000.0                 261.0       17686.0      96961.0   \n",
       "\n",
       "   roomcnt  yearbuilt  structuretaxvaluedollarcnt  taxvaluedollarcnt  \\\n",
       "0      0.0     1959.0                    122754.0           360170.0   \n",
       "1      0.0     2014.0                    346458.0           585529.0   \n",
       "2      0.0     1940.0                     61994.0           119906.0   \n",
       "3      0.0     1987.0                    171518.0           244880.0   \n",
       "4      8.0     1981.0                    169574.0           434551.0   \n",
       "\n",
       "   landtaxvaluedollarcnt  taxamount  random_laplace_constant  count_region  \n",
       "0               237416.0    6735.88                -0.087983       38562.0  \n",
       "1               239071.0   10153.02                 0.182061        1507.0  \n",
       "2                57912.0   11484.48                 0.086854        2154.0  \n",
       "3                73362.0    3048.74                 0.159227       38562.0  \n",
       "4               264977.0    5488.96                 0.412309         665.0  "
      ]
     },
     "execution_count": 41,
     "metadata": {},
     "output_type": "execute_result"
    }
   ],
   "source": [
    "train_df.head()"
   ]
  },
  {
   "cell_type": "code",
   "execution_count": 42,
   "metadata": {
    "_cell_guid": "284d157e-3a30-48d7-8f12-5062b8a5d53d",
    "_uuid": "27de1923115cc7d20122c225a613509421f94900",
    "collapsed": true
   },
   "outputs": [],
   "source": [
    "train_df['supervised_ratio_region'] = train_df['count_region'] / len(train_df)\n",
    "test_df['supervised_ratio_region'] = test_df['count_region'] / len(test_df)\n",
    "#https://www.kdnuggets.com/2016/08/include-high-cardinality-attributes-predictive-model.html"
   ]
  },
  {
   "cell_type": "markdown",
   "metadata": {
    "_cell_guid": "af77b609-60c5-40b7-b857-939a1047ce1b",
    "_uuid": "301e05b37391fd7ded21005a0bfdc1fc6e4e19c7",
    "collapsed": true
   },
   "source": [
    "train_df['count_zip'] =  train_df.groupby('regionidzip')['regionidzip'].transform('count')\n",
    "train_df['supervised_ratio_zip'] = train_df['count_zip'] / len(train_df)"
   ]
  },
  {
   "cell_type": "code",
   "execution_count": 43,
   "metadata": {
    "_cell_guid": "01a6f45a-7d29-4bb5-ac0a-bd2a661ff751",
    "_uuid": "c9f811ae01f95f2b6b6fb28e92333f2055e619ec",
    "collapsed": true
   },
   "outputs": [],
   "source": [
    "# We will use this for a constant in binning to prevent overfitting\n",
    "train_df['supervised_ratio_region_laplace'] = train_df['supervised_ratio_region'] + train_df['random_laplace_constant']\n",
    "test_df['supervised_ratio_region_laplace'] = test_df['supervised_ratio_region']\n",
    "#train_df['supervised_ratio_zip_laplace'] = train_df['supervised_ratio_zip'] + train_df['random_laplace_constant'] "
   ]
  },
  {
   "cell_type": "code",
   "execution_count": 44,
   "metadata": {
    "_cell_guid": "d99afb1d-37f4-4234-b08d-84479a8bfb5e",
    "_uuid": "cedde2461866252579bde47a3830920a96bdc2db",
    "collapsed": true
   },
   "outputs": [],
   "source": [
    "quantiles = [0, .25, .5, .75, 1.] \n",
    "names = ['First', 'Second', 'Third', 'Fourth']\n",
    "train_df['quantile_bin_region'] = pd.qcut(train_df['supervised_ratio_region_laplace'], quantiles, \n",
    "                                       labels=names, retbins=False, precision=3)\n",
    "test_df['quantile_bin_region'] = pd.qcut(test_df['supervised_ratio_region_laplace'], quantiles, \n",
    "                                       labels=names, retbins=False, precision=3)\n"
   ]
  },
  {
   "cell_type": "markdown",
   "metadata": {
    "_cell_guid": "203d99f2-0d61-4b98-ac12-768f2930a286",
    "_uuid": "4674049b83202d760d946c19c26d0e11a2cbbadf"
   },
   "source": [
    "train_df['quantile_zip_region'] = pd.qcut(train_df['supervised_ratio_zip_laplace'], quantiles, \n",
    "                                       labels=names, retbins=False, precision=3)"
   ]
  },
  {
   "cell_type": "code",
   "execution_count": 45,
   "metadata": {
    "_cell_guid": "eb5afc66-e853-48b3-b2d4-891d63be93c4",
    "_uuid": "ee245d2e0369f53714e76381f081b04f0e986cdf",
    "collapsed": true
   },
   "outputs": [],
   "source": [
    "names = ['(1823.999, 1953.0]', '(1953.0, 1970.0]', '(1970.0, 1987.0]', '(1987.0, 2016.0]']\n",
    "\n",
    "train_df['yearbuilt_quantile'] = pd.qcut(train_df['yearbuilt'], quantiles,\n",
    "         retbins=False, precision=3)     \n",
    "test_df['yearbuilt_quantile'] = pd.qcut(test_df['yearbuilt'], quantiles, labels=names,\n",
    "         retbins=False, precision=3)     "
   ]
  },
  {
   "cell_type": "code",
   "execution_count": 46,
   "metadata": {
    "_cell_guid": "85e8dbce-4583-40ad-a6da-2d73698f791e",
    "_uuid": "ff24d95d93eb8b724428930952970a58f7db4c5c",
    "collapsed": true
   },
   "outputs": [],
   "source": [
    "train_df['total_square_footage'] = train_df.calculatedfinishedsquarefeet + train_df.lotsizesquarefeet\n",
    "test_df['total_square_footage'] = test_df.calculatedfinishedsquarefeet + test_df.lotsizesquarefeet"
   ]
  },
  {
   "cell_type": "code",
   "execution_count": 47,
   "metadata": {
    "_cell_guid": "bb809c4f-900a-436b-973e-0b7befc3eb25",
    "_uuid": "9a714e27b0c9447252d13f7dde8817a2b7e1f922",
    "collapsed": false
   },
   "outputs": [
    {
     "name": "stdout",
     "output_type": "stream",
     "text": [
      "<class 'pandas.core.frame.DataFrame'>\n",
      "Int64Index: 167888 entries, 0 to 77612\n",
      "Data columns (total 25 columns):\n",
      "logerror                           167888 non-null float64\n",
      "bathroomcnt                        167854 non-null float64\n",
      "bedroomcnt                         167854 non-null float64\n",
      "calculatedbathnbr                  166056 non-null float64\n",
      "calculatedfinishedsquarefeet       167888 non-null float64\n",
      "finishedsquarefeet12               159519 non-null float64\n",
      "fips                               167854 non-null float64\n",
      "fullbathcnt                        166056 non-null float64\n",
      "lotsizesquarefeet                  167888 non-null float64\n",
      "propertylandusetypeid              167888 non-null object\n",
      "regionidcity                       167888 non-null float64\n",
      "regionidzip                        167769 non-null float64\n",
      "roomcnt                            167854 non-null float64\n",
      "yearbuilt                          167888 non-null float64\n",
      "structuretaxvaluedollarcnt         167359 non-null float64\n",
      "taxvaluedollarcnt                  167852 non-null float64\n",
      "landtaxvaluedollarcnt              167851 non-null float64\n",
      "taxamount                          167843 non-null float64\n",
      "random_laplace_constant            167888 non-null float64\n",
      "count_region                       167888 non-null float64\n",
      "supervised_ratio_region            167888 non-null float64\n",
      "supervised_ratio_region_laplace    167888 non-null float64\n",
      "quantile_bin_region                167888 non-null category\n",
      "yearbuilt_quantile                 167888 non-null category\n",
      "total_square_footage               167888 non-null float64\n",
      "dtypes: category(2), float64(22), object(1)\n",
      "memory usage: 31.1+ MB\n"
     ]
    }
   ],
   "source": [
    "train_df.info()"
   ]
  },
  {
   "cell_type": "code",
   "execution_count": 48,
   "metadata": {
    "_cell_guid": "ac5a4a3d-67e3-4e94-bf44-6cddfde826f7",
    "_uuid": "27230ffee873326514a2be432cebc65579ae5717",
    "collapsed": true
   },
   "outputs": [],
   "source": [
    "train_df_eda = train_df.copy()"
   ]
  },
  {
   "cell_type": "code",
   "execution_count": 49,
   "metadata": {
    "_cell_guid": "4da31add-e8f3-4f42-9b59-05701dcdb0f5",
    "_uuid": "a5b7bd1c96b192c7e7a717cbe9fd47330b05bb09",
    "collapsed": true
   },
   "outputs": [],
   "source": [
    "# remove categorical variables and variables used for feature engineering\n",
    "drop = []\n",
    "drop = ['finishedsquarefeet12', 'lotsizesquarefeet','calculatedfinishedsquarefeet',\n",
    "                       'regionidcity','regionidzip','random_laplace_constant','count_region',\n",
    "                       'supervised_ratio_region', 'supervised_ratio_region_laplace',\n",
    "                       'fips', 'yearbuilt']\n",
    "for dataset in data_cleaner:    \n",
    "    dataset.drop(drop, axis=1, inplace = True)"
   ]
  },
  {
   "cell_type": "code",
   "execution_count": null,
   "metadata": {
    "_cell_guid": "9e4e3c48-a5c5-4437-aae8-8c3bd100c2ac",
    "_uuid": "0b3e7409f5d7ab9a03f9087263e98fa0404e3f0c",
    "collapsed": false
   },
   "outputs": [],
   "source": [
    "train_df.info()"
   ]
  },
  {
   "cell_type": "markdown",
   "metadata": {
    "_cell_guid": "6f878628-578d-4835-8f33-54b8cd8c1343",
    "_uuid": "bcc488ccb1e47edf9f141d7587d2bdbf85fd28fa",
    "collapsed": true
   },
   "source": [
    "a = pd.DataFrame(train_df['regionidcity'])\n",
    "train_df['regionidcity']\n",
    "a = a.to_dict('records')"
   ]
  },
  {
   "cell_type": "markdown",
   "metadata": {
    "_cell_guid": "ac01e317-e168-42ae-92c0-19c935a9d47d",
    "_uuid": "c28fb34f549de1ffd51a4c61b447eacf3ba2da03",
    "collapsed": true
   },
   "source": [
    "drop_column2 = ['regionidcity',] \n",
    "train_df.drop(drop_column2, axis=1, inplace = True)"
   ]
  },
  {
   "cell_type": "markdown",
   "metadata": {
    "_cell_guid": "b81ad77a-58f2-4f88-8896-d4e9febaef6a",
    "_uuid": "9a321d7f4480de3d915014f3f4dbdeb36ce7e484",
    "collapsed": true
   },
   "source": [
    "from sklearn.feature_extraction import FeatureHasher\n",
    "fh = FeatureHasher(n_features=m)\n",
    "hashed_features = fh.transform(a)\n",
    "hashed_features = hashed_features.toarray()\n",
    "hashed_df = pd.DataFrame(hashed_features)\n",
    "train_df_hash = pd.concat([train_df, hashed_df], join='inner', axis = 1)\n",
    "#FH.transform(test['type'].tolist())\n"
   ]
  },
  {
   "cell_type": "markdown",
   "metadata": {
    "_cell_guid": "4a9530b1-52ae-4e67-8ee2-823b5c9f0787",
    "_uuid": "c48cb1ec0ce23a691e1f1540f8d2efe20b518fcb",
    "collapsed": true
   },
   "source": [
    "train_df_hash.info()"
   ]
  },
  {
   "cell_type": "markdown",
   "metadata": {
    "_cell_guid": "db9349f2-46be-4729-9586-e276f2145ac8",
    "_uuid": "56cc2edfb629c614c04f9ae670afebbf1069bc40"
   },
   "source": [
    "train_df = train_df.replace(np.nan, 0)\n",
    "#print(train_df.head())\n",
    "#hashed_features = pd.DataFrame(hashed_features)\n",
    "#hashed_df = pd.DataFrame({'hashed' :hashed_features})\n",
    "#print(hashed_df)"
   ]
  },
  {
   "cell_type": "markdown",
   "metadata": {
    "_cell_guid": "a99b89f4-01c4-4256-ab90-86e59fd1c284",
    "_uuid": "bac0b0862671aa958daa113301a6ffa6e03506a6"
   },
   "source": [
    "data_without_categoricals = train_df.iloc[:,:18]"
   ]
  },
  {
   "cell_type": "code",
   "execution_count": 50,
   "metadata": {
    "_cell_guid": "a4b48842-f319-4fdd-b2f9-02cac38b1990",
    "_uuid": "c1bcb40353613a3aa36fadd98ca25e5e7454f5f4",
    "collapsed": true
   },
   "outputs": [],
   "source": [
    "one_hot_encoded_train_df = pd.get_dummies(train_df)\n",
    "one_hot_encoded_test_df = pd.get_dummies(test_df)\n",
    "train_df, test_df = one_hot_encoded_train_df.align(one_hot_encoded_test_df,\n",
    "                                                                    join='left', \n",
    "                                                                    axis=1)"
   ]
  },
  {
   "cell_type": "markdown",
   "metadata": {
    "_cell_guid": "e8f984aa-13bc-43e5-8c60-fb0949e3a7a5",
    "_uuid": "eab51237f8a8541a4e991f14900bc5fa7c57c35b",
    "collapsed": true
   },
   "source": [
    "data_without_categoricals =data_without_categoricals.select_dtypes(exclude=['object'])\n",
    "\n",
    "data_without_categoricals = my_imputer.fit_transform(data_without_categoricals)\n",
    "#data_without_categoricals = pd.DataFrame(data_without_categoricals, \n",
    " #                                        columns = data_without_categoricals.columns)\n"
   ]
  },
  {
   "cell_type": "markdown",
   "metadata": {
    "_cell_guid": "2d3873fe-f969-4355-8ea2-3ca8c06b600f",
    "_uuid": "dcb5671730f84862c250655f7f44fd143e1649e1",
    "collapsed": true
   },
   "source": [
    "data_with_categoricals = my_imputer.fit_transform(train_df)\n",
    "#data_with_categoricals = pd.DataFrame(data_with_categoricals, columns = train_df.columns)"
   ]
  },
  {
   "cell_type": "markdown",
   "metadata": {
    "_cell_guid": "7880a199-2fd8-420e-9eac-0e7146290d9d",
    "_uuid": "4b675a9ece5a2f0fef172ccb08f62c23cbf3b6c8",
    "collapsed": true
   },
   "source": [
    "X_train, X_test, y_train, y_test = train_test_split = \\\n",
    "    train_test_split(final_train, y, test_size=0.3, random_state=42)\n",
    "    \n",
    "X_train_imputed = my_imputer.fit_transform(X_train)\n",
    "X_train_imputed = pd.DataFrame(X_train_imputed, columns = X_train.columns)\n",
    "#X_train = pd.DataFrame(X_train)"
   ]
  },
  {
   "cell_type": "markdown",
   "metadata": {
    "_cell_guid": "2c89186d-c342-40ba-bc6d-e42ec378f00f",
    "_uuid": "520b82b09866cb4f9915949c8916d4a1c42ad06e",
    "collapsed": true
   },
   "source": [
    "cv_results = cross_val_score(RF_clf, data_without_categoricals, y, cv=kfold, scoring=scoring)"
   ]
  },
  {
   "cell_type": "markdown",
   "metadata": {
    "_cell_guid": "c4ae8959-c901-43ce-b0d1-5df0ac4ee682",
    "_uuid": "b5b2c53d4fda04a1f9af1b332e18ed558bebc415",
    "collapsed": true
   },
   "source": [
    "msg = (\"%f (%f)\" % (cv_results.mean(), cv_results.std()))\n",
    "print(msg)"
   ]
  },
  {
   "cell_type": "markdown",
   "metadata": {
    "_cell_guid": "f5dbfd46-bf00-4375-8597-d96f6a5b5bd0",
    "_uuid": "bc2ec3187e3f707734bd9890eda08de7223fc99b"
   },
   "source": [
    "cv_results = cross_val_score(RF_clf, data_with_categoricals, y, cv=kfold, scoring=scoring)\n",
    "msg = (\"%f (%f)\" % (cv_results.mean(), cv_results.std()))\n",
    "print(msg)"
   ]
  },
  {
   "cell_type": "markdown",
   "metadata": {
    "_cell_guid": "a18ba0e1-fed5-4680-9760-ea6c47fd4657",
    "_uuid": "fcf53fbaa6554a91645512827814726f54cac17a"
   },
   "source": [
    "The align command makes sure the columns show up in the same order in both datasets (it uses column names to identify which columns line up in each dataset.) The argument join='left' specifies that we will do the equivalent of SQL's left join. That means, if there are ever columns that show up in one dataset and not the other, we will keep exactly the columns from our training data. The argument join='inner' would do what SQL databases call an inner join, keeping only the columns showing up in both datasets. That's also a sensible choice."
   ]
  },
  {
   "cell_type": "markdown",
   "metadata": {
    "_cell_guid": "c46f4127-70a1-4be0-8acf-65032e80a941",
    "_uuid": "d7d1d591a784b1ed7c73cb7f0639a163a0260d80",
    "collapsed": true
   },
   "source": [
    "RF_clf.fit(X_train_imputed, y_train)"
   ]
  },
  {
   "cell_type": "markdown",
   "metadata": {
    "_cell_guid": "19dc4c0e-8925-4708-b846-637fdc0f61f3",
    "_uuid": "f744a55c728944655c55423834f6f1db804e26d6"
   },
   "source": [
    "more_columns_to_drop = ['finishedsquarefeet12', 'lotsizesquarefeet','calculatedfinishedsquarefeet',\n",
    "                       'regionidcity','regionidzip','random_laplace_constant','count_region',\n",
    "                       'supervised_ratio_region','count_zip','supervised_ratio_zip', 'supervised_ratio_region_laplace',\n",
    "                       'supervised_ratio_zip_laplace', 'fips','assessmentyear', 'yearbuilt']"
   ]
  },
  {
   "cell_type": "code",
   "execution_count": null,
   "metadata": {
    "_cell_guid": "65ab67ae-ec72-42d9-8e0f-6e6508c1d906",
    "_uuid": "9669c2388a7318fcd5bb6dd85a581b052175b366",
    "collapsed": true
   },
   "outputs": [],
   "source": [
    "\n",
    "#columns_to_remove.extend(more_columns_to_drop)\n",
    "#data_cleaner = [train_df, test_df]\n",
    "## Update test\n",
    "###COMPLETING: complete or delete missing values in train and test/validation dataset\n",
    "#for dataset in data_cleaner:    \n",
    "#    dataset.drop(columns_to_remove, axis=1, inplace = True)\n"
   ]
  },
  {
   "cell_type": "markdown",
   "metadata": {
    "_cell_guid": "b3e263bc-0e55-49d5-960a-68b40e9e16a5",
    "_uuid": "a284b9d5cc3c8765a9984d266dd59b0db7335c04",
    "collapsed": true
   },
   "source": [
    "train_df_reduced = my_imputer.fit_transform(train_df)\n",
    "cv_results = cross_val_score(RF_clf, train_df_reduced, y, cv=kfold, scoring=scoring)\n",
    "msg = (\"%f (%f)\" % (cv_results.mean(), cv_results.std()))\n",
    "print(\"Score with Categoricals and reduced\")\n",
    "print(msg)"
   ]
  },
  {
   "cell_type": "markdown",
   "metadata": {
    "_cell_guid": "dfc84ada-e22a-4c1b-ad5b-5bc14feb5ffe",
    "_uuid": "86f0ca67b7dfa91243930c8ed52048201ad8d62e",
    "collapsed": true
   },
   "source": [
    "pd.tools.plotting.scatter_matrix(train_df.iloc[:,0:5], diagonal=\"kde\")\n",
    "plt.tight_layout()\n",
    "plt.show()\n"
   ]
  },
  {
   "cell_type": "code",
   "execution_count": 51,
   "metadata": {
    "_cell_guid": "795b322e-7ee3-413a-8f9f-805434e17bfc",
    "_uuid": "fe5ecd3665182684a16e63964dd644a5718b31f7",
    "collapsed": false
   },
   "outputs": [
    {
     "name": "stdout",
     "output_type": "stream",
     "text": [
      "<class 'pandas.core.frame.DataFrame'>\n",
      "Int64Index: 167888 entries, 0 to 77612\n",
      "Data columns (total 34 columns):\n",
      "logerror                                 167888 non-null float64\n",
      "bathroomcnt                              167854 non-null float64\n",
      "bedroomcnt                               167854 non-null float64\n",
      "calculatedbathnbr                        166056 non-null float64\n",
      "fullbathcnt                              166056 non-null float64\n",
      "roomcnt                                  167854 non-null float64\n",
      "structuretaxvaluedollarcnt               167359 non-null float64\n",
      "taxvaluedollarcnt                        167852 non-null float64\n",
      "landtaxvaluedollarcnt                    167851 non-null float64\n",
      "taxamount                                167843 non-null float64\n",
      "total_square_footage                     167888 non-null float64\n",
      "propertylandusetypeid_246.0              167888 non-null uint8\n",
      "propertylandusetypeid_247.0              167888 non-null uint8\n",
      "propertylandusetypeid_248.0              167888 non-null uint8\n",
      "propertylandusetypeid_260.0              167888 non-null uint8\n",
      "propertylandusetypeid_261.0              167888 non-null uint8\n",
      "propertylandusetypeid_263.0              167888 non-null uint8\n",
      "propertylandusetypeid_264.0              167888 non-null uint8\n",
      "propertylandusetypeid_265.0              167888 non-null uint8\n",
      "propertylandusetypeid_266.0              167888 non-null uint8\n",
      "propertylandusetypeid_267.0              167888 non-null uint8\n",
      "propertylandusetypeid_269.0              167888 non-null uint8\n",
      "propertylandusetypeid_275.0              167888 non-null uint8\n",
      "propertylandusetypeid_31.0               167888 non-null uint8\n",
      "propertylandusetypeid_47.0               167888 non-null uint8\n",
      "propertylandusetypeid_nan                167888 non-null uint8\n",
      "quantile_bin_region_First                167888 non-null uint8\n",
      "quantile_bin_region_Second               167888 non-null uint8\n",
      "quantile_bin_region_Third                167888 non-null uint8\n",
      "quantile_bin_region_Fourth               167888 non-null uint8\n",
      "yearbuilt_quantile_(1823.999, 1953.0]    167888 non-null uint8\n",
      "yearbuilt_quantile_(1953.0, 1970.0]      167888 non-null uint8\n",
      "yearbuilt_quantile_(1970.0, 1987.0]      167888 non-null uint8\n",
      "yearbuilt_quantile_(1987.0, 2016.0]      167888 non-null uint8\n",
      "dtypes: float64(11), uint8(23)\n",
      "memory usage: 19.1 MB\n"
     ]
    }
   ],
   "source": [
    "train_df.info()"
   ]
  },
  {
   "cell_type": "code",
   "execution_count": 52,
   "metadata": {
    "_cell_guid": "6bc5ede8-1f16-4b69-bc57-755e8515b8eb",
    "_uuid": "573cfcd2422a65f671afee4579a573ae734f7f18",
    "collapsed": false
   },
   "outputs": [
    {
     "data": {
      "text/plain": [
       "<matplotlib.axes._subplots.AxesSubplot at 0x5b8ea58>"
      ]
     },
     "execution_count": 52,
     "metadata": {},
     "output_type": "execute_result"
    },
    {
     "data": {
      "image/png": "[encoded data removed]",
      "text/plain": [
       "<matplotlib.figure.Figure at 0x5b84940>"
      ]
     },
     "metadata": {},
     "output_type": "display_data"
    }
   ],
   "source": [
    "colormap = plt.cm.RdBu\n",
    "plt.figure(figsize=(8,12))\n",
    "plt.title('Pearson Correlation of Features', y=1.05, size=15)\n",
    "sns.heatmap(train_df.iloc[:,0:11].astype(float).corr(),linewidths=0.1,vmax=1.0, \n",
    "            square=True, cmap=colormap, linecolor='white', annot=True)\n"
   ]
  },
  {
   "cell_type": "code",
   "execution_count": 53,
   "metadata": {
    "_cell_guid": "c9e3b6fb-7c4c-4052-ab2b-a66b3ee7a126",
    "_uuid": "979be67fb99797742c5e25e3065e70ca9ecd459b",
    "collapsed": false
   },
   "outputs": [
    {
     "name": "stdout",
     "output_type": "stream",
     "text": [
      "            logerror    bathroomcnt     bedroomcnt  calculatedbathnbr  \\\n",
      "count  167888.000000  167854.000000  167854.000000      166056.000000   \n",
      "mean        0.013906       2.288265       3.041739           2.312542   \n",
      "std         0.165706       1.000835       1.149134           0.977808   \n",
      "min        -4.655420       0.000000       0.000000           1.000000   \n",
      "25%        -0.025300       2.000000       2.000000           2.000000   \n",
      "50%         0.006000       2.000000       3.000000           2.000000   \n",
      "75%         0.039200       3.000000       4.000000           3.000000   \n",
      "max         5.262999      20.000000      16.000000          20.000000   \n",
      "\n",
      "         fullbathcnt        roomcnt  structuretaxvaluedollarcnt  \\\n",
      "count  166056.000000  167854.000000                1.673590e+05   \n",
      "mean        2.245345       1.477480                1.843460e+05   \n",
      "std         0.964703       2.821496                2.192841e+05   \n",
      "min         1.000000       0.000000                4.400000e+01   \n",
      "25%         2.000000       0.000000                8.256800e+04   \n",
      "50%         2.000000       0.000000                1.340510e+05   \n",
      "75%         3.000000       0.000000                2.142570e+05   \n",
      "max        20.000000      18.000000                1.142179e+07   \n",
      "\n",
      "       taxvaluedollarcnt  landtaxvaluedollarcnt      taxamount  \\\n",
      "count       1.678520e+05           1.678510e+05  167843.000000   \n",
      "mean        4.726833e+05           2.888805e+05    5989.515575   \n",
      "std         6.028372e+05           4.456451e+05    7214.731946   \n",
      "min         2.200000e+01           2.200000e+01      19.920000   \n",
      "25%         2.026522e+05           8.373000e+04    2798.070000   \n",
      "50%         3.500000e+05           1.977760e+05    4501.040000   \n",
      "75%         5.540020e+05           3.553340e+05    6914.165000   \n",
      "max         4.906124e+07           4.895220e+07  586639.300000   \n",
      "\n",
      "       total_square_footage  \n",
      "count          1.678880e+05  \n",
      "mean           3.128923e+04  \n",
      "std            1.154952e+05  \n",
      "min            1.256000e+03  \n",
      "25%            7.451000e+03  \n",
      "50%            9.587000e+03  \n",
      "75%            2.449950e+04  \n",
      "max            6.972942e+06  \n"
     ]
    }
   ],
   "source": [
    "print(train_df.iloc[:,0:11].describe())"
   ]
  },
  {
   "cell_type": "code",
   "execution_count": 54,
   "metadata": {
    "_cell_guid": "5e363118-f70a-49ae-b9eb-32083c61ddde",
    "_uuid": "e816549bd5c8d6501f0512a0ba2c19964ba0e90e",
    "collapsed": true
   },
   "outputs": [],
   "source": [
    "more_columns_to_drop = []\n",
    "more_columns_to_drop = ['fullbathcnt', 'calculatedbathnbr', 'landtaxvaluedollarcnt', 'structuretaxvaluedollarcnt']\n",
    "  \n",
    "train_df.drop(more_columns_to_drop, axis=1, inplace = True)\n",
    "test_df.drop(more_columns_to_drop, axis=1, inplace = True)\n",
    "\n"
   ]
  },
  {
   "cell_type": "code",
   "execution_count": 55,
   "metadata": {
    "_cell_guid": "d0fe1873-bd9a-4a4b-8d98-6bd311b4e141",
    "_uuid": "9cf51fdf9966acd39ee4bb709b6296528554eae2",
    "collapsed": false
   },
   "outputs": [
    {
     "data": {
      "text/plain": [
       "<matplotlib.axes._subplots.AxesSubplot at 0x69204f28>"
      ]
     },
     "execution_count": 55,
     "metadata": {},
     "output_type": "execute_result"
    },
    {
     "data": {
      "image/png": "[encoded data removed]",
      "text/plain": [
       "<matplotlib.figure.Figure at 0x5b8e4e0>"
      ]
     },
     "metadata": {},
     "output_type": "display_data"
    }
   ],
   "source": [
    "colormap = plt.cm.RdBu\n",
    "plt.figure(figsize=(8,12))\n",
    "plt.title('Pearson Correlation of Features', y=1.05, size=15)\n",
    "sns.heatmap(train_df.iloc[:,0:7].astype(float).corr(),linewidths=0.1,vmax=1.0, \n",
    "            square=True, cmap=colormap, linecolor='white', annot=True)"
   ]
  },
  {
   "cell_type": "code",
   "execution_count": 56,
   "metadata": {
    "_cell_guid": "420625c1-0375-4042-a222-47412006866f",
    "_uuid": "f2c46834b944fa2f5fc1ea428b142ffa6c32b13d",
    "collapsed": false
   },
   "outputs": [
    {
     "name": "stderr",
     "output_type": "stream",
     "text": [
      "C:\\Users\\203014767\\.conda\\envs\\DAND\\lib\\site-packages\\seaborn\\categorical.py:454: FutureWarning: remove_na is deprecated and is a private function. Do not use.\n",
      "  box_data = remove_na(group_data)\n"
     ]
    },
    {
     "data": {
      "text/plain": [
       "<matplotlib.axes._subplots.AxesSubplot at 0x30c8da58>"
      ]
     },
     "execution_count": 56,
     "metadata": {},
     "output_type": "execute_result"
    },
    {
     "data": {
      "image/png": "[encoded data removed]",
      "text/plain": [
       "<matplotlib.figure.Figure at 0x5b846d8>"
      ]
     },
     "metadata": {},
     "output_type": "display_data"
    }
   ],
   "source": [
    "sns.boxplot(data = train_df.iloc[:,0:7], orient = 'h')"
   ]
  },
  {
   "cell_type": "code",
   "execution_count": 57,
   "metadata": {
    "_cell_guid": "e7348f7c-f4d8-42db-afd6-08707f8511f2",
    "_uuid": "d4db1b9be8d6f0f464f619b87264eb28c112a328",
    "collapsed": true
   },
   "outputs": [],
   "source": [
    "def outlier_removal(log_data):\n",
    "    outlierSet = set()\n",
    "    outliers_remove = set()\n",
    "\n",
    "    # For each feature find the data points with extreme high or low values\n",
    "    for feature in log_data.keys():\n",
    "\n",
    "        # TODO: Calculate Q1 (25th percentile of the data) for the given feature\n",
    "        Q1 = np.percentile(log_data[feature], 25)\n",
    "\n",
    "        # TODO: Calculate Q3 (75th percentile of the data) for the given feature\n",
    "        Q3 = np.percentile(log_data[feature], 75)\n",
    "\n",
    "        # TODO: Use the interquartile range to calculate an outlier step (1.5 times the interquartile range)\n",
    "        step = (Q3-Q1)*3\n",
    "#http://datapigtechnologies.com/blog/index.php/highlighting-outliers-in-your-data-with-the-tukey-method/\n",
    "\n",
    "        #Display the outliers\n",
    "        print(\"Data points considered outliers for the feature '{}':\".format(feature))\n",
    "        display(log_data[~((log_data[feature] >= Q1 - step) & (log_data[feature] <= Q3 + step))])\n",
    "\n",
    "        outliers_df = log_data[~((log_data[feature] >= Q1 - step) & (log_data[feature] <= Q3 + step))]\n",
    "        for i in outliers_df.index.values:\n",
    "\n",
    "            if i not in outlierSet:\n",
    "                outlierSet.add(i)\n",
    "            else:\n",
    "                outliers_remove.add(i)\n",
    "\n",
    "    #OPTIONAL: Select the indices for data points you wish to remove\n",
    "    outliers  = list(outliers_remove)\n",
    "    print(\"Outliers in more than one set: \\n\")\n",
    "    print(outliers)\n",
    "\n",
    "        #Remove the outliers, if any were specified\n",
    "    good_data = log_data.drop(log_data.index[outliers]).reset_index(drop = True)\n",
    "    return good_data"
   ]
  },
  {
   "cell_type": "code",
   "execution_count": 58,
   "metadata": {
    "_cell_guid": "86493748-8b65-47ad-be4b-45eeb47fd08e",
    "_uuid": "cec3d4452ba6b76781c7458e784650bb621957c3",
    "collapsed": false
   },
   "outputs": [
    {
     "name": "stdout",
     "output_type": "stream",
     "text": [
      "Data points considered outliers for the feature 'logerror':\n"
     ]
    },
    {
     "data": {
      "text/html": [
       "<div>\n",
       "<style scoped>\n",
       "    .dataframe tbody tr th:only-of-type {\n",
       "        vertical-align: middle;\n",
       "    }\n",
       "\n",
       "    .dataframe tbody tr th {\n",
       "        vertical-align: top;\n",
       "    }\n",
       "\n",
       "    .dataframe thead th {\n",
       "        text-align: right;\n",
       "    }\n",
       "</style>\n",
       "<table border=\"1\" class=\"dataframe\">\n",
       "  <thead>\n",
       "    <tr style=\"text-align: right;\">\n",
       "      <th></th>\n",
       "      <th>logerror</th>\n",
       "    </tr>\n",
       "  </thead>\n",
       "  <tbody>\n",
       "    <tr>\n",
       "      <th>5</th>\n",
       "      <td>-0.270500</td>\n",
       "    </tr>\n",
       "    <tr>\n",
       "      <th>10</th>\n",
       "      <td>0.382500</td>\n",
       "    </tr>\n",
       "    <tr>\n",
       "      <th>93</th>\n",
       "      <td>-0.245900</td>\n",
       "    </tr>\n",
       "    <tr>\n",
       "      <th>102</th>\n",
       "      <td>-0.409500</td>\n",
       "    </tr>\n",
       "    <tr>\n",
       "      <th>121</th>\n",
       "      <td>0.335800</td>\n",
       "    </tr>\n",
       "    <tr>\n",
       "      <th>124</th>\n",
       "      <td>-0.636800</td>\n",
       "    </tr>\n",
       "    <tr>\n",
       "      <th>132</th>\n",
       "      <td>-0.427700</td>\n",
       "    </tr>\n",
       "    <tr>\n",
       "      <th>158</th>\n",
       "      <td>0.382500</td>\n",
       "    </tr>\n",
       "    <tr>\n",
       "      <th>184</th>\n",
       "      <td>-0.343900</td>\n",
       "    </tr>\n",
       "    <tr>\n",
       "      <th>212</th>\n",
       "      <td>0.494100</td>\n",
       "    </tr>\n",
       "    <tr>\n",
       "      <th>277</th>\n",
       "      <td>-0.408000</td>\n",
       "    </tr>\n",
       "    <tr>\n",
       "      <th>281</th>\n",
       "      <td>0.492900</td>\n",
       "    </tr>\n",
       "    <tr>\n",
       "      <th>293</th>\n",
       "      <td>1.083000</td>\n",
       "    </tr>\n",
       "    <tr>\n",
       "      <th>303</th>\n",
       "      <td>-0.427700</td>\n",
       "    </tr>\n",
       "    <tr>\n",
       "      <th>313</th>\n",
       "      <td>-0.297100</td>\n",
       "    </tr>\n",
       "    <tr>\n",
       "      <th>315</th>\n",
       "      <td>0.262400</td>\n",
       "    </tr>\n",
       "    <tr>\n",
       "      <th>382</th>\n",
       "      <td>-0.254900</td>\n",
       "    </tr>\n",
       "    <tr>\n",
       "      <th>463</th>\n",
       "      <td>-0.342500</td>\n",
       "    </tr>\n",
       "    <tr>\n",
       "      <th>470</th>\n",
       "      <td>0.396800</td>\n",
       "    </tr>\n",
       "    <tr>\n",
       "      <th>472</th>\n",
       "      <td>0.314100</td>\n",
       "    </tr>\n",
       "    <tr>\n",
       "      <th>475</th>\n",
       "      <td>0.250800</td>\n",
       "    </tr>\n",
       "    <tr>\n",
       "      <th>494</th>\n",
       "      <td>0.745300</td>\n",
       "    </tr>\n",
       "    <tr>\n",
       "      <th>495</th>\n",
       "      <td>-0.355200</td>\n",
       "    </tr>\n",
       "    <tr>\n",
       "      <th>521</th>\n",
       "      <td>0.250000</td>\n",
       "    </tr>\n",
       "    <tr>\n",
       "      <th>541</th>\n",
       "      <td>-0.248500</td>\n",
       "    </tr>\n",
       "    <tr>\n",
       "      <th>547</th>\n",
       "      <td>0.347800</td>\n",
       "    </tr>\n",
       "    <tr>\n",
       "      <th>569</th>\n",
       "      <td>0.277600</td>\n",
       "    </tr>\n",
       "    <tr>\n",
       "      <th>601</th>\n",
       "      <td>-0.249700</td>\n",
       "    </tr>\n",
       "    <tr>\n",
       "      <th>626</th>\n",
       "      <td>0.279900</td>\n",
       "    </tr>\n",
       "    <tr>\n",
       "      <th>658</th>\n",
       "      <td>-0.320200</td>\n",
       "    </tr>\n",
       "    <tr>\n",
       "      <th>...</th>\n",
       "      <td>...</td>\n",
       "    </tr>\n",
       "    <tr>\n",
       "      <th>77053</th>\n",
       "      <td>0.418638</td>\n",
       "    </tr>\n",
       "    <tr>\n",
       "      <th>77066</th>\n",
       "      <td>0.252219</td>\n",
       "    </tr>\n",
       "    <tr>\n",
       "      <th>77075</th>\n",
       "      <td>-0.323309</td>\n",
       "    </tr>\n",
       "    <tr>\n",
       "      <th>77109</th>\n",
       "      <td>-0.238501</td>\n",
       "    </tr>\n",
       "    <tr>\n",
       "      <th>77142</th>\n",
       "      <td>0.380505</td>\n",
       "    </tr>\n",
       "    <tr>\n",
       "      <th>77148</th>\n",
       "      <td>0.691997</td>\n",
       "    </tr>\n",
       "    <tr>\n",
       "      <th>77175</th>\n",
       "      <td>0.509534</td>\n",
       "    </tr>\n",
       "    <tr>\n",
       "      <th>77184</th>\n",
       "      <td>0.555825</td>\n",
       "    </tr>\n",
       "    <tr>\n",
       "      <th>77189</th>\n",
       "      <td>-0.704179</td>\n",
       "    </tr>\n",
       "    <tr>\n",
       "      <th>77190</th>\n",
       "      <td>0.293386</td>\n",
       "    </tr>\n",
       "    <tr>\n",
       "      <th>77197</th>\n",
       "      <td>-0.554524</td>\n",
       "    </tr>\n",
       "    <tr>\n",
       "      <th>77217</th>\n",
       "      <td>-0.219901</td>\n",
       "    </tr>\n",
       "    <tr>\n",
       "      <th>77225</th>\n",
       "      <td>0.238712</td>\n",
       "    </tr>\n",
       "    <tr>\n",
       "      <th>77245</th>\n",
       "      <td>0.256828</td>\n",
       "    </tr>\n",
       "    <tr>\n",
       "      <th>77253</th>\n",
       "      <td>-0.250277</td>\n",
       "    </tr>\n",
       "    <tr>\n",
       "      <th>77271</th>\n",
       "      <td>0.813459</td>\n",
       "    </tr>\n",
       "    <tr>\n",
       "      <th>77275</th>\n",
       "      <td>0.258844</td>\n",
       "    </tr>\n",
       "    <tr>\n",
       "      <th>77302</th>\n",
       "      <td>-0.220475</td>\n",
       "    </tr>\n",
       "    <tr>\n",
       "      <th>77305</th>\n",
       "      <td>-0.273149</td>\n",
       "    </tr>\n",
       "    <tr>\n",
       "      <th>77308</th>\n",
       "      <td>0.422098</td>\n",
       "    </tr>\n",
       "    <tr>\n",
       "      <th>77333</th>\n",
       "      <td>2.957147</td>\n",
       "    </tr>\n",
       "    <tr>\n",
       "      <th>77375</th>\n",
       "      <td>0.605080</td>\n",
       "    </tr>\n",
       "    <tr>\n",
       "      <th>77422</th>\n",
       "      <td>0.234104</td>\n",
       "    </tr>\n",
       "    <tr>\n",
       "      <th>77481</th>\n",
       "      <td>0.244117</td>\n",
       "    </tr>\n",
       "    <tr>\n",
       "      <th>77537</th>\n",
       "      <td>-0.304807</td>\n",
       "    </tr>\n",
       "    <tr>\n",
       "      <th>77540</th>\n",
       "      <td>0.314776</td>\n",
       "    </tr>\n",
       "    <tr>\n",
       "      <th>77588</th>\n",
       "      <td>1.285713</td>\n",
       "    </tr>\n",
       "    <tr>\n",
       "      <th>77591</th>\n",
       "      <td>-0.232215</td>\n",
       "    </tr>\n",
       "    <tr>\n",
       "      <th>77598</th>\n",
       "      <td>-0.816510</td>\n",
       "    </tr>\n",
       "    <tr>\n",
       "      <th>77603</th>\n",
       "      <td>0.319408</td>\n",
       "    </tr>\n",
       "  </tbody>\n",
       "</table>\n",
       "<p>8979 rows × 1 columns</p>\n",
       "</div>"
      ],
      "text/plain": [
       "       logerror\n",
       "5     -0.270500\n",
       "10     0.382500\n",
       "93    -0.245900\n",
       "102   -0.409500\n",
       "121    0.335800\n",
       "124   -0.636800\n",
       "132   -0.427700\n",
       "158    0.382500\n",
       "184   -0.343900\n",
       "212    0.494100\n",
       "277   -0.408000\n",
       "281    0.492900\n",
       "293    1.083000\n",
       "303   -0.427700\n",
       "313   -0.297100\n",
       "315    0.262400\n",
       "382   -0.254900\n",
       "463   -0.342500\n",
       "470    0.396800\n",
       "472    0.314100\n",
       "475    0.250800\n",
       "494    0.745300\n",
       "495   -0.355200\n",
       "521    0.250000\n",
       "541   -0.248500\n",
       "547    0.347800\n",
       "569    0.277600\n",
       "601   -0.249700\n",
       "626    0.279900\n",
       "658   -0.320200\n",
       "...         ...\n",
       "77053  0.418638\n",
       "77066  0.252219\n",
       "77075 -0.323309\n",
       "77109 -0.238501\n",
       "77142  0.380505\n",
       "77148  0.691997\n",
       "77175  0.509534\n",
       "77184  0.555825\n",
       "77189 -0.704179\n",
       "77190  0.293386\n",
       "77197 -0.554524\n",
       "77217 -0.219901\n",
       "77225  0.238712\n",
       "77245  0.256828\n",
       "77253 -0.250277\n",
       "77271  0.813459\n",
       "77275  0.258844\n",
       "77302 -0.220475\n",
       "77305 -0.273149\n",
       "77308  0.422098\n",
       "77333  2.957147\n",
       "77375  0.605080\n",
       "77422  0.234104\n",
       "77481  0.244117\n",
       "77537 -0.304807\n",
       "77540  0.314776\n",
       "77588  1.285713\n",
       "77591 -0.232215\n",
       "77598 -0.816510\n",
       "77603  0.319408\n",
       "\n",
       "[8979 rows x 1 columns]"
      ]
     },
     "metadata": {},
     "output_type": "display_data"
    },
    {
     "name": "stdout",
     "output_type": "stream",
     "text": [
      "Outliers in more than one set: \n",
      "\n",
      "[36867, 41841, 28167, 2056, 72713, 57356, 22542, 11279, 53267, 20500, 22958, 23511, 75287, 47128, 5658, 4016, 73308, 60697, 36359, 43564, 48174, 50013, 77591, 5640, 7219, 57396, 15925, 51766, 1079, 8248, 42553, 41018, 58463, 72254, 49727, 34867, 58946, 61001, 6219, 67149, 75021, 11859, 58452, 75866, 62991, 11356, 21597, 42078, 11359, 36960, 75366, 43622, 15466, 39023, 13424, 7281, 27765, 26231, 15480, 50298, 34428, 52863, 7296, 34947, 69911, 76422, 9864, 57482, 44171, 53129, 3733, 40217, 37743, 9884, 17053, 158, 12447, 42657, 49318, 1703, 60512, 44714, 74407, 13998, 10415, 72881, 65715, 65310, 7867, 20158, 33397, 71872, 76823, 75973, 14856, 29899, 69836, 59086, 24013, 75472, 23160, 71378, 46397, 73081, 43737, 39373, 71388, 14557, 6367, 74976, 55009, 71395, 6372, 47569, 4476, 1770, 74962, 36079, 12019, 21237, 49910, 20215, 59645, 77253, 71936, 30848, 35115, 5591, 1805, 49423, 71811, 39702, 57561, 41240, 29465, 50479, 6430, 35616, 48929, 49442, 36131, 34086, 49450, 3371, 9516, 44145, 17629, 59697, 4915, 55605, 46391, 10043, 17725, 40411, 13120, 21830, 69448, 50987, 50629, 17739, 50512, 76771, 39253, 47961, 9565, 15711, 40800, 9058, 11238, 43640, 30695, 16748, 18798, 11581, 11120, 37233, 72565, 19321, 45946, 10620, 5866, 42878, 46208, 9089, 48521, 41870, 67472, 20882, 13715, 21908, 28565, 34712, 71919, 11679, 59808, 52064, 2979, 74664, 46029, 6059, 8620, 9646, 7600, 27061, 60343, 21432, 71654, 76557, 41920, 16833, 41413, 30150, 14285, 50126, 463, 13776, 12241, 67538, 59348, 43989, 60886, 7127, 50649, 16859, 988, 8669, 64481, 35299, 19942, 16871, 33256, 66432, 9196, 54255, 6132, 22517, 74295, 5113, 72187, 12797, 71678, 3071]\n"
     ]
    },
    {
     "data": {
      "text/html": [
       "<div>\n",
       "<style scoped>\n",
       "    .dataframe tbody tr th:only-of-type {\n",
       "        vertical-align: middle;\n",
       "    }\n",
       "\n",
       "    .dataframe tbody tr th {\n",
       "        vertical-align: top;\n",
       "    }\n",
       "\n",
       "    .dataframe thead th {\n",
       "        text-align: right;\n",
       "    }\n",
       "</style>\n",
       "<table border=\"1\" class=\"dataframe\">\n",
       "  <thead>\n",
       "    <tr style=\"text-align: right;\">\n",
       "      <th></th>\n",
       "      <th>logerror</th>\n",
       "    </tr>\n",
       "  </thead>\n",
       "  <tbody>\n",
       "    <tr>\n",
       "      <th>0</th>\n",
       "      <td>0.027600</td>\n",
       "    </tr>\n",
       "    <tr>\n",
       "      <th>1</th>\n",
       "      <td>-0.168400</td>\n",
       "    </tr>\n",
       "    <tr>\n",
       "      <th>2</th>\n",
       "      <td>-0.004000</td>\n",
       "    </tr>\n",
       "    <tr>\n",
       "      <th>3</th>\n",
       "      <td>0.021800</td>\n",
       "    </tr>\n",
       "    <tr>\n",
       "      <th>4</th>\n",
       "      <td>-0.005000</td>\n",
       "    </tr>\n",
       "    <tr>\n",
       "      <th>5</th>\n",
       "      <td>-0.270500</td>\n",
       "    </tr>\n",
       "    <tr>\n",
       "      <th>6</th>\n",
       "      <td>0.044000</td>\n",
       "    </tr>\n",
       "    <tr>\n",
       "      <th>7</th>\n",
       "      <td>0.163800</td>\n",
       "    </tr>\n",
       "    <tr>\n",
       "      <th>8</th>\n",
       "      <td>-0.003000</td>\n",
       "    </tr>\n",
       "    <tr>\n",
       "      <th>9</th>\n",
       "      <td>0.084300</td>\n",
       "    </tr>\n",
       "    <tr>\n",
       "      <th>10</th>\n",
       "      <td>0.382500</td>\n",
       "    </tr>\n",
       "    <tr>\n",
       "      <th>11</th>\n",
       "      <td>-0.016100</td>\n",
       "    </tr>\n",
       "    <tr>\n",
       "      <th>12</th>\n",
       "      <td>0.034400</td>\n",
       "    </tr>\n",
       "    <tr>\n",
       "      <th>13</th>\n",
       "      <td>0.081600</td>\n",
       "    </tr>\n",
       "    <tr>\n",
       "      <th>14</th>\n",
       "      <td>-0.045000</td>\n",
       "    </tr>\n",
       "    <tr>\n",
       "      <th>15</th>\n",
       "      <td>0.002000</td>\n",
       "    </tr>\n",
       "    <tr>\n",
       "      <th>16</th>\n",
       "      <td>0.044000</td>\n",
       "    </tr>\n",
       "    <tr>\n",
       "      <th>17</th>\n",
       "      <td>-0.041900</td>\n",
       "    </tr>\n",
       "    <tr>\n",
       "      <th>18</th>\n",
       "      <td>-0.002000</td>\n",
       "    </tr>\n",
       "    <tr>\n",
       "      <th>19</th>\n",
       "      <td>0.010000</td>\n",
       "    </tr>\n",
       "    <tr>\n",
       "      <th>20</th>\n",
       "      <td>-0.038700</td>\n",
       "    </tr>\n",
       "    <tr>\n",
       "      <th>21</th>\n",
       "      <td>0.021800</td>\n",
       "    </tr>\n",
       "    <tr>\n",
       "      <th>22</th>\n",
       "      <td>0.014900</td>\n",
       "    </tr>\n",
       "    <tr>\n",
       "      <th>23</th>\n",
       "      <td>0.115100</td>\n",
       "    </tr>\n",
       "    <tr>\n",
       "      <th>24</th>\n",
       "      <td>-0.169600</td>\n",
       "    </tr>\n",
       "    <tr>\n",
       "      <th>25</th>\n",
       "      <td>-0.044000</td>\n",
       "    </tr>\n",
       "    <tr>\n",
       "      <th>26</th>\n",
       "      <td>-0.074700</td>\n",
       "    </tr>\n",
       "    <tr>\n",
       "      <th>27</th>\n",
       "      <td>0.008000</td>\n",
       "    </tr>\n",
       "    <tr>\n",
       "      <th>28</th>\n",
       "      <td>0.001000</td>\n",
       "    </tr>\n",
       "    <tr>\n",
       "      <th>29</th>\n",
       "      <td>-0.053400</td>\n",
       "    </tr>\n",
       "    <tr>\n",
       "      <th>...</th>\n",
       "      <td>...</td>\n",
       "    </tr>\n",
       "    <tr>\n",
       "      <th>167374</th>\n",
       "      <td>0.019484</td>\n",
       "    </tr>\n",
       "    <tr>\n",
       "      <th>167375</th>\n",
       "      <td>0.094750</td>\n",
       "    </tr>\n",
       "    <tr>\n",
       "      <th>167376</th>\n",
       "      <td>-0.064765</td>\n",
       "    </tr>\n",
       "    <tr>\n",
       "      <th>167377</th>\n",
       "      <td>0.046755</td>\n",
       "    </tr>\n",
       "    <tr>\n",
       "      <th>167378</th>\n",
       "      <td>0.018458</td>\n",
       "    </tr>\n",
       "    <tr>\n",
       "      <th>167379</th>\n",
       "      <td>0.002138</td>\n",
       "    </tr>\n",
       "    <tr>\n",
       "      <th>167380</th>\n",
       "      <td>1.285713</td>\n",
       "    </tr>\n",
       "    <tr>\n",
       "      <th>167381</th>\n",
       "      <td>0.003457</td>\n",
       "    </tr>\n",
       "    <tr>\n",
       "      <th>167382</th>\n",
       "      <td>-0.036067</td>\n",
       "    </tr>\n",
       "    <tr>\n",
       "      <th>167383</th>\n",
       "      <td>0.015806</td>\n",
       "    </tr>\n",
       "    <tr>\n",
       "      <th>167384</th>\n",
       "      <td>0.068838</td>\n",
       "    </tr>\n",
       "    <tr>\n",
       "      <th>167385</th>\n",
       "      <td>0.000099</td>\n",
       "    </tr>\n",
       "    <tr>\n",
       "      <th>167386</th>\n",
       "      <td>0.047467</td>\n",
       "    </tr>\n",
       "    <tr>\n",
       "      <th>167387</th>\n",
       "      <td>0.000749</td>\n",
       "    </tr>\n",
       "    <tr>\n",
       "      <th>167388</th>\n",
       "      <td>-0.159471</td>\n",
       "    </tr>\n",
       "    <tr>\n",
       "      <th>167389</th>\n",
       "      <td>-0.816510</td>\n",
       "    </tr>\n",
       "    <tr>\n",
       "      <th>167390</th>\n",
       "      <td>-0.062404</td>\n",
       "    </tr>\n",
       "    <tr>\n",
       "      <th>167391</th>\n",
       "      <td>0.013268</td>\n",
       "    </tr>\n",
       "    <tr>\n",
       "      <th>167392</th>\n",
       "      <td>0.052630</td>\n",
       "    </tr>\n",
       "    <tr>\n",
       "      <th>167393</th>\n",
       "      <td>-0.140881</td>\n",
       "    </tr>\n",
       "    <tr>\n",
       "      <th>167394</th>\n",
       "      <td>0.319408</td>\n",
       "    </tr>\n",
       "    <tr>\n",
       "      <th>167395</th>\n",
       "      <td>0.028733</td>\n",
       "    </tr>\n",
       "    <tr>\n",
       "      <th>167396</th>\n",
       "      <td>-0.075465</td>\n",
       "    </tr>\n",
       "    <tr>\n",
       "      <th>167397</th>\n",
       "      <td>0.081196</td>\n",
       "    </tr>\n",
       "    <tr>\n",
       "      <th>167398</th>\n",
       "      <td>0.001082</td>\n",
       "    </tr>\n",
       "    <tr>\n",
       "      <th>167399</th>\n",
       "      <td>-0.002245</td>\n",
       "    </tr>\n",
       "    <tr>\n",
       "      <th>167400</th>\n",
       "      <td>0.020615</td>\n",
       "    </tr>\n",
       "    <tr>\n",
       "      <th>167401</th>\n",
       "      <td>0.013209</td>\n",
       "    </tr>\n",
       "    <tr>\n",
       "      <th>167402</th>\n",
       "      <td>0.037129</td>\n",
       "    </tr>\n",
       "    <tr>\n",
       "      <th>167403</th>\n",
       "      <td>0.007204</td>\n",
       "    </tr>\n",
       "  </tbody>\n",
       "</table>\n",
       "<p>167404 rows × 1 columns</p>\n",
       "</div>"
      ],
      "text/plain": [
       "        logerror\n",
       "0       0.027600\n",
       "1      -0.168400\n",
       "2      -0.004000\n",
       "3       0.021800\n",
       "4      -0.005000\n",
       "5      -0.270500\n",
       "6       0.044000\n",
       "7       0.163800\n",
       "8      -0.003000\n",
       "9       0.084300\n",
       "10      0.382500\n",
       "11     -0.016100\n",
       "12      0.034400\n",
       "13      0.081600\n",
       "14     -0.045000\n",
       "15      0.002000\n",
       "16      0.044000\n",
       "17     -0.041900\n",
       "18     -0.002000\n",
       "19      0.010000\n",
       "20     -0.038700\n",
       "21      0.021800\n",
       "22      0.014900\n",
       "23      0.115100\n",
       "24     -0.169600\n",
       "25     -0.044000\n",
       "26     -0.074700\n",
       "27      0.008000\n",
       "28      0.001000\n",
       "29     -0.053400\n",
       "...          ...\n",
       "167374  0.019484\n",
       "167375  0.094750\n",
       "167376 -0.064765\n",
       "167377  0.046755\n",
       "167378  0.018458\n",
       "167379  0.002138\n",
       "167380  1.285713\n",
       "167381  0.003457\n",
       "167382 -0.036067\n",
       "167383  0.015806\n",
       "167384  0.068838\n",
       "167385  0.000099\n",
       "167386  0.047467\n",
       "167387  0.000749\n",
       "167388 -0.159471\n",
       "167389 -0.816510\n",
       "167390 -0.062404\n",
       "167391  0.013268\n",
       "167392  0.052630\n",
       "167393 -0.140881\n",
       "167394  0.319408\n",
       "167395  0.028733\n",
       "167396 -0.075465\n",
       "167397  0.081196\n",
       "167398  0.001082\n",
       "167399 -0.002245\n",
       "167400  0.020615\n",
       "167401  0.013209\n",
       "167402  0.037129\n",
       "167403  0.007204\n",
       "\n",
       "[167404 rows x 1 columns]"
      ]
     },
     "execution_count": 58,
     "metadata": {},
     "output_type": "execute_result"
    }
   ],
   "source": [
    "outlier_removal(train_df.iloc[:,:1])"
   ]
  },
  {
   "cell_type": "code",
   "execution_count": 59,
   "metadata": {
    "_cell_guid": "2698498e-ada8-485e-bb73-0922cf8f6b88",
    "_uuid": "bdee848581a7cba2766e63d38474014716147bdb",
    "collapsed": true
   },
   "outputs": [],
   "source": [
    "drop_column = ['logerror'] \n",
    "train_df.drop(drop_column, axis=1, inplace = True)"
   ]
  },
  {
   "cell_type": "markdown",
   "metadata": {
    "_cell_guid": "91dbfb71-ef3f-4e66-ae6e-dfe8b787c12c",
    "_uuid": "a6f1472b3db2e3fb96ddf0a831dcd776af5357b6",
    "collapsed": true
   },
   "source": [
    "train_df_ohe_bins_no_categoricals = train_df.select_dtypes(exclude=['uint8'])\n",
    "train_df_ohe_bins_no_categoricals = my_imputer.fit_transform(train_df_ohe_bins_no_categoricals)\n",
    "cv_results = cross_val_score(RF_clf, train_df_ohe_bins_no_categoricals, y, cv=kfold, scoring=scoring)\n",
    "msg = (\"%f (%f)\" % (cv_results.mean(), cv_results.std()))\n",
    "print(\"Score without Categoricals\")\n",
    "print(msg)"
   ]
  },
  {
   "cell_type": "markdown",
   "metadata": {
    "_cell_guid": "fb0efcdf-8ce2-4324-94f2-103f9d561205",
    "_uuid": "7aeb3845a114738bd87e3fbabab18bd77e42b2c9",
    "collapsed": true
   },
   "source": [
    "train_df_ohe_bins = my_imputer.fit_transform(train_df)\n",
    "cv_results = cross_val_score(RF_clf, train_df_ohe_bins, y, cv=kfold, scoring=scoring)\n",
    "msg = (\"%f (%f)\" % (cv_results.mean(), cv_results.std()))\n",
    "print(\"Score with Categoricals\")\n",
    "print(msg)"
   ]
  },
  {
   "cell_type": "code",
   "execution_count": 60,
   "metadata": {
    "collapsed": false
   },
   "outputs": [],
   "source": [
    "X_train, X_test, y_train, y_test = train_test_split(train_df, y, test_size=0.33, random_state=42, shuffle = True)"
   ]
  },
  {
   "cell_type": "code",
   "execution_count": 282,
   "metadata": {
    "collapsed": true
   },
   "outputs": [],
   "source": [
    "#pipeline\n",
    "num_attribs = list(train_df)\n",
    "\n",
    "num_pipeline = Pipeline([\n",
    "        ('selector', DataFrameSelector(num_attribs)),\n",
    "        ('imputer', Imputer(strategy=\"median\")),\n",
    "        ('std_scaler', scaler),        \n",
    "        #('KBest', SelectKBest(k = 10)),\n",
    "        #('pca', PCA(n_components = 5)),\n",
    "        #('reg', RF_clf)\n",
    "         ])\n",
    "X_train_prepared = num_pipeline.fit_transform(X_train, y_train)"
   ]
  },
  {
   "cell_type": "code",
   "execution_count": 338,
   "metadata": {
    "collapsed": true
   },
   "outputs": [],
   "source": [
    "del feature_dictionary"
   ]
  },
  {
   "cell_type": "code",
   "execution_count": 339,
   "metadata": {
    "collapsed": false
   },
   "outputs": [],
   "source": [
    "feature_dictionary = defaultdict(deque)"
   ]
  },
  {
   "cell_type": "code",
   "execution_count": 340,
   "metadata": {
    "collapsed": false
   },
   "outputs": [],
   "source": [
    "def train_predict(learner, X_train, y_train, name):\n",
    "    results = defaultdict(deque)\n",
    "    results['Description'] = name\n",
    "    \n",
    "    # TODO: Fit the learner to the training data using slicing with 'sample_size'\n",
    "    start = time() # Get start time\n",
    "    learner = learner.fit(X_train, y_train)\n",
    "    end = time() # Get end time\n",
    "\n",
    "    # TODO: Calculate the training time\n",
    "    results['train_time'] = end - start\n",
    "        \n",
    "    # TODO: Get the predictions on the test set,\n",
    "    start = time() # Get start time\n",
    "    #predictions_test = learner.predict(X_test)\n",
    "    predictions_train = learner.predict(X_train)\n",
    "    end = time() # Get end time\n",
    "    \n",
    "    # TODO: Calculate the total prediction time\n",
    "    results['pred_time'] = end - start\n",
    "            \n",
    "    # TODO: Compute accuracy on the first training samples\n",
    "    results['mae_train'] = mean_absolute_error(y_train, predictions_train)\n",
    "    \n",
    "    # Return the results\n",
    "    print(results)\n",
    "    #feature_dictionary.append(results)\n",
    "    for key, value in results.iteritems():\n",
    "        feature_dictionary[key].append(value)\n",
    "    feature_df = pd.DataFrame.from_dict(feature_dictionary, orient='columns', dtype='float64')  \n",
    "    return feature_df\n",
    "    "
   ]
  },
  {
   "cell_type": "code",
   "execution_count": 333,
   "metadata": {
    "collapsed": false,
    "scrolled": true
   },
   "outputs": [
    {
     "name": "stdout",
     "output_type": "stream",
     "text": [
      "defaultdict(<type 'collections.deque'>, {u'train_time': 11.759999990463257, u'pred_time': 0.5049998760223389, u'Description': u'base_case', u'mae_train': 0.034869907265672677})\n"
     ]
    },
    {
     "data": {
      "text/html": [
       "<div>\n",
       "<style scoped>\n",
       "    .dataframe tbody tr th:only-of-type {\n",
       "        vertical-align: middle;\n",
       "    }\n",
       "\n",
       "    .dataframe tbody tr th {\n",
       "        vertical-align: top;\n",
       "    }\n",
       "\n",
       "    .dataframe thead th {\n",
       "        text-align: right;\n",
       "    }\n",
       "</style>\n",
       "<table border=\"1\" class=\"dataframe\">\n",
       "  <thead>\n",
       "    <tr style=\"text-align: right;\">\n",
       "      <th></th>\n",
       "      <th>Description</th>\n",
       "      <th>mae_train</th>\n",
       "      <th>pred_time</th>\n",
       "      <th>train_time</th>\n",
       "    </tr>\n",
       "  </thead>\n",
       "  <tbody>\n",
       "    <tr>\n",
       "      <th>0</th>\n",
       "      <td>base_case</td>\n",
       "      <td>0.03487</td>\n",
       "      <td>0.505</td>\n",
       "      <td>11.76</td>\n",
       "    </tr>\n",
       "  </tbody>\n",
       "</table>\n",
       "</div>"
      ],
      "text/plain": [
       "  Description  mae_train  pred_time  train_time\n",
       "0   base_case    0.03487      0.505       11.76"
      ]
     },
     "execution_count": 333,
     "metadata": {},
     "output_type": "execute_result"
    }
   ],
   "source": [
    "train_predict(RF_clf, X_train_prepared, y_train, 'base_case')"
   ]
  },
  {
   "cell_type": "code",
   "execution_count": 89,
   "metadata": {
    "collapsed": false
   },
   "outputs": [],
   "source": [
    "def model_and_accuracy(model, params, X, y):\n",
    "    results = {}\n",
    "    grid = GridSearchCV(model, params, error_score=0., scoring = scoring)\n",
    "    grid.fit(X_train_scaled, y_train) \n",
    "    print(\"Best Accuracy: {}\".format(grid.best_score_))\n",
    "    print(\"Best Parameters: {}\".format(grid.best_params_))\n",
    "    print(\"Average Time to Fit (s): {}\".format(round(grid.cv_results_['mean_fit_time'].mean(), 3)))\n",
    "    # the average time it took a model to predict out of sample data (in seconds)\n",
    "    # this metric gives us insight into how this model will perform in real-time analysis\n",
    "    print(\"Average Time to Score (s): {}\".format(round(grid.cv_results_['mean_score_time'].mean(), 3)))"
   ]
  },
  {
   "cell_type": "code",
   "execution_count": 92,
   "metadata": {
    "collapsed": true
   },
   "outputs": [],
   "source": [
    "# Random Forest\n",
    "forest_params = {'n_estimators': [189], 'max_depth': [5]}"
   ]
  },
  {
   "cell_type": "markdown",
   "metadata": {},
   "source": [
    "# First let's check correlation\n",
    "train_df.corrwith(y, axis=0, drop=False)\n",
    "#highly_correlated_features = train_df_eda.columns[train_df_eda.corr()[y]]"
   ]
  },
  {
   "cell_type": "code",
   "execution_count": 113,
   "metadata": {
    "collapsed": false
   },
   "outputs": [
    {
     "name": "stdout",
     "output_type": "stream",
     "text": [
      "Index([u'logerror'], dtype='object')\n"
     ]
    }
   ],
   "source": [
    "print(highly_correlated_features)"
   ]
  },
  {
   "cell_type": "code",
   "execution_count": null,
   "metadata": {
    "collapsed": true
   },
   "outputs": [],
   "source": [
    "print(highly_correlated_features)"
   ]
  },
  {
   "cell_type": "code",
   "execution_count": null,
   "metadata": {
    "collapsed": true
   },
   "outputs": [],
   "source": [
    "# only include the five highly correlated features\n",
    "X_train_scaled_corr = X_train_scaled_[highly_correlated_features]"
   ]
  },
  {
   "cell_type": "code",
   "execution_count": null,
   "metadata": {
    "collapsed": true
   },
   "outputs": [],
   "source": [
    "train_predict(RF_clf_tuned, X_train_prepared, y_train, X_test, y_test)"
   ]
  },
  {
   "cell_type": "code",
   "execution_count": null,
   "metadata": {
    "collapsed": true
   },
   "outputs": [],
   "source": [
    "get_best_model_and_accuracy(RF_clf, forest_params, X_train_scaled_corr, y_train) "
   ]
  },
  {
   "cell_type": "code",
   "execution_count": 336,
   "metadata": {
    "collapsed": false
   },
   "outputs": [
    {
     "data": {
      "text/plain": [
       "array([[ 0.08333333,  0.125     ,  0.46666667, ...,  0.        ,\n",
       "         0.        ,  0.        ],\n",
       "       [ 0.11111111,  0.1875    ,  0.        , ...,  1.        ,\n",
       "         0.        ,  0.        ],\n",
       "       [ 0.11111111,  0.25      ,  0.46666667, ...,  1.        ,\n",
       "         0.        ,  0.        ],\n",
       "       ..., \n",
       "       [ 0.05555556,  0.0625    ,  0.        , ...,  1.        ,\n",
       "         0.        ,  0.        ],\n",
       "       [ 0.11111111,  0.125     ,  0.        , ...,  0.        ,\n",
       "         1.        ,  0.        ],\n",
       "       [ 0.05555556,  0.125     ,  0.        , ...,  0.        ,\n",
       "         0.        ,  0.        ]])"
      ]
     },
     "execution_count": 336,
     "metadata": {},
     "output_type": "execute_result"
    }
   ],
   "source": [
    "skb.fit_transform(X_train_prepared, y_train)"
   ]
  },
  {
   "cell_type": "code",
   "execution_count": 337,
   "metadata": {
    "collapsed": false
   },
   "outputs": [
    {
     "data": {
      "text/html": [
       "<div>\n",
       "<style scoped>\n",
       "    .dataframe tbody tr th:only-of-type {\n",
       "        vertical-align: middle;\n",
       "    }\n",
       "\n",
       "    .dataframe tbody tr th {\n",
       "        vertical-align: top;\n",
       "    }\n",
       "\n",
       "    .dataframe thead th {\n",
       "        text-align: right;\n",
       "    }\n",
       "</style>\n",
       "<table border=\"1\" class=\"dataframe\">\n",
       "  <thead>\n",
       "    <tr style=\"text-align: right;\">\n",
       "      <th></th>\n",
       "      <th>column</th>\n",
       "      <th>p_value</th>\n",
       "    </tr>\n",
       "  </thead>\n",
       "  <tbody>\n",
       "    <tr>\n",
       "      <th>20</th>\n",
       "      <td>propertylandusetypeid_nan</td>\n",
       "      <td>0.000000e+00</td>\n",
       "    </tr>\n",
       "    <tr>\n",
       "      <th>3</th>\n",
       "      <td>taxvaluedollarcnt</td>\n",
       "      <td>0.000000e+00</td>\n",
       "    </tr>\n",
       "    <tr>\n",
       "      <th>4</th>\n",
       "      <td>taxamount</td>\n",
       "      <td>0.000000e+00</td>\n",
       "    </tr>\n",
       "    <tr>\n",
       "      <th>18</th>\n",
       "      <td>propertylandusetypeid_31.0</td>\n",
       "      <td>0.000000e+00</td>\n",
       "    </tr>\n",
       "    <tr>\n",
       "      <th>15</th>\n",
       "      <td>propertylandusetypeid_267.0</td>\n",
       "      <td>0.000000e+00</td>\n",
       "    </tr>\n",
       "    <tr>\n",
       "      <th>17</th>\n",
       "      <td>propertylandusetypeid_275.0</td>\n",
       "      <td>1.971668e-299</td>\n",
       "    </tr>\n",
       "    <tr>\n",
       "      <th>11</th>\n",
       "      <td>propertylandusetypeid_263.0</td>\n",
       "      <td>1.154994e-143</td>\n",
       "    </tr>\n",
       "    <tr>\n",
       "      <th>8</th>\n",
       "      <td>propertylandusetypeid_248.0</td>\n",
       "      <td>3.937345e-64</td>\n",
       "    </tr>\n",
       "    <tr>\n",
       "      <th>7</th>\n",
       "      <td>propertylandusetypeid_247.0</td>\n",
       "      <td>2.388963e-50</td>\n",
       "    </tr>\n",
       "    <tr>\n",
       "      <th>6</th>\n",
       "      <td>propertylandusetypeid_246.0</td>\n",
       "      <td>5.040005e-34</td>\n",
       "    </tr>\n",
       "  </tbody>\n",
       "</table>\n",
       "</div>"
      ],
      "text/plain": [
       "                         column        p_value\n",
       "20    propertylandusetypeid_nan   0.000000e+00\n",
       "3             taxvaluedollarcnt   0.000000e+00\n",
       "4                     taxamount   0.000000e+00\n",
       "18   propertylandusetypeid_31.0   0.000000e+00\n",
       "15  propertylandusetypeid_267.0   0.000000e+00\n",
       "17  propertylandusetypeid_275.0  1.971668e-299\n",
       "11  propertylandusetypeid_263.0  1.154994e-143\n",
       "8   propertylandusetypeid_248.0   3.937345e-64\n",
       "7   propertylandusetypeid_247.0   2.388963e-50\n",
       "6   propertylandusetypeid_246.0   5.040005e-34"
      ]
     },
     "execution_count": 337,
     "metadata": {},
     "output_type": "execute_result"
    }
   ],
   "source": [
    "# get the p values of columns\n",
    "skb.pvalues_\n",
    "\n",
    "# make a dataframe of features and p-values\n",
    "# sort that dataframe by p-value\n",
    "p_values = pd.DataFrame({'column': X_train.columns, 'p_value': skb.pvalues_}).sort_values('p_value')\n",
    "\n",
    "#p_values.index.names = ['column']\n",
    "# show the top 5 features\n",
    "p_values.head(10)\n"
   ]
  },
  {
   "cell_type": "code",
   "execution_count": 250,
   "metadata": {
    "collapsed": false
   },
   "outputs": [
    {
     "name": "stdout",
     "output_type": "stream",
     "text": [
      "['propertylandusetypeid_nan', 'taxvaluedollarcnt', 'taxamount', 'propertylandusetypeid_31.0', 'propertylandusetypeid_267.0', 'propertylandusetypeid_275.0', 'propertylandusetypeid_263.0', 'propertylandusetypeid_248.0', 'propertylandusetypeid_247.0', 'propertylandusetypeid_246.0', 'propertylandusetypeid_265.0', 'yearbuilt_quantile_(1823.999, 1953.0]', 'bathroomcnt', u'quantile_bin_region_Fourth', 'bedroomcnt']\n"
     ]
    }
   ],
   "source": [
    "# features with a low p value\n",
    "low_p_values = p_values[p_values['p_value'] < .05]\n",
    "low_p_values = low_p_values[\"column\"].tolist()\n",
    "print(low_p_values)\n"
   ]
  },
  {
   "cell_type": "code",
   "execution_count": 260,
   "metadata": {
    "collapsed": false
   },
   "outputs": [],
   "source": [
    "X_train_prepared_df = pd.DataFrame(X_train_prepared, columns = X_train.columns)"
   ]
  },
  {
   "cell_type": "code",
   "execution_count": 262,
   "metadata": {
    "collapsed": false
   },
   "outputs": [
    {
     "data": {
      "text/html": [
       "<div>\n",
       "<style scoped>\n",
       "    .dataframe tbody tr th:only-of-type {\n",
       "        vertical-align: middle;\n",
       "    }\n",
       "\n",
       "    .dataframe tbody tr th {\n",
       "        vertical-align: top;\n",
       "    }\n",
       "\n",
       "    .dataframe thead th {\n",
       "        text-align: right;\n",
       "    }\n",
       "</style>\n",
       "<table border=\"1\" class=\"dataframe\">\n",
       "  <thead>\n",
       "    <tr style=\"text-align: right;\">\n",
       "      <th></th>\n",
       "      <th>bathroomcnt</th>\n",
       "      <th>bedroomcnt</th>\n",
       "      <th>roomcnt</th>\n",
       "      <th>taxvaluedollarcnt</th>\n",
       "      <th>taxamount</th>\n",
       "      <th>total_square_footage</th>\n",
       "      <th>propertylandusetypeid_246.0</th>\n",
       "      <th>propertylandusetypeid_247.0</th>\n",
       "      <th>propertylandusetypeid_248.0</th>\n",
       "      <th>propertylandusetypeid_260.0</th>\n",
       "      <th>...</th>\n",
       "      <th>propertylandusetypeid_47.0</th>\n",
       "      <th>propertylandusetypeid_nan</th>\n",
       "      <th>quantile_bin_region_First</th>\n",
       "      <th>quantile_bin_region_Second</th>\n",
       "      <th>quantile_bin_region_Third</th>\n",
       "      <th>quantile_bin_region_Fourth</th>\n",
       "      <th>yearbuilt_quantile_(1823.999, 1953.0]</th>\n",
       "      <th>yearbuilt_quantile_(1953.0, 1970.0]</th>\n",
       "      <th>yearbuilt_quantile_(1970.0, 1987.0]</th>\n",
       "      <th>yearbuilt_quantile_(1987.0, 2016.0]</th>\n",
       "    </tr>\n",
       "  </thead>\n",
       "  <tbody>\n",
       "    <tr>\n",
       "      <th>0</th>\n",
       "      <td>0.083333</td>\n",
       "      <td>0.1250</td>\n",
       "      <td>0.466667</td>\n",
       "      <td>0.001144</td>\n",
       "      <td>0.007976</td>\n",
       "      <td>0.000915</td>\n",
       "      <td>0.0</td>\n",
       "      <td>0.0</td>\n",
       "      <td>0.0</td>\n",
       "      <td>0.0</td>\n",
       "      <td>...</td>\n",
       "      <td>0.0</td>\n",
       "      <td>0.0</td>\n",
       "      <td>0.0</td>\n",
       "      <td>1.0</td>\n",
       "      <td>0.0</td>\n",
       "      <td>0.0</td>\n",
       "      <td>1.0</td>\n",
       "      <td>0.0</td>\n",
       "      <td>0.0</td>\n",
       "      <td>0.0</td>\n",
       "    </tr>\n",
       "    <tr>\n",
       "      <th>1</th>\n",
       "      <td>0.111111</td>\n",
       "      <td>0.1875</td>\n",
       "      <td>0.000000</td>\n",
       "      <td>0.008254</td>\n",
       "      <td>0.008651</td>\n",
       "      <td>0.000406</td>\n",
       "      <td>0.0</td>\n",
       "      <td>0.0</td>\n",
       "      <td>0.0</td>\n",
       "      <td>0.0</td>\n",
       "      <td>...</td>\n",
       "      <td>0.0</td>\n",
       "      <td>0.0</td>\n",
       "      <td>0.0</td>\n",
       "      <td>0.0</td>\n",
       "      <td>1.0</td>\n",
       "      <td>0.0</td>\n",
       "      <td>0.0</td>\n",
       "      <td>1.0</td>\n",
       "      <td>0.0</td>\n",
       "      <td>0.0</td>\n",
       "    </tr>\n",
       "    <tr>\n",
       "      <th>2</th>\n",
       "      <td>0.111111</td>\n",
       "      <td>0.2500</td>\n",
       "      <td>0.466667</td>\n",
       "      <td>0.001656</td>\n",
       "      <td>0.002004</td>\n",
       "      <td>0.001669</td>\n",
       "      <td>0.0</td>\n",
       "      <td>0.0</td>\n",
       "      <td>0.0</td>\n",
       "      <td>0.0</td>\n",
       "      <td>...</td>\n",
       "      <td>0.0</td>\n",
       "      <td>0.0</td>\n",
       "      <td>0.0</td>\n",
       "      <td>0.0</td>\n",
       "      <td>0.0</td>\n",
       "      <td>1.0</td>\n",
       "      <td>0.0</td>\n",
       "      <td>1.0</td>\n",
       "      <td>0.0</td>\n",
       "      <td>0.0</td>\n",
       "    </tr>\n",
       "    <tr>\n",
       "      <th>3</th>\n",
       "      <td>0.138889</td>\n",
       "      <td>0.1250</td>\n",
       "      <td>0.000000</td>\n",
       "      <td>0.008362</td>\n",
       "      <td>0.007092</td>\n",
       "      <td>0.000320</td>\n",
       "      <td>0.0</td>\n",
       "      <td>0.0</td>\n",
       "      <td>0.0</td>\n",
       "      <td>0.0</td>\n",
       "      <td>...</td>\n",
       "      <td>0.0</td>\n",
       "      <td>0.0</td>\n",
       "      <td>0.0</td>\n",
       "      <td>0.0</td>\n",
       "      <td>1.0</td>\n",
       "      <td>0.0</td>\n",
       "      <td>0.0</td>\n",
       "      <td>0.0</td>\n",
       "      <td>0.0</td>\n",
       "      <td>1.0</td>\n",
       "    </tr>\n",
       "    <tr>\n",
       "      <th>4</th>\n",
       "      <td>0.111111</td>\n",
       "      <td>0.1250</td>\n",
       "      <td>0.000000</td>\n",
       "      <td>0.006767</td>\n",
       "      <td>0.006960</td>\n",
       "      <td>0.004177</td>\n",
       "      <td>0.0</td>\n",
       "      <td>0.0</td>\n",
       "      <td>0.0</td>\n",
       "      <td>0.0</td>\n",
       "      <td>...</td>\n",
       "      <td>0.0</td>\n",
       "      <td>0.0</td>\n",
       "      <td>1.0</td>\n",
       "      <td>0.0</td>\n",
       "      <td>0.0</td>\n",
       "      <td>0.0</td>\n",
       "      <td>0.0</td>\n",
       "      <td>0.0</td>\n",
       "      <td>1.0</td>\n",
       "      <td>0.0</td>\n",
       "    </tr>\n",
       "  </tbody>\n",
       "</table>\n",
       "<p>5 rows × 29 columns</p>\n",
       "</div>"
      ],
      "text/plain": [
       "   bathroomcnt  bedroomcnt   roomcnt  taxvaluedollarcnt  taxamount  \\\n",
       "0     0.083333      0.1250  0.466667           0.001144   0.007976   \n",
       "1     0.111111      0.1875  0.000000           0.008254   0.008651   \n",
       "2     0.111111      0.2500  0.466667           0.001656   0.002004   \n",
       "3     0.138889      0.1250  0.000000           0.008362   0.007092   \n",
       "4     0.111111      0.1250  0.000000           0.006767   0.006960   \n",
       "\n",
       "   total_square_footage  propertylandusetypeid_246.0  \\\n",
       "0              0.000915                          0.0   \n",
       "1              0.000406                          0.0   \n",
       "2              0.001669                          0.0   \n",
       "3              0.000320                          0.0   \n",
       "4              0.004177                          0.0   \n",
       "\n",
       "   propertylandusetypeid_247.0  propertylandusetypeid_248.0  \\\n",
       "0                          0.0                          0.0   \n",
       "1                          0.0                          0.0   \n",
       "2                          0.0                          0.0   \n",
       "3                          0.0                          0.0   \n",
       "4                          0.0                          0.0   \n",
       "\n",
       "   propertylandusetypeid_260.0                 ...                   \\\n",
       "0                          0.0                 ...                    \n",
       "1                          0.0                 ...                    \n",
       "2                          0.0                 ...                    \n",
       "3                          0.0                 ...                    \n",
       "4                          0.0                 ...                    \n",
       "\n",
       "   propertylandusetypeid_47.0  propertylandusetypeid_nan  \\\n",
       "0                         0.0                        0.0   \n",
       "1                         0.0                        0.0   \n",
       "2                         0.0                        0.0   \n",
       "3                         0.0                        0.0   \n",
       "4                         0.0                        0.0   \n",
       "\n",
       "   quantile_bin_region_First  quantile_bin_region_Second  \\\n",
       "0                        0.0                         1.0   \n",
       "1                        0.0                         0.0   \n",
       "2                        0.0                         0.0   \n",
       "3                        0.0                         0.0   \n",
       "4                        1.0                         0.0   \n",
       "\n",
       "   quantile_bin_region_Third  quantile_bin_region_Fourth  \\\n",
       "0                        0.0                         0.0   \n",
       "1                        1.0                         0.0   \n",
       "2                        0.0                         1.0   \n",
       "3                        1.0                         0.0   \n",
       "4                        0.0                         0.0   \n",
       "\n",
       "   yearbuilt_quantile_(1823.999, 1953.0]  yearbuilt_quantile_(1953.0, 1970.0]  \\\n",
       "0                                    1.0                                  0.0   \n",
       "1                                    0.0                                  1.0   \n",
       "2                                    0.0                                  1.0   \n",
       "3                                    0.0                                  0.0   \n",
       "4                                    0.0                                  0.0   \n",
       "\n",
       "   yearbuilt_quantile_(1970.0, 1987.0]  yearbuilt_quantile_(1987.0, 2016.0]  \n",
       "0                                  0.0                                  0.0  \n",
       "1                                  0.0                                  0.0  \n",
       "2                                  0.0                                  0.0  \n",
       "3                                  0.0                                  1.0  \n",
       "4                                  1.0                                  0.0  \n",
       "\n",
       "[5 rows x 29 columns]"
      ]
     },
     "execution_count": 262,
     "metadata": {},
     "output_type": "execute_result"
    }
   ],
   "source": [
    "X_train_prepared_df.head()"
   ]
  },
  {
   "cell_type": "code",
   "execution_count": 264,
   "metadata": {
    "collapsed": false
   },
   "outputs": [
    {
     "name": "stdout",
     "output_type": "stream",
     "text": [
      "<class 'pandas.core.frame.DataFrame'>\n",
      "RangeIndex: 112484 entries, 0 to 112483\n",
      "Data columns (total 15 columns):\n",
      "propertylandusetypeid_nan                112484 non-null float64\n",
      "taxvaluedollarcnt                        112484 non-null float64\n",
      "taxamount                                112484 non-null float64\n",
      "propertylandusetypeid_31.0               112484 non-null float64\n",
      "propertylandusetypeid_267.0              112484 non-null float64\n",
      "propertylandusetypeid_275.0              112484 non-null float64\n",
      "propertylandusetypeid_263.0              112484 non-null float64\n",
      "propertylandusetypeid_248.0              112484 non-null float64\n",
      "propertylandusetypeid_247.0              112484 non-null float64\n",
      "propertylandusetypeid_246.0              112484 non-null float64\n",
      "propertylandusetypeid_265.0              112484 non-null float64\n",
      "yearbuilt_quantile_(1823.999, 1953.0]    112484 non-null float64\n",
      "bathroomcnt                              112484 non-null float64\n",
      "quantile_bin_region_Fourth               112484 non-null float64\n",
      "bedroomcnt                               112484 non-null float64\n",
      "dtypes: float64(15)\n",
      "memory usage: 12.9 MB\n"
     ]
    }
   ],
   "source": [
    "X_train_prepared_df[low_p_values].info()\n",
    "#model_and_accuracy(RF_clf, forest_params, low_p_values_X_train_prepared, y_train)"
   ]
  },
  {
   "cell_type": "code",
   "execution_count": 334,
   "metadata": {
    "collapsed": false
   },
   "outputs": [
    {
     "name": "stdout",
     "output_type": "stream",
     "text": [
      "defaultdict(<type 'collections.deque'>, {u'train_time': 7.026000022888184, u'pred_time': 0.5109999179840088, u'Description': u'low_p_value', u'mae_train': 0.034796549831319343})\n"
     ]
    },
    {
     "data": {
      "text/html": [
       "<div>\n",
       "<style scoped>\n",
       "    .dataframe tbody tr th:only-of-type {\n",
       "        vertical-align: middle;\n",
       "    }\n",
       "\n",
       "    .dataframe tbody tr th {\n",
       "        vertical-align: top;\n",
       "    }\n",
       "\n",
       "    .dataframe thead th {\n",
       "        text-align: right;\n",
       "    }\n",
       "</style>\n",
       "<table border=\"1\" class=\"dataframe\">\n",
       "  <thead>\n",
       "    <tr style=\"text-align: right;\">\n",
       "      <th></th>\n",
       "      <th>Description</th>\n",
       "      <th>mae_train</th>\n",
       "      <th>pred_time</th>\n",
       "      <th>train_time</th>\n",
       "    </tr>\n",
       "  </thead>\n",
       "  <tbody>\n",
       "    <tr>\n",
       "      <th>0</th>\n",
       "      <td>base_case</td>\n",
       "      <td>0.034870</td>\n",
       "      <td>0.505</td>\n",
       "      <td>11.760</td>\n",
       "    </tr>\n",
       "    <tr>\n",
       "      <th>1</th>\n",
       "      <td>low_p_value</td>\n",
       "      <td>0.034797</td>\n",
       "      <td>0.511</td>\n",
       "      <td>7.026</td>\n",
       "    </tr>\n",
       "  </tbody>\n",
       "</table>\n",
       "</div>"
      ],
      "text/plain": [
       "   Description  mae_train  pred_time  train_time\n",
       "0    base_case   0.034870      0.505      11.760\n",
       "1  low_p_value   0.034797      0.511       7.026"
      ]
     },
     "execution_count": 334,
     "metadata": {},
     "output_type": "execute_result"
    }
   ],
   "source": [
    "train_predict(RF_clf, X_train_prepared_df[low_p_values], y_train, 'low_p_value')"
   ]
  },
  {
   "cell_type": "code",
   "execution_count": 322,
   "metadata": {
    "collapsed": false
   },
   "outputs": [
    {
     "name": "stdout",
     "output_type": "stream",
     "text": [
      "['roomcnt', 'yearbuilt_quantile_(1987.0, 2016.0]', 'yearbuilt_quantile_(1953.0, 1970.0]', u'quantile_bin_region_Second', u'quantile_bin_region_Third', 'yearbuilt_quantile_(1970.0, 1987.0]', 'propertylandusetypeid_261.0', 'propertylandusetypeid_266.0', u'quantile_bin_region_First', 'propertylandusetypeid_269.0', 'propertylandusetypeid_260.0', u'total_square_footage', 'propertylandusetypeid_264.0']\n"
     ]
    }
   ],
   "source": [
    "# features with a high p value\n",
    "high_p_values = p_values[p_values['p_value'] >= .05]\n",
    "high_p_values = high_p_values[\"column\"].tolist()\n",
    "print(high_p_values)"
   ]
  },
  {
   "cell_type": "code",
   "execution_count": 335,
   "metadata": {
    "collapsed": false
   },
   "outputs": [
    {
     "name": "stdout",
     "output_type": "stream",
     "text": [
      "defaultdict(<type 'collections.deque'>, {u'train_time': 0.03299999237060547, u'pred_time': 0.003000020980834961, u'Description': u'high_p_value', u'mae_train': 0.069064701305236287})\n"
     ]
    },
    {
     "data": {
      "text/html": [
       "<div>\n",
       "<style scoped>\n",
       "    .dataframe tbody tr th:only-of-type {\n",
       "        vertical-align: middle;\n",
       "    }\n",
       "\n",
       "    .dataframe tbody tr th {\n",
       "        vertical-align: top;\n",
       "    }\n",
       "\n",
       "    .dataframe thead th {\n",
       "        text-align: right;\n",
       "    }\n",
       "</style>\n",
       "<table border=\"1\" class=\"dataframe\">\n",
       "  <thead>\n",
       "    <tr style=\"text-align: right;\">\n",
       "      <th></th>\n",
       "      <th>Description</th>\n",
       "      <th>mae_train</th>\n",
       "      <th>pred_time</th>\n",
       "      <th>train_time</th>\n",
       "    </tr>\n",
       "  </thead>\n",
       "  <tbody>\n",
       "    <tr>\n",
       "      <th>0</th>\n",
       "      <td>base_case</td>\n",
       "      <td>0.034870</td>\n",
       "      <td>0.505</td>\n",
       "      <td>11.760</td>\n",
       "    </tr>\n",
       "    <tr>\n",
       "      <th>1</th>\n",
       "      <td>low_p_value</td>\n",
       "      <td>0.034797</td>\n",
       "      <td>0.511</td>\n",
       "      <td>7.026</td>\n",
       "    </tr>\n",
       "    <tr>\n",
       "      <th>2</th>\n",
       "      <td>high_p_value</td>\n",
       "      <td>0.069065</td>\n",
       "      <td>0.003</td>\n",
       "      <td>0.033</td>\n",
       "    </tr>\n",
       "  </tbody>\n",
       "</table>\n",
       "</div>"
      ],
      "text/plain": [
       "    Description  mae_train  pred_time  train_time\n",
       "0     base_case   0.034870      0.505      11.760\n",
       "1   low_p_value   0.034797      0.511       7.026\n",
       "2  high_p_value   0.069065      0.003       0.033"
      ]
     },
     "execution_count": 335,
     "metadata": {},
     "output_type": "execute_result"
    }
   ],
   "source": [
    "train_predict(LASSO_clf, X_train_prepared_df[high_p_values], y_train, 'high_p_value')"
   ]
  },
  {
   "cell_type": "code",
   "execution_count": 344,
   "metadata": {
    "collapsed": true
   },
   "outputs": [],
   "source": [
    "#pipeline\n",
    "num_attribs = list(train_df)\n",
    "\n",
    "num_pipeline = Pipeline([\n",
    "        ('selector', DataFrameSelector(num_attribs)),\n",
    "        ('imputer', Imputer(strategy=\"median\")),\n",
    "        ('std_scaler', scaler),        \n",
    "        ('KBest', SelectKBest(k = 10)),\n",
    "        #('pca', PCA(n_components = 5)),\n",
    "        #('reg', RF_clf)\n",
    "         ])\n",
    "param_distribs= dict(KBest__k = randint(low=1, high=37))\n",
    "rnd_search = RandomizedSearchCV(num_pipeline, param_distributions=param_distribs,\n",
    "                                n_iter=5, cv=kfold, scoring=scoring, random_state=42)"
   ]
  },
  {
   "cell_type": "code",
   "execution_count": null,
   "metadata": {
    "collapsed": false
   },
   "outputs": [],
   "source": [
    "rnd_search_fit = rnd_search.fit(X_train, y_train)"
   ]
  },
  {
   "cell_type": "code",
   "execution_count": null,
   "metadata": {
    "collapsed": true
   },
   "outputs": [],
   "source": [
    "X_train_prepared_skb = num_pipeline.fit_transform(X_train, y_train)"
   ]
  },
  {
   "cell_type": "code",
   "execution_count": 273,
   "metadata": {
    "collapsed": false
   },
   "outputs": [
    {
     "name": "stderr",
     "output_type": "stream",
     "text": [
      "C:\\Users\\203014767\\.conda\\envs\\DAND\\lib\\site-packages\\ipykernel\\__main__.py:1: VisibleDeprecationWarning: using a non-integer number instead of an integer will result in an error in the future\n",
      "  if __name__ == '__main__':\n"
     ]
    },
    {
     "ename": "IndexError",
     "evalue": "only integers, slices (`:`), ellipsis (`...`), numpy.newaxis (`None`) and integer or boolean arrays are valid indices",
     "output_type": "error",
     "traceback": [
      "\u001b[0;31m---------------------------------------------------------------------------\u001b[0m",
      "\u001b[0;31mIndexError\u001b[0m                                Traceback (most recent call last)",
      "\u001b[0;32m<ipython-input-273-d5fe4f34734d>\u001b[0m in \u001b[0;36m<module>\u001b[0;34m()\u001b[0m\n\u001b[0;32m----> 1\u001b[0;31m \u001b[0mmodel_and_accuracy\u001b[0m\u001b[1;33m(\u001b[0m\u001b[0mRF_clf\u001b[0m\u001b[1;33m,\u001b[0m \u001b[0mforest_params\u001b[0m\u001b[1;33m,\u001b[0m \u001b[0mX_train_prepared\u001b[0m\u001b[1;33m[\u001b[0m\u001b[0mhigh_p_values\u001b[0m\u001b[1;33m]\u001b[0m\u001b[1;33m,\u001b[0m \u001b[0my_train\u001b[0m\u001b[1;33m)\u001b[0m\u001b[1;33m\u001b[0m\u001b[0m\n\u001b[0m",
      "\u001b[0;31mIndexError\u001b[0m: only integers, slices (`:`), ellipsis (`...`), numpy.newaxis (`None`) and integer or boolean arrays are valid indices"
     ]
    }
   ],
   "source": [
    "model_and_accuracy(RF_clf, forest_params, X_train_prepared[high_p_values], y_train)"
   ]
  },
  {
   "cell_type": "code",
   "execution_count": null,
   "metadata": {
    "collapsed": true
   },
   "outputs": [],
   "source": [
    "# Sanity Checkhigh_p_values_X_train_prepared"
   ]
  },
  {
   "cell_type": "markdown",
   "metadata": {
    "_cell_guid": "e39e3bdb-f813-4a75-a0e6-1a94c2dd4737",
    "_uuid": "338a743fe80e37b9e5949522472b43e6551c108c",
    "collapsed": true
   },
   "source": [
    "a# create pipeline\n",
    "estimators = []\n",
    "estimators.append(('feature_union', feature_union))\n",
    "#estimators.append(('clf', LASSO_clf))\n",
    "pipeline = Pipeline(estimators)\n",
    "param_grid = {\n",
    "    'feature_union__pca__n_components': randint(low=2, high=10),\n",
    "    'feature_union__select_best__k': randint(low=2, high=15)\n",
    "        }\n",
    "r_search_pca_skb = RandomizedSearchCV(pipeline, param_distributions=param_grid, n_iter=4,random_state=7, \n",
    "                                      scoring = scoring, cv = kfold)\n",
    "r_search_pca_skb.fit(train_df_imp, y)\n",
    "#print(r_search_pca_skb.best_score_)\n",
    "#print(r_search_pca_skb.best_estimator_)\n",
    "print(r_search_pca_skb.best_params_)"
   ]
  },
  {
   "cell_type": "code",
   "execution_count": 67,
   "metadata": {
    "_cell_guid": "3c0b86d8-cc45-4b42-a743-50c476b513e4",
    "_uuid": "0042a942fa35e2cdaeae667b67bdade9f6ebf26f",
    "collapsed": true
   },
   "outputs": [],
   "source": [
    "# this class is used to help with the pipeline.  \n",
    "# More details on this class can found in chapter 2 of Hands-on Machine Learning with Scikit-Learn and Tensorflow\n",
    "from sklearn.base import BaseEstimator, TransformerMixin\n",
    "\n",
    "# Create a class to select numerical or categorical columns \n",
    "# since Scikit-Learn doesn't handle DataFrames yet\n",
    "class DataFrameSelector(BaseEstimator, TransformerMixin):\n",
    "    def __init__(self, attribute_names):\n",
    "        self.attribute_names = attribute_names\n",
    "    def fit(self, X, y=None):\n",
    "        return self\n",
    "    def transform(self, X):\n",
    "        return X[self.attribute_names].values"
   ]
  },
  {
   "cell_type": "code",
   "execution_count": 82,
   "metadata": {
    "collapsed": false
   },
   "outputs": [],
   "source": [
    "#pipeline\n",
    "num_attribs = list(train_df)\n",
    "\n",
    "num_pipeline = Pipeline([\n",
    "        ('selector', DataFrameSelector(num_attribs)),\n",
    "        ('imputer', Imputer(strategy=\"median\")),\n",
    "        ('std_scaler', scaler),        \n",
    "        ('KBest', SelectKBest(k = 10)),\n",
    "        ('pca', PCA(n_components = 5)),\n",
    "        ('reg', RF_clf)\n",
    "         ])\n",
    "\n",
    "param_distribs = {\n",
    "    'KBest__k' : randint(low=1, high=39),\n",
    "    'pca__n_components' : randint(low=1, high=10),\n",
    "    #'reg__min_samples_split': randint(low=1, high=100)\n",
    "    }\n",
    "\n",
    "rnd_search = RandomizedSearchCV(num_pipeline, param_distributions=param_distribs,\n",
    "                                n_iter=10, cv=kfold, scoring=scoring, random_state=42)\n"
   ]
  },
  {
   "cell_type": "markdown",
   "metadata": {},
   "source": [
    "#pipeline\n",
    "num_attribs = list(train_df)\n",
    "num_pipeline = Pipeline([\n",
    "        ('selector', DataFrameSelector(num_attribs)),\n",
    "        ('imputer', Imputer(strategy=\"median\")),\n",
    "        ('std_scaler', scaler), \n",
    "        ('feature_union', feature_union),\n",
    "        #('KBest', SelectKBest(k = 10)),\n",
    "        #('pca', PCA(n_components = 5)),\n",
    "        ('reg', RF_clf)\n",
    "         ])\n",
    "\n",
    "param_distribs = {\n",
    "    'feature_union__pca__n_components': randint(low=2, high=10),\n",
    "    'feature_union__select_best__k': randint(low=2, high=20)\n",
    "    #'reg__min_samples_split': randint(low=1, high=100)\n",
    "    }\n",
    "\n",
    "rnd_search = RandomizedSearchCV(num_pipeline, param_distributions=param_distribs,\n",
    "                                n_iter=10, cv=kfold, scoring=scoring, random_state=42)"
   ]
  },
  {
   "cell_type": "code",
   "execution_count": 83,
   "metadata": {
    "collapsed": false
   },
   "outputs": [
    {
     "ename": "ValueError",
     "evalue": "k should be >=0, <= n_features; got 36.Use k='all' to return all features.",
     "output_type": "error",
     "traceback": [
      "\u001b[0;31m---------------------------------------------------------------------------\u001b[0m",
      "\u001b[0;31mValueError\u001b[0m                                Traceback (most recent call last)",
      "\u001b[0;32m<ipython-input-83-18c697c35e93>\u001b[0m in \u001b[0;36m<module>\u001b[0;34m()\u001b[0m\n\u001b[0;32m----> 1\u001b[0;31m \u001b[0mrnd_search_fit\u001b[0m \u001b[1;33m=\u001b[0m \u001b[0mrnd_search\u001b[0m\u001b[1;33m.\u001b[0m\u001b[0mfit\u001b[0m\u001b[1;33m(\u001b[0m\u001b[0mX_train\u001b[0m\u001b[1;33m,\u001b[0m \u001b[0my_train\u001b[0m\u001b[1;33m)\u001b[0m\u001b[1;33m\u001b[0m\u001b[0m\n\u001b[0m",
      "\u001b[0;32mC:\\Users\\203014767\\.conda\\envs\\DAND\\lib\\site-packages\\sklearn\\model_selection\\_search.pyc\u001b[0m in \u001b[0;36mfit\u001b[0;34m(self, X, y, groups, **fit_params)\u001b[0m\n\u001b[1;32m    637\u001b[0m                                   error_score=self.error_score)\n\u001b[1;32m    638\u001b[0m           for parameters, (train, test) in product(candidate_params,\n\u001b[0;32m--> 639\u001b[0;31m                                                    cv.split(X, y, groups)))\n\u001b[0m\u001b[1;32m    640\u001b[0m \u001b[1;33m\u001b[0m\u001b[0m\n\u001b[1;32m    641\u001b[0m         \u001b[1;31m# if one choose to see train score, \"out\" will contain train score info\u001b[0m\u001b[1;33m\u001b[0m\u001b[1;33m\u001b[0m\u001b[0m\n",
      "\u001b[0;32mC:\\Users\\203014767\\.conda\\envs\\DAND\\lib\\site-packages\\sklearn\\externals\\joblib\\parallel.pyc\u001b[0m in \u001b[0;36m__call__\u001b[0;34m(self, iterable)\u001b[0m\n\u001b[1;32m    777\u001b[0m             \u001b[1;31m# was dispatched. In particular this covers the edge\u001b[0m\u001b[1;33m\u001b[0m\u001b[1;33m\u001b[0m\u001b[0m\n\u001b[1;32m    778\u001b[0m             \u001b[1;31m# case of Parallel used with an exhausted iterator.\u001b[0m\u001b[1;33m\u001b[0m\u001b[1;33m\u001b[0m\u001b[0m\n\u001b[0;32m--> 779\u001b[0;31m             \u001b[1;32mwhile\u001b[0m \u001b[0mself\u001b[0m\u001b[1;33m.\u001b[0m\u001b[0mdispatch_one_batch\u001b[0m\u001b[1;33m(\u001b[0m\u001b[0miterator\u001b[0m\u001b[1;33m)\u001b[0m\u001b[1;33m:\u001b[0m\u001b[1;33m\u001b[0m\u001b[0m\n\u001b[0m\u001b[1;32m    780\u001b[0m                 \u001b[0mself\u001b[0m\u001b[1;33m.\u001b[0m\u001b[0m_iterating\u001b[0m \u001b[1;33m=\u001b[0m \u001b[0mTrue\u001b[0m\u001b[1;33m\u001b[0m\u001b[0m\n\u001b[1;32m    781\u001b[0m             \u001b[1;32melse\u001b[0m\u001b[1;33m:\u001b[0m\u001b[1;33m\u001b[0m\u001b[0m\n",
      "\u001b[0;32mC:\\Users\\203014767\\.conda\\envs\\DAND\\lib\\site-packages\\sklearn\\externals\\joblib\\parallel.pyc\u001b[0m in \u001b[0;36mdispatch_one_batch\u001b[0;34m(self, iterator)\u001b[0m\n\u001b[1;32m    623\u001b[0m                 \u001b[1;32mreturn\u001b[0m \u001b[0mFalse\u001b[0m\u001b[1;33m\u001b[0m\u001b[0m\n\u001b[1;32m    624\u001b[0m             \u001b[1;32melse\u001b[0m\u001b[1;33m:\u001b[0m\u001b[1;33m\u001b[0m\u001b[0m\n\u001b[0;32m--> 625\u001b[0;31m                 \u001b[0mself\u001b[0m\u001b[1;33m.\u001b[0m\u001b[0m_dispatch\u001b[0m\u001b[1;33m(\u001b[0m\u001b[0mtasks\u001b[0m\u001b[1;33m)\u001b[0m\u001b[1;33m\u001b[0m\u001b[0m\n\u001b[0m\u001b[1;32m    626\u001b[0m                 \u001b[1;32mreturn\u001b[0m \u001b[0mTrue\u001b[0m\u001b[1;33m\u001b[0m\u001b[0m\n\u001b[1;32m    627\u001b[0m \u001b[1;33m\u001b[0m\u001b[0m\n",
      "\u001b[0;32mC:\\Users\\203014767\\.conda\\envs\\DAND\\lib\\site-packages\\sklearn\\externals\\joblib\\parallel.pyc\u001b[0m in \u001b[0;36m_dispatch\u001b[0;34m(self, batch)\u001b[0m\n\u001b[1;32m    586\u001b[0m         \u001b[0mdispatch_timestamp\u001b[0m \u001b[1;33m=\u001b[0m \u001b[0mtime\u001b[0m\u001b[1;33m.\u001b[0m\u001b[0mtime\u001b[0m\u001b[1;33m(\u001b[0m\u001b[1;33m)\u001b[0m\u001b[1;33m\u001b[0m\u001b[0m\n\u001b[1;32m    587\u001b[0m         \u001b[0mcb\u001b[0m \u001b[1;33m=\u001b[0m \u001b[0mBatchCompletionCallBack\u001b[0m\u001b[1;33m(\u001b[0m\u001b[0mdispatch_timestamp\u001b[0m\u001b[1;33m,\u001b[0m \u001b[0mlen\u001b[0m\u001b[1;33m(\u001b[0m\u001b[0mbatch\u001b[0m\u001b[1;33m)\u001b[0m\u001b[1;33m,\u001b[0m \u001b[0mself\u001b[0m\u001b[1;33m)\u001b[0m\u001b[1;33m\u001b[0m\u001b[0m\n\u001b[0;32m--> 588\u001b[0;31m         \u001b[0mjob\u001b[0m \u001b[1;33m=\u001b[0m \u001b[0mself\u001b[0m\u001b[1;33m.\u001b[0m\u001b[0m_backend\u001b[0m\u001b[1;33m.\u001b[0m\u001b[0mapply_async\u001b[0m\u001b[1;33m(\u001b[0m\u001b[0mbatch\u001b[0m\u001b[1;33m,\u001b[0m \u001b[0mcallback\u001b[0m\u001b[1;33m=\u001b[0m\u001b[0mcb\u001b[0m\u001b[1;33m)\u001b[0m\u001b[1;33m\u001b[0m\u001b[0m\n\u001b[0m\u001b[1;32m    589\u001b[0m         \u001b[0mself\u001b[0m\u001b[1;33m.\u001b[0m\u001b[0m_jobs\u001b[0m\u001b[1;33m.\u001b[0m\u001b[0mappend\u001b[0m\u001b[1;33m(\u001b[0m\u001b[0mjob\u001b[0m\u001b[1;33m)\u001b[0m\u001b[1;33m\u001b[0m\u001b[0m\n\u001b[1;32m    590\u001b[0m \u001b[1;33m\u001b[0m\u001b[0m\n",
      "\u001b[0;32mC:\\Users\\203014767\\.conda\\envs\\DAND\\lib\\site-packages\\sklearn\\externals\\joblib\\_parallel_backends.pyc\u001b[0m in \u001b[0;36mapply_async\u001b[0;34m(self, func, callback)\u001b[0m\n\u001b[1;32m    109\u001b[0m     \u001b[1;32mdef\u001b[0m \u001b[0mapply_async\u001b[0m\u001b[1;33m(\u001b[0m\u001b[0mself\u001b[0m\u001b[1;33m,\u001b[0m \u001b[0mfunc\u001b[0m\u001b[1;33m,\u001b[0m \u001b[0mcallback\u001b[0m\u001b[1;33m=\u001b[0m\u001b[0mNone\u001b[0m\u001b[1;33m)\u001b[0m\u001b[1;33m:\u001b[0m\u001b[1;33m\u001b[0m\u001b[0m\n\u001b[1;32m    110\u001b[0m         \u001b[1;34m\"\"\"Schedule a func to be run\"\"\"\u001b[0m\u001b[1;33m\u001b[0m\u001b[0m\n\u001b[0;32m--> 111\u001b[0;31m         \u001b[0mresult\u001b[0m \u001b[1;33m=\u001b[0m \u001b[0mImmediateResult\u001b[0m\u001b[1;33m(\u001b[0m\u001b[0mfunc\u001b[0m\u001b[1;33m)\u001b[0m\u001b[1;33m\u001b[0m\u001b[0m\n\u001b[0m\u001b[1;32m    112\u001b[0m         \u001b[1;32mif\u001b[0m \u001b[0mcallback\u001b[0m\u001b[1;33m:\u001b[0m\u001b[1;33m\u001b[0m\u001b[0m\n\u001b[1;32m    113\u001b[0m             \u001b[0mcallback\u001b[0m\u001b[1;33m(\u001b[0m\u001b[0mresult\u001b[0m\u001b[1;33m)\u001b[0m\u001b[1;33m\u001b[0m\u001b[0m\n",
      "\u001b[0;32mC:\\Users\\203014767\\.conda\\envs\\DAND\\lib\\site-packages\\sklearn\\externals\\joblib\\_parallel_backends.pyc\u001b[0m in \u001b[0;36m__init__\u001b[0;34m(self, batch)\u001b[0m\n\u001b[1;32m    330\u001b[0m         \u001b[1;31m# Don't delay the application, to avoid keeping the input\u001b[0m\u001b[1;33m\u001b[0m\u001b[1;33m\u001b[0m\u001b[0m\n\u001b[1;32m    331\u001b[0m         \u001b[1;31m# arguments in memory\u001b[0m\u001b[1;33m\u001b[0m\u001b[1;33m\u001b[0m\u001b[0m\n\u001b[0;32m--> 332\u001b[0;31m         \u001b[0mself\u001b[0m\u001b[1;33m.\u001b[0m\u001b[0mresults\u001b[0m \u001b[1;33m=\u001b[0m \u001b[0mbatch\u001b[0m\u001b[1;33m(\u001b[0m\u001b[1;33m)\u001b[0m\u001b[1;33m\u001b[0m\u001b[0m\n\u001b[0m\u001b[1;32m    333\u001b[0m \u001b[1;33m\u001b[0m\u001b[0m\n\u001b[1;32m    334\u001b[0m     \u001b[1;32mdef\u001b[0m \u001b[0mget\u001b[0m\u001b[1;33m(\u001b[0m\u001b[0mself\u001b[0m\u001b[1;33m)\u001b[0m\u001b[1;33m:\u001b[0m\u001b[1;33m\u001b[0m\u001b[0m\n",
      "\u001b[0;32mC:\\Users\\203014767\\.conda\\envs\\DAND\\lib\\site-packages\\sklearn\\externals\\joblib\\parallel.pyc\u001b[0m in \u001b[0;36m__call__\u001b[0;34m(self)\u001b[0m\n\u001b[1;32m    129\u001b[0m \u001b[1;33m\u001b[0m\u001b[0m\n\u001b[1;32m    130\u001b[0m     \u001b[1;32mdef\u001b[0m \u001b[0m__call__\u001b[0m\u001b[1;33m(\u001b[0m\u001b[0mself\u001b[0m\u001b[1;33m)\u001b[0m\u001b[1;33m:\u001b[0m\u001b[1;33m\u001b[0m\u001b[0m\n\u001b[0;32m--> 131\u001b[0;31m         \u001b[1;32mreturn\u001b[0m \u001b[1;33m[\u001b[0m\u001b[0mfunc\u001b[0m\u001b[1;33m(\u001b[0m\u001b[1;33m*\u001b[0m\u001b[0margs\u001b[0m\u001b[1;33m,\u001b[0m \u001b[1;33m**\u001b[0m\u001b[0mkwargs\u001b[0m\u001b[1;33m)\u001b[0m \u001b[1;32mfor\u001b[0m \u001b[0mfunc\u001b[0m\u001b[1;33m,\u001b[0m \u001b[0margs\u001b[0m\u001b[1;33m,\u001b[0m \u001b[0mkwargs\u001b[0m \u001b[1;32min\u001b[0m \u001b[0mself\u001b[0m\u001b[1;33m.\u001b[0m\u001b[0mitems\u001b[0m\u001b[1;33m]\u001b[0m\u001b[1;33m\u001b[0m\u001b[0m\n\u001b[0m\u001b[1;32m    132\u001b[0m \u001b[1;33m\u001b[0m\u001b[0m\n\u001b[1;32m    133\u001b[0m     \u001b[1;32mdef\u001b[0m \u001b[0m__len__\u001b[0m\u001b[1;33m(\u001b[0m\u001b[0mself\u001b[0m\u001b[1;33m)\u001b[0m\u001b[1;33m:\u001b[0m\u001b[1;33m\u001b[0m\u001b[0m\n",
      "\u001b[0;32mC:\\Users\\203014767\\.conda\\envs\\DAND\\lib\\site-packages\\sklearn\\model_selection\\_validation.pyc\u001b[0m in \u001b[0;36m_fit_and_score\u001b[0;34m(estimator, X, y, scorer, train, test, verbose, parameters, fit_params, return_train_score, return_parameters, return_n_test_samples, return_times, error_score)\u001b[0m\n\u001b[1;32m    456\u001b[0m             \u001b[0mestimator\u001b[0m\u001b[1;33m.\u001b[0m\u001b[0mfit\u001b[0m\u001b[1;33m(\u001b[0m\u001b[0mX_train\u001b[0m\u001b[1;33m,\u001b[0m \u001b[1;33m**\u001b[0m\u001b[0mfit_params\u001b[0m\u001b[1;33m)\u001b[0m\u001b[1;33m\u001b[0m\u001b[0m\n\u001b[1;32m    457\u001b[0m         \u001b[1;32melse\u001b[0m\u001b[1;33m:\u001b[0m\u001b[1;33m\u001b[0m\u001b[0m\n\u001b[0;32m--> 458\u001b[0;31m             \u001b[0mestimator\u001b[0m\u001b[1;33m.\u001b[0m\u001b[0mfit\u001b[0m\u001b[1;33m(\u001b[0m\u001b[0mX_train\u001b[0m\u001b[1;33m,\u001b[0m \u001b[0my_train\u001b[0m\u001b[1;33m,\u001b[0m \u001b[1;33m**\u001b[0m\u001b[0mfit_params\u001b[0m\u001b[1;33m)\u001b[0m\u001b[1;33m\u001b[0m\u001b[0m\n\u001b[0m\u001b[1;32m    459\u001b[0m \u001b[1;33m\u001b[0m\u001b[0m\n\u001b[1;32m    460\u001b[0m     \u001b[1;32mexcept\u001b[0m \u001b[0mException\u001b[0m \u001b[1;32mas\u001b[0m \u001b[0me\u001b[0m\u001b[1;33m:\u001b[0m\u001b[1;33m\u001b[0m\u001b[0m\n",
      "\u001b[0;32mC:\\Users\\203014767\\.conda\\envs\\DAND\\lib\\site-packages\\sklearn\\pipeline.pyc\u001b[0m in \u001b[0;36mfit\u001b[0;34m(self, X, y, **fit_params)\u001b[0m\n\u001b[1;32m    246\u001b[0m             \u001b[0mThis\u001b[0m \u001b[0mestimator\u001b[0m\u001b[1;33m\u001b[0m\u001b[0m\n\u001b[1;32m    247\u001b[0m         \"\"\"\n\u001b[0;32m--> 248\u001b[0;31m         \u001b[0mXt\u001b[0m\u001b[1;33m,\u001b[0m \u001b[0mfit_params\u001b[0m \u001b[1;33m=\u001b[0m \u001b[0mself\u001b[0m\u001b[1;33m.\u001b[0m\u001b[0m_fit\u001b[0m\u001b[1;33m(\u001b[0m\u001b[0mX\u001b[0m\u001b[1;33m,\u001b[0m \u001b[0my\u001b[0m\u001b[1;33m,\u001b[0m \u001b[1;33m**\u001b[0m\u001b[0mfit_params\u001b[0m\u001b[1;33m)\u001b[0m\u001b[1;33m\u001b[0m\u001b[0m\n\u001b[0m\u001b[1;32m    249\u001b[0m         \u001b[1;32mif\u001b[0m \u001b[0mself\u001b[0m\u001b[1;33m.\u001b[0m\u001b[0m_final_estimator\u001b[0m \u001b[1;32mis\u001b[0m \u001b[1;32mnot\u001b[0m \u001b[0mNone\u001b[0m\u001b[1;33m:\u001b[0m\u001b[1;33m\u001b[0m\u001b[0m\n\u001b[1;32m    250\u001b[0m             \u001b[0mself\u001b[0m\u001b[1;33m.\u001b[0m\u001b[0m_final_estimator\u001b[0m\u001b[1;33m.\u001b[0m\u001b[0mfit\u001b[0m\u001b[1;33m(\u001b[0m\u001b[0mXt\u001b[0m\u001b[1;33m,\u001b[0m \u001b[0my\u001b[0m\u001b[1;33m,\u001b[0m \u001b[1;33m**\u001b[0m\u001b[0mfit_params\u001b[0m\u001b[1;33m)\u001b[0m\u001b[1;33m\u001b[0m\u001b[0m\n",
      "\u001b[0;32mC:\\Users\\203014767\\.conda\\envs\\DAND\\lib\\site-packages\\sklearn\\pipeline.pyc\u001b[0m in \u001b[0;36m_fit\u001b[0;34m(self, X, y, **fit_params)\u001b[0m\n\u001b[1;32m    211\u001b[0m                 Xt, fitted_transformer = fit_transform_one_cached(\n\u001b[1;32m    212\u001b[0m                     \u001b[0mcloned_transformer\u001b[0m\u001b[1;33m,\u001b[0m \u001b[0mNone\u001b[0m\u001b[1;33m,\u001b[0m \u001b[0mXt\u001b[0m\u001b[1;33m,\u001b[0m \u001b[0my\u001b[0m\u001b[1;33m,\u001b[0m\u001b[1;33m\u001b[0m\u001b[0m\n\u001b[0;32m--> 213\u001b[0;31m                     **fit_params_steps[name])\n\u001b[0m\u001b[1;32m    214\u001b[0m                 \u001b[1;31m# Replace the transformer of the step with the fitted\u001b[0m\u001b[1;33m\u001b[0m\u001b[1;33m\u001b[0m\u001b[0m\n\u001b[1;32m    215\u001b[0m                 \u001b[1;31m# transformer. This is necessary when loading the transformer\u001b[0m\u001b[1;33m\u001b[0m\u001b[1;33m\u001b[0m\u001b[0m\n",
      "\u001b[0;32mC:\\Users\\203014767\\.conda\\envs\\DAND\\lib\\site-packages\\sklearn\\externals\\joblib\\memory.pyc\u001b[0m in \u001b[0;36m__call__\u001b[0;34m(self, *args, **kwargs)\u001b[0m\n\u001b[1;32m    360\u001b[0m \u001b[1;33m\u001b[0m\u001b[0m\n\u001b[1;32m    361\u001b[0m     \u001b[1;32mdef\u001b[0m \u001b[0m__call__\u001b[0m\u001b[1;33m(\u001b[0m\u001b[0mself\u001b[0m\u001b[1;33m,\u001b[0m \u001b[1;33m*\u001b[0m\u001b[0margs\u001b[0m\u001b[1;33m,\u001b[0m \u001b[1;33m**\u001b[0m\u001b[0mkwargs\u001b[0m\u001b[1;33m)\u001b[0m\u001b[1;33m:\u001b[0m\u001b[1;33m\u001b[0m\u001b[0m\n\u001b[0;32m--> 362\u001b[0;31m         \u001b[1;32mreturn\u001b[0m \u001b[0mself\u001b[0m\u001b[1;33m.\u001b[0m\u001b[0mfunc\u001b[0m\u001b[1;33m(\u001b[0m\u001b[1;33m*\u001b[0m\u001b[0margs\u001b[0m\u001b[1;33m,\u001b[0m \u001b[1;33m**\u001b[0m\u001b[0mkwargs\u001b[0m\u001b[1;33m)\u001b[0m\u001b[1;33m\u001b[0m\u001b[0m\n\u001b[0m\u001b[1;32m    363\u001b[0m \u001b[1;33m\u001b[0m\u001b[0m\n\u001b[1;32m    364\u001b[0m     \u001b[1;32mdef\u001b[0m \u001b[0mcall_and_shelve\u001b[0m\u001b[1;33m(\u001b[0m\u001b[0mself\u001b[0m\u001b[1;33m,\u001b[0m \u001b[1;33m*\u001b[0m\u001b[0margs\u001b[0m\u001b[1;33m,\u001b[0m \u001b[1;33m**\u001b[0m\u001b[0mkwargs\u001b[0m\u001b[1;33m)\u001b[0m\u001b[1;33m:\u001b[0m\u001b[1;33m\u001b[0m\u001b[0m\n",
      "\u001b[0;32mC:\\Users\\203014767\\.conda\\envs\\DAND\\lib\\site-packages\\sklearn\\pipeline.pyc\u001b[0m in \u001b[0;36m_fit_transform_one\u001b[0;34m(transformer, weight, X, y, **fit_params)\u001b[0m\n\u001b[1;32m    579\u001b[0m                        **fit_params):\n\u001b[1;32m    580\u001b[0m     \u001b[1;32mif\u001b[0m \u001b[0mhasattr\u001b[0m\u001b[1;33m(\u001b[0m\u001b[0mtransformer\u001b[0m\u001b[1;33m,\u001b[0m \u001b[1;34m'fit_transform'\u001b[0m\u001b[1;33m)\u001b[0m\u001b[1;33m:\u001b[0m\u001b[1;33m\u001b[0m\u001b[0m\n\u001b[0;32m--> 581\u001b[0;31m         \u001b[0mres\u001b[0m \u001b[1;33m=\u001b[0m \u001b[0mtransformer\u001b[0m\u001b[1;33m.\u001b[0m\u001b[0mfit_transform\u001b[0m\u001b[1;33m(\u001b[0m\u001b[0mX\u001b[0m\u001b[1;33m,\u001b[0m \u001b[0my\u001b[0m\u001b[1;33m,\u001b[0m \u001b[1;33m**\u001b[0m\u001b[0mfit_params\u001b[0m\u001b[1;33m)\u001b[0m\u001b[1;33m\u001b[0m\u001b[0m\n\u001b[0m\u001b[1;32m    582\u001b[0m     \u001b[1;32melse\u001b[0m\u001b[1;33m:\u001b[0m\u001b[1;33m\u001b[0m\u001b[0m\n\u001b[1;32m    583\u001b[0m         \u001b[0mres\u001b[0m \u001b[1;33m=\u001b[0m \u001b[0mtransformer\u001b[0m\u001b[1;33m.\u001b[0m\u001b[0mfit\u001b[0m\u001b[1;33m(\u001b[0m\u001b[0mX\u001b[0m\u001b[1;33m,\u001b[0m \u001b[0my\u001b[0m\u001b[1;33m,\u001b[0m \u001b[1;33m**\u001b[0m\u001b[0mfit_params\u001b[0m\u001b[1;33m)\u001b[0m\u001b[1;33m.\u001b[0m\u001b[0mtransform\u001b[0m\u001b[1;33m(\u001b[0m\u001b[0mX\u001b[0m\u001b[1;33m)\u001b[0m\u001b[1;33m\u001b[0m\u001b[0m\n",
      "\u001b[0;32mC:\\Users\\203014767\\.conda\\envs\\DAND\\lib\\site-packages\\sklearn\\base.pyc\u001b[0m in \u001b[0;36mfit_transform\u001b[0;34m(self, X, y, **fit_params)\u001b[0m\n\u001b[1;32m    518\u001b[0m         \u001b[1;32melse\u001b[0m\u001b[1;33m:\u001b[0m\u001b[1;33m\u001b[0m\u001b[0m\n\u001b[1;32m    519\u001b[0m             \u001b[1;31m# fit method of arity 2 (supervised transformation)\u001b[0m\u001b[1;33m\u001b[0m\u001b[1;33m\u001b[0m\u001b[0m\n\u001b[0;32m--> 520\u001b[0;31m             \u001b[1;32mreturn\u001b[0m \u001b[0mself\u001b[0m\u001b[1;33m.\u001b[0m\u001b[0mfit\u001b[0m\u001b[1;33m(\u001b[0m\u001b[0mX\u001b[0m\u001b[1;33m,\u001b[0m \u001b[0my\u001b[0m\u001b[1;33m,\u001b[0m \u001b[1;33m**\u001b[0m\u001b[0mfit_params\u001b[0m\u001b[1;33m)\u001b[0m\u001b[1;33m.\u001b[0m\u001b[0mtransform\u001b[0m\u001b[1;33m(\u001b[0m\u001b[0mX\u001b[0m\u001b[1;33m)\u001b[0m\u001b[1;33m\u001b[0m\u001b[0m\n\u001b[0m\u001b[1;32m    521\u001b[0m \u001b[1;33m\u001b[0m\u001b[0m\n\u001b[1;32m    522\u001b[0m \u001b[1;33m\u001b[0m\u001b[0m\n",
      "\u001b[0;32mC:\\Users\\203014767\\.conda\\envs\\DAND\\lib\\site-packages\\sklearn\\feature_selection\\univariate_selection.pyc\u001b[0m in \u001b[0;36mfit\u001b[0;34m(self, X, y)\u001b[0m\n\u001b[1;32m    346\u001b[0m                             % (self.score_func, type(self.score_func)))\n\u001b[1;32m    347\u001b[0m \u001b[1;33m\u001b[0m\u001b[0m\n\u001b[0;32m--> 348\u001b[0;31m         \u001b[0mself\u001b[0m\u001b[1;33m.\u001b[0m\u001b[0m_check_params\u001b[0m\u001b[1;33m(\u001b[0m\u001b[0mX\u001b[0m\u001b[1;33m,\u001b[0m \u001b[0my\u001b[0m\u001b[1;33m)\u001b[0m\u001b[1;33m\u001b[0m\u001b[0m\n\u001b[0m\u001b[1;32m    349\u001b[0m         \u001b[0mscore_func_ret\u001b[0m \u001b[1;33m=\u001b[0m \u001b[0mself\u001b[0m\u001b[1;33m.\u001b[0m\u001b[0mscore_func\u001b[0m\u001b[1;33m(\u001b[0m\u001b[0mX\u001b[0m\u001b[1;33m,\u001b[0m \u001b[0my\u001b[0m\u001b[1;33m)\u001b[0m\u001b[1;33m\u001b[0m\u001b[0m\n\u001b[1;32m    350\u001b[0m         \u001b[1;32mif\u001b[0m \u001b[0misinstance\u001b[0m\u001b[1;33m(\u001b[0m\u001b[0mscore_func_ret\u001b[0m\u001b[1;33m,\u001b[0m \u001b[1;33m(\u001b[0m\u001b[0mlist\u001b[0m\u001b[1;33m,\u001b[0m \u001b[0mtuple\u001b[0m\u001b[1;33m)\u001b[0m\u001b[1;33m)\u001b[0m\u001b[1;33m:\u001b[0m\u001b[1;33m\u001b[0m\u001b[0m\n",
      "\u001b[0;32mC:\\Users\\203014767\\.conda\\envs\\DAND\\lib\\site-packages\\sklearn\\feature_selection\\univariate_selection.pyc\u001b[0m in \u001b[0;36m_check_params\u001b[0;34m(self, X, y)\u001b[0m\n\u001b[1;32m    491\u001b[0m             raise ValueError(\"k should be >=0, <= n_features; got %r.\"\n\u001b[1;32m    492\u001b[0m                              \u001b[1;34m\"Use k='all' to return all features.\"\u001b[0m\u001b[1;33m\u001b[0m\u001b[0m\n\u001b[0;32m--> 493\u001b[0;31m                              % self.k)\n\u001b[0m\u001b[1;32m    494\u001b[0m \u001b[1;33m\u001b[0m\u001b[0m\n\u001b[1;32m    495\u001b[0m     \u001b[1;32mdef\u001b[0m \u001b[0m_get_support_mask\u001b[0m\u001b[1;33m(\u001b[0m\u001b[0mself\u001b[0m\u001b[1;33m)\u001b[0m\u001b[1;33m:\u001b[0m\u001b[1;33m\u001b[0m\u001b[0m\n",
      "\u001b[0;31mValueError\u001b[0m: k should be >=0, <= n_features; got 36.Use k='all' to return all features."
     ]
    }
   ],
   "source": [
    "rnd_search_fit = rnd_search.fit(X_train, y_train)"
   ]
  },
  {
   "cell_type": "code",
   "execution_count": null,
   "metadata": {
    "collapsed": false
   },
   "outputs": [],
   "source": [
    "print(rnd_search_fit.best_params_)"
   ]
  },
  {
   "cell_type": "markdown",
   "metadata": {
    "_cell_guid": "d9f62b64-562a-41d3-9ded-a0f67459e1f1",
    "_uuid": "80259e169a47487fd88260ecb662c8468b5c1ade"
   },
   "source": [
    "#title = \"Learning Curves (GB UnTuned)\"\n",
    "#plot_learning_curve(GB_clf, title, X_train_prepared, y_train, cv=kfold)\n",
    "\n",
    "title = \"Learning Curves (LASSO Tuned)\"\n",
    "plot_learning_curve(LASSO_clf_tuned, title, X_train_final, y_train, cv=kfold)\n",
    "\n",
    "title = \"Learning Curves (MLP Untuned)\"\n",
    "plot_learning_curve(keras_clf, title, X_train_final, y_train, cv=kfold)\n",
    "\n",
    "title = \"Learning Curves (RF Tuned)\"\n",
    "plot_learning_curve(RF_clf_tuned, title, X_train_final, y_train, cv=kfold)\n",
    "\n",
    "title = \"Learning Curves (GB Tuned)\"\n",
    "plot_learning_curve(GB_clf_tuned, title, X_train_final, y_train, cv=kfold)\n",
    "\n",
    "title = \"Learning Curves (Stacking)\"\n",
    "plot_learning_curve(stregr_clf, title, X_train_final, y_train, cv=kfold)\n",
    "#title = \"Learning Curves (Voting Tuned)\"\n",
    "# Cross validation with 100 iterations to get smoother mean test and train\n",
    "# score curves, each time with 20% data randomly selected as a validation set.\n",
    "#plot_learning_curve(voting_ensemble, title, X_train_scaled, y_train, cv=sss, n_jobs=1)"
   ]
  },
  {
   "cell_type": "markdown",
   "metadata": {
    "_cell_guid": "d9f62b64-562a-41d3-9ded-a0f67459e1f1",
    "_uuid": "80259e169a47487fd88260ecb662c8468b5c1ade"
   },
   "source": [
    "#title = \"Learning Curves (GB UnTuned)\"\n",
    "#plot_learning_curve(GB_clf, title, X_train_prepared, y_train, cv=kfold)\n",
    "\n",
    "title = \"Learning Curves (LASSO Tuned)\"\n",
    "plot_learning_curve(LASSO_clf_tuned, title, X_train_final, y_train, cv=kfold)\n",
    "\n",
    "title = \"Learning Curves (MLP Untuned)\"\n",
    "plot_learning_curve(keras_clf, title, X_train_final, y_train, cv=kfold)\n",
    "\n",
    "title = \"Learning Curves (RF Tuned)\"\n",
    "plot_learning_curve(RF_clf_tuned, title, X_train_final, y_train, cv=kfold)\n",
    "\n",
    "title = \"Learning Curves (GB Tuned)\"\n",
    "plot_learning_curve(GB_clf_tuned, title, X_train_final, y_train, cv=kfold)\n",
    "\n",
    "title = \"Learning Curves (Stacking)\"\n",
    "plot_learning_curve(stregr_clf, title, X_train_final, y_train, cv=kfold)\n",
    "#title = \"Learning Curves (Voting Tuned)\"\n",
    "# Cross validation with 100 iterations to get smoother mean test and train\n",
    "# score curves, each time with 20% data randomly selected as a validation set.\n",
    "#plot_learning_curve(voting_ensemble, title, X_train_scaled, y_train, cv=sss, n_jobs=1)"
   ]
  },
  {
   "cell_type": "markdown",
   "metadata": {
    "_cell_guid": "d9f62b64-562a-41d3-9ded-a0f67459e1f1",
    "_uuid": "80259e169a47487fd88260ecb662c8468b5c1ade"
   },
   "source": [
    "#title = \"Learning Curves (GB UnTuned)\"\n",
    "#plot_learning_curve(GB_clf, title, X_train_prepared, y_train, cv=kfold)\n",
    "\n",
    "title = \"Learning Curves (LASSO Tuned)\"\n",
    "plot_learning_curve(LASSO_clf_tuned, title, X_train_final, y_train, cv=kfold)\n",
    "\n",
    "title = \"Learning Curves (MLP Untuned)\"\n",
    "plot_learning_curve(keras_clf, title, X_train_final, y_train, cv=kfold)\n",
    "\n",
    "title = \"Learning Curves (RF Tuned)\"\n",
    "plot_learning_curve(RF_clf_tuned, title, X_train_final, y_train, cv=kfold)\n",
    "\n",
    "title = \"Learning Curves (GB Tuned)\"\n",
    "plot_learning_curve(GB_clf_tuned, title, X_train_final, y_train, cv=kfold)\n",
    "\n",
    "title = \"Learning Curves (Stacking)\"\n",
    "plot_learning_curve(stregr_clf, title, X_train_final, y_train, cv=kfold)\n",
    "#title = \"Learning Curves (Voting Tuned)\"\n",
    "# Cross validation with 100 iterations to get smoother mean test and train\n",
    "# score curves, each time with 20% data randomly selected as a validation set.\n",
    "#plot_learning_curve(voting_ensemble, title, X_train_scaled, y_train, cv=sss, n_jobs=1)"
   ]
  },
  {
   "cell_type": "code",
   "execution_count": null,
   "metadata": {
    "_cell_guid": "7acee671-5c82-4474-baed-9ed2f53b2866",
    "_uuid": "c9ba8d8ff9afe8a735262592dc5d550b5254a863",
    "collapsed": true
   },
   "outputs": [],
   "source": [
    "train_df_imp = my_imputer.fit_transform(train_df)\n",
    "train_df_scaled = scaler.fit_transform(train_df_imp)"
   ]
  },
  {
   "cell_type": "code",
   "execution_count": null,
   "metadata": {
    "_cell_guid": "3feef9f5-372c-4344-a82b-a0fc4ecf8ded",
    "_uuid": "43da37f80360210b1a239c367d054f58b4cf90f8",
    "collapsed": true
   },
   "outputs": [],
   "source": [
    "k_best = SelectKBest(chi2, k=10)\n",
    "X_train_skb = k_best.fit_transform(X_train_imp, y_train)"
   ]
  },
  {
   "cell_type": "code",
   "execution_count": null,
   "metadata": {
    "_cell_guid": "dc337965-00a6-42c4-a14e-a581b631424d",
    "_uuid": "68eed85bd51f1e1fc56cc303b52fca8180f38eaa",
    "collapsed": true
   },
   "outputs": [],
   "source": []
  },
  {
   "cell_type": "code",
   "execution_count": null,
   "metadata": {
    "_cell_guid": "4d83df2d-f361-491a-94d0-8ff3184b3dc0",
    "_uuid": "7986fcc187636131f271fefe212a5cef07f79365",
    "collapsed": true
   },
   "outputs": [],
   "source": []
  },
  {
   "cell_type": "code",
   "execution_count": null,
   "metadata": {
    "_cell_guid": "d784adba-ff4c-4b5b-b9ec-b4634d8ece68",
    "_uuid": "3658c1fe4cd1b1a3675d35d73076344b477e3c6a",
    "collapsed": true
   },
   "outputs": [],
   "source": []
  },
  {
   "cell_type": "markdown",
   "metadata": {
    "_cell_guid": "0cc459f3-4426-4a38-964b-029ee39a24a7",
    "_uuid": "1be67c0a8cc71c5845a8819103d01a62dc45a510",
    "collapsed": true
   },
   "source": [
    "pca = PCA(n_components=.8)\n",
    "X_train_final = pca.fit_transform(X_train_scaled)"
   ]
  },
  {
   "cell_type": "markdown",
   "metadata": {
    "_cell_guid": "7680a7eb-67cd-41cb-9e74-42514e7cb4bf",
    "_uuid": "2aa9edd91843ad91151d3a2f5b01981359eb9789"
   },
   "source": [
    "pca.explained_variance_ratio_"
   ]
  },
  {
   "cell_type": "code",
   "execution_count": null,
   "metadata": {
    "_cell_guid": "fdc05198-9350-4b9c-94e3-a63894cea4ad",
    "_uuid": "90cfa63cebc47a2562828a690c0c451dc288cfad",
    "collapsed": true
   },
   "outputs": [],
   "source": [
    "X_train.info()"
   ]
  },
  {
   "cell_type": "code",
   "execution_count": null,
   "metadata": {
    "_cell_guid": "6a709b19-2dc1-4084-b568-f830bb13487c",
    "_uuid": "7c33686602b361b8628a47c9b7f9a4a59e00d7a3",
    "collapsed": true
   },
   "outputs": [],
   "source": [
    "#pipeline\n",
    "num_attribs = list(X_train)\n",
    "prep_pipeline = Pipeline([\n",
    "        ('selector', DataFrameSelector(num_attribs)),\n",
    "        ('imputer', Imputer(strategy=\"median\")),\n",
    "        ('scaler', scaler)      \n",
    "        #('PCA',PCA(n_components=0.8) )\n",
    "\n",
    "])\n",
    "X_train_prepared = prep_pipeline.fit(X_train,y_train)\n",
    "#X_test_prepared = prep_pipeline.transform(X_test)"
   ]
  },
  {
   "cell_type": "code",
   "execution_count": null,
   "metadata": {
    "_cell_guid": "2e90c6ce-e301-4a3c-80ea-7b6dc1235636",
    "_uuid": "ccbe7852a1f708016e4d00de2d5a44d5fe2c9fdd",
    "collapsed": true
   },
   "outputs": [],
   "source": [
    "RF_clf.fit(X_train_imp, y_train)\n",
    "important_features = pd.Series(data=RF_clf.feature_importances_,index=train_df.columns)\n",
    "important_features.sort_values(ascending=False,inplace=True)\n",
    "print(important_features)\n",
    "#https://stackoverflow.com/questions/41900387/mapping-column-names-to-random-forest-feature-importances"
   ]
  },
  {
   "cell_type": "markdown",
   "metadata": {
    "_cell_guid": "04e25df2-7dfc-4b13-b60d-0b9b2a5dafbe",
    "_uuid": "a3936c2e7110a82433f51535470d628ad2987c39"
   },
   "source": [
    "regionid seems more important than zip for a location category so let's drop the zipcode"
   ]
  },
  {
   "cell_type": "markdown",
   "metadata": {
    "_cell_guid": "adf014e7-c2a2-41a3-974a-881fa4d8ef0d",
    "_uuid": "c60d0998c18c97deeaed0d3cc6983946d0061d32",
    "collapsed": true
   },
   "source": [
    "important_features = pd.DataFrame({'Importance' :important_features})\n",
    "important_features\n",
    "important_features_remove = important_features[important_features.Importance == 0]\n",
    "important_features_remove"
   ]
  },
  {
   "cell_type": "markdown",
   "metadata": {
    "_cell_guid": "5751d46d-b412-4064-9572-9d457d415749",
    "_uuid": "0ff717af931a5392739fe8f4f463e74f6f4cd52d",
    "collapsed": true
   },
   "source": [
    "columns_to_remove = []\n",
    "columns_to_remove = important_features_remove.index.values.tolist()"
   ]
  },
  {
   "cell_type": "code",
   "execution_count": null,
   "metadata": {
    "_cell_guid": "46df4d8f-d12f-45bf-8ee8-28be2ff6663b",
    "_uuid": "8acee10bdcaa0ec5d21b80b7e13b809d318a9cf7",
    "collapsed": true
   },
   "outputs": [],
   "source": [
    "from itertools import combinations\n",
    "\n",
    "import numpy as np\n",
    "from scipy import sparse\n",
    "from sklearn.base import BaseEstimator, TransformerMixin\n",
    "\n",
    "\n",
    "class SparseInteractions(BaseEstimator, TransformerMixin):\n",
    "    def __init__(self, degree=2, feature_name_separator=\"_\"):\n",
    "        self.degree = degree\n",
    "        self.feature_name_separator = feature_name_separator\n",
    "\n",
    "    def fit(self, X, y=None):\n",
    "        return self\n",
    "\n",
    "    def transform(self, X):\n",
    "        if not sparse.isspmatrix_csc(X):\n",
    "            X = sparse.csc_matrix(X)\n",
    "\n",
    "        if hasattr(X, \"columns\"):\n",
    "            self.orig_col_names = X.columns\n",
    "        else:\n",
    "            self.orig_col_names = np.array([str(i) for i in range(X.shape[1])])\n",
    "\n",
    "        spi = self._create_sparse_interactions(X)\n",
    "        return spi\n",
    "\n",
    "    def get_feature_names(self):\n",
    "        return self.feature_names\n",
    "\n",
    "    def _create_sparse_interactions(self, X):\n",
    "        out_mat = []\n",
    "        self.feature_names = self.orig_col_names.tolist()\n",
    "\n",
    "        for sub_degree in range(2, self.degree + 1):\n",
    "            for col_ixs in combinations(range(X.shape[1]), sub_degree):\n",
    "                # add name for new column\n",
    "                name = self.feature_name_separator.join(self.orig_col_names[list(col_ixs)])\n",
    "                self.feature_names.append(name)\n",
    "\n",
    "                # get column multiplications value\n",
    "                out = X[:, col_ixs[0]]\n",
    "                for j in col_ixs[1:]:\n",
    "                    out = out.multiply(X[:, j])\n",
    "\n",
    "                out_mat.append(out)\n",
    "\n",
    "        return sparse.hstack([X] + out_mat)\n",
    "\n",
    "#('int', SparseInteractions(degree=2))\n",
    "#https://github.com/drivendataorg/box-plots-sklearn/blob/master/src/features/SparseInteractions.py"
   ]
  },
  {
   "cell_type": "markdown",
   "metadata": {
    "_cell_guid": "3e129a2c-1b06-4f39-a4ef-77de5635a5f7",
    "_uuid": "d9d9221aadff33c69ccec47266c889cd1fdded6e"
   },
   "source": [
    "    imputer\n",
    "    feature reduction\n",
    "    ('int', SparseInteractions(degree=2)),\n",
    "        ('scale', MaxAbsScaler()),\n",
    "        ('clf', OneVsRestClassifier(LogisticRegression()))"
   ]
  },
  {
   "cell_type": "markdown",
   "metadata": {
    "_cell_guid": "5f4a09f4-7434-4da3-8bab-54105030e90d",
    "_uuid": "2803c66f8d3e362cbe6be7c3bae01e6bd79c765c"
   },
   "source": [
    "To retain enough components to cover 80% of the total variance in the data, pick k such that StartFraction normal upper Sigma Subscript i equals 1 Superscript k Baseline sigma Subscript i Superscript 2 Baseline Over normal upper Sigma Subscript i equals 1 Superscript d Baseline sigma Subscript i Superscript 2 Baseline EndFraction greater-than-or-equal-to .8\n",
    "https://www.safaribooksonline.com/library/view/feature-engineering-for/9781491953235/ch06.html"
   ]
  },
  {
   "cell_type": "markdown",
   "metadata": {
    "_cell_guid": "07a818ae-9e90-4e32-992d-7343c83052bb",
    "_uuid": "e9d182f1dbd4e4e4ff6fdaabad42299d512f64f4"
   },
   "source": [
    "#Partial Dependence Plots"
   ]
  },
  {
   "cell_type": "markdown",
   "metadata": {
    "_cell_guid": "976ebcff-8f96-4a93-88b7-4efa820148cc",
    "_uuid": "c12bbad8073366e0be5d092d19cfcbad54f1ddd7"
   },
   "source": [
    "https://stats.stackexchange.com/questions/94902/how-to-represent-geography-or-zip-code-in-machine-learning-model-or-recommender\n",
    "#https://datascience.stackexchange.com/questions/13567/ways-to-deal-with-longitude-latitude-feature\n",
    "#https://datascience.stackexchange.com/questions/761/clustering-geo-location-coordinates-lat-long-pairs\n",
    "#https://www.kdnuggets.com/2016/08/include-high-cardinality-attributes-predictive-model.html"
   ]
  },
  {
   "cell_type": "markdown",
   "metadata": {
    "_cell_guid": "0d4cf768-e387-4b37-81c5-5cfe51ab6898",
    "_uuid": "d6147cf25bd9d5049d872d6e388414021a0da0eb"
   },
   "source": [
    "Great information from feature importance.  \n",
    "1.  I can eliminate for features that have a 0 importance, so that helps thin the data set.  \n",
    "2. I can create a calculated field that adds together the lot size with the finished square feet.  finishedsquarefeet12  has 5% NA and appears to be a duplicate to calculatedfinishedsquarefeet so I will drop it.  \n",
    "3. The rule in real estate is 'Location, Location, Location'.  Therefore, I can combine latitude, longitude, and other location info\n",
    "4. Taxes do matter because this is a fixed cost of living in the home\n",
    "5. The year built matters also as older homes may need renovation."
   ]
  },
  {
   "cell_type": "markdown",
   "metadata": {
    "_cell_guid": "9497b561-2d04-4b11-bdb2-bcfc2005868b",
    "_uuid": "52214b84608daa0154127712cb2c038b236adbeb"
   },
   "source": [
    "sns.distplot(train_df['logerror'] , fit=norm);\n",
    "(mu, sigma) = norm.fit(train_df['logerror'])\n",
    "print( '\\n mu = {:.2f} and sigma = {:.2f}\\n'.format(mu, sigma))\n",
    "\n",
    "plt.legend(['Normal dist. ($\\mu=$ {:.2f} and $\\sigma=$ {:.2f} )'.format(mu, sigma)],\n",
    "            loc='best')\n",
    "plt.ylabel('Frequency')\n",
    "plt.title('Logerror distribution')\n",
    "\n",
    "#QQ-plot\n",
    "fig = plt.figure()\n",
    "res = stats.probplot(train_df['logerror'], plot=plt)\n",
    "plt.show()\n",
    "#https://stats.stackexchange.com/questions/101274/how-to-interpret-a-qq-plot\n",
    "#http://data.library.virginia.edu/understanding-q-q-plots/"
   ]
  },
  {
   "cell_type": "markdown",
   "metadata": {
    "_cell_guid": "bbee36b0-a69d-4bd2-b448-245f0e054822",
    "_uuid": "4ca8b54241eb91fb3d04c67b1021ca8de5144f9b"
   },
   "source": [
    "The qplot shows that the logerror has a 'heavy tails' distribution.  Let's see if this changes after we remove outlier's from logerror."
   ]
  },
  {
   "cell_type": "markdown",
   "metadata": {
    "_cell_guid": "b515dd27-1d7c-4433-be72-acf4c4e0de84",
    "_uuid": "0374385114eff49efbdfdfae542c6fcb1482de43"
   },
   "source": [
    "drop_column2 = ['logerror', 'transactiondate'] \n",
    "train_df.drop(drop_column2, axis=1, inplace = True)\n"
   ]
  },
  {
   "cell_type": "markdown",
   "metadata": {
    "_cell_guid": "8bdb7b2f-9d26-44ac-8597-95b3c1c9df5d",
    "_uuid": "cedba78b3da028086bff984d3d1df2058d027398"
   },
   "source": [
    "# Let's remove the top and bottom 5% of outliers\n",
    "outlier_upper = np.percentile(train_df.logerror.values, 95)\n",
    "outlier_lower = np.percentile(train_df.logerror.values, 5)\n",
    "train_df['logerror'].ix[train_df['logerror']>outlier_upper] = outlier_upper\n",
    "train_df['logerror'].ix[train_df['logerror']<outlier_lower] = outlier_lower"
   ]
  },
  {
   "cell_type": "markdown",
   "metadata": {
    "_cell_guid": "a608f4f8-bb71-4b87-9464-3a102f1d68b4",
    "_uuid": "5e973be5c2b853aad26905f21208237376e92bd4"
   },
   "source": [
    "num = train_df.select_dtypes(exclude=[object])\n",
    "num = num.columns.get_values()\n",
    "num.tolist()"
   ]
  },
  {
   "cell_type": "markdown",
   "metadata": {
    "_cell_guid": "61ec6932-74e0-46fa-8cbb-922b33ca7cd4",
    "_uuid": "308fb487e246ddc7cdb35b6cbde0c9792b67f5c0"
   },
   "source": [
    "cat = train_df.select_dtypes(include=[object])\n",
    "cat = cat.columns.get_values()\n",
    "cat.tolist()"
   ]
  },
  {
   "cell_type": "code",
   "execution_count": null,
   "metadata": {
    "_cell_guid": "30823ab2-d914-4f3c-bd0a-9c1e02e489f8",
    "_uuid": "f2295db0578b721c3046de5b001e91e9c912a929",
    "collapsed": true
   },
   "outputs": [],
   "source": [
    "train_df.describe()"
   ]
  },
  {
   "cell_type": "markdown",
   "metadata": {
    "_cell_guid": "51a0c962-7f04-48a7-990f-0d50f29f4990",
    "_uuid": "e6a4dc50ee7dc23c975ff60f0da795326369092d"
   },
   "source": [
    "colormap = plt.cm.RdBu\n",
    "plt.figure(figsize=(14,12))\n",
    "plt.title('Pearson Correlation of Features', y=1.05, size=15)\n",
    "sns.heatmap(train_df.astype(float).corr(),linewidths=0.1,vmax=1.0, \n",
    "            square=True, cmap=colormap, linecolor='white', annot=True)"
   ]
  },
  {
   "cell_type": "markdown",
   "metadata": {
    "_cell_guid": "f183b490-c4ae-44be-befa-7fce10377fae",
    "_uuid": "4983cb44d2f9ef3fd3ea044874e1ca37493d42fb"
   },
   "source": [
    "train_df.hist(sharex=False, sharey=False, xlabelsize=1, ylabelsize=1)\n",
    "plt.show()"
   ]
  },
  {
   "cell_type": "markdown",
   "metadata": {
    "_cell_guid": "950e1416-e677-4913-96fe-48b6159e2a55",
    "_uuid": "8779291cee3d67326fd2915710706e7424da50f4"
   },
   "source": [
    "# Print the summary statistics for income\n",
    "#print(income.describe())\n",
    "\n",
    "# Plot a basic histogram of income per capita\n",
    "sns.distplot(train_df['logerror'],hist=True, kde = True)\n",
    "\n",
    "# Show the plot\n",
    "plt.show()\n",
    "\n",
    "# Plot a rugplot\n",
    "#sns.distplot(train_df['logerror'], kde = True, rug = False)\n",
    "\n",
    "# Show the plot\n",
    "#plt.show()"
   ]
  },
  {
   "cell_type": "markdown",
   "metadata": {
    "_cell_guid": "e20dc44f-e0b0-4ddf-bbd7-99abb89705dc",
    "_uuid": "ea89c28a3ebf44ce905c5fd4548ef011901473f4"
   },
   "source": [
    "# Create boxplot\n",
    "sns.boxplot(x='logerror', data=train_df)\n",
    "\n",
    "# Show the plot\n",
    "plt.show()\n",
    "\n",
    "# Close the plot\n",
    "plt.close()\n",
    "\n",
    "# Create swarmplot\n",
    "sns.swarmplot(x='logerror', data=train_df)\n",
    "\n",
    "# Show the plot\n",
    "plt.show()"
   ]
  },
  {
   "cell_type": "markdown",
   "metadata": {
    "_cell_guid": "bea4bb82-3d39-4e91-8f0c-cc290c6a975c",
    "_uuid": "df185479e1408cfe26df6c094200b2974f11adfc"
   },
   "source": [
    "### Prepare the data for Machine Learning algorithms"
   ]
  },
  {
   "cell_type": "markdown",
   "metadata": {
    "_cell_guid": "e4da1833-71d1-4117-9142-0e48e00073b2",
    "_uuid": "6bbef89cb18c80b04f0c7842190a1c564514f798",
    "collapsed": true
   },
   "source": [
    "X_train, X_test, y_train, y_test = train_test_split = \\\n",
    "    train_test_split(train_df, y, test_size=0.3, random_state=42)"
   ]
  },
  {
   "cell_type": "markdown",
   "metadata": {
    "_cell_guid": "dc9f273b-d0d3-4ec0-93f4-9693b4f4239f",
    "_uuid": "3d9b220760401c122271535515fde158b3d6d2ea"
   },
   "source": [
    "# create pipeline\n",
    "estimators = []\n",
    "estimators.append(('feature_union', feature_union))\n",
    "#estimators.append(('clf', LASSO_clf))\n",
    "pipeline = Pipeline(estimators)\n",
    "param_grid = {\n",
    "    'feature_union__pca__n_components': randint(low=2, high=10),\n",
    "    'feature_union__select_best__k': randint(low=2, high=15)\n",
    "        }\n",
    "r_search_pca_skb = RandomizedSearchCV(pipeline, param_distributions=param_grid, n_iter=4,random_state=7, \n",
    "                                      scoring = scoring, cv = kfold)\n",
    "r_search_pca_skb.fit(X_train_scaled, y_train)\n",
    "#print(r_search_pca_skb.best_score_)\n",
    "#print(r_search_pca_skb.best_estimator_)\n",
    "print(r_search_pca_skb.best_params_)"
   ]
  },
  {
   "cell_type": "markdown",
   "metadata": {
    "_cell_guid": "0e0e350b-20e1-4154-910c-35e5c89e5d93",
    "_uuid": "fc831e774df703c6ae3111c8721cd09232127211"
   },
   "source": [
    "# Tune scaled KNN\n",
    "#neighbors = [1,2,3,4,5,7,8,9,10]\n",
    "param_grid = dict(n_neighbors=randint(low = 2, high = 10))\n",
    "rsearch = RandomizedSearchCV(KNN_clf, param_distributions=param_grid, n_iter=4,random_state=7, \n",
    "                                      scoring = scoring, cv = kfold)\n",
    "rsearch_result = rsearch.fit(X_train_prepared, y_train)\n",
    "print(\"Best: %f using %s\" % (rsearch_result.best_score_, rsearch_result.best_params_))\n",
    "KNN_clf_tuned = rsearch.best_estimator_"
   ]
  },
  {
   "cell_type": "markdown",
   "metadata": {
    "_cell_guid": "b9f76a17-5295-49b2-85fc-a861be9626fd",
    "_uuid": "7bcecc8edb38fafb08a09a5846b2fafc447d2b9b"
   },
   "source": [
    "params = {'RF_clf__max_depth' : randint(low=1, high=5),\n",
    "          'RF_clf__min_samples_split': randint(low=2, high=5),\n",
    "          'RF_clf__n_estimators' : randint(low=100, high=200),\n",
    "          'ridge__alpha': [0.1, 1.0, 10.0],\n",
    "          'svr__C': [0.1, 1.0, 10.0],\n",
    "          'meta-svr__C': [0.1, 1.0, 10.0, 100.0],\n",
    "          'meta-svr__gamma': [0.1, 1.0, 10.0]}\n",
    "\n",
    "grid = GridSearchCV(estimator=stregr, \n",
    "                    param_grid=params, \n",
    "                    cv=5,\n",
    "                    refit=True)\n",
    "grid.fit(X, y)\n",
    "\n",
    "for params, mean_score, scores in grid.grid_scores_:\n",
    "        print(\"%0.3f +/- %0.2f %r\"\n",
    "              % (mean_score, scores.std() / 2.0, params))"
   ]
  },
  {
   "cell_type": "markdown",
   "metadata": {
    "_cell_guid": "cf09288b-9d09-4e3c-894c-4f4c0ecf5b2f",
    "_uuid": "2eb20c5425978de9ef37e9d5082b43521b522aa9",
    "collapsed": true
   },
   "source": [
    "#Tune RF\n",
    "param_grid = {\n",
    "    'max_depth' : randint(low=1, high=5),\n",
    "    'min_samples_split': randint(low=2, high=5),\n",
    "    'n_estimators' : randint(low=100, high=200) }\n",
    "\n",
    "rsearch = RandomizedSearchCV(RF_clf, param_distributions=param_grid, n_iter=4, cv = kfold, \n",
    "                             random_state=7, scoring = scoring)\n",
    "rsearch_result = rsearch.fit(X_train_prepared, y_train)\n",
    "#print(rsearch.best_score_)\n",
    "#print(rsearch.best_estimator_)\n",
    "#print(rsearch.best_params_)\n",
    "\n",
    "print(\"Best: %f using %s\" % (rsearch_result.best_score_, rsearch_result.best_params_))\n",
    "RF_clf_tuned = rsearch_result.best_estimator_"
   ]
  },
  {
   "cell_type": "markdown",
   "metadata": {
    "_cell_guid": "36c72318-dfc8-42cf-8282-7f75e88184ed",
    "_uuid": "d1372f0ac77eb197c4517636a3f0c044dda9e47b"
   },
   "source": [
    "# Tune GB - First tune number of Trees\n",
    "param_grid = {\n",
    "    'max_depth' : randint(low=1, high=5),\n",
    "    'n_estimators' : randint(low=100, high=400) }\n",
    "\n",
    "rsearch = RandomizedSearchCV(GB_clf, param_distributions=param_grid, n_iter=5, cv = kfold, \n",
    "                             random_state=7, scoring = scoring)\n",
    "rsearch_result = rsearch.fit(X_train_prepared, y_train)\n",
    "#print(rsearch.best_score_)\n",
    "#print(rsearch.best_estimator_)\n",
    "#print(rsearch.best_params_)\n",
    "\n",
    "print(\"Best: %f using %s\" % (rsearch_result.best_score_, rsearch_result.best_params_))\n",
    "GB_clf_tuned = rsearch_result.best_estimator_"
   ]
  },
  {
   "cell_type": "markdown",
   "metadata": {
    "_cell_guid": "5f06c258-eee6-4967-a52c-040cb4cc4fe2",
    "_uuid": "b369c83735cc6215c8257af11c9e55ded63f55c4"
   },
   "source": [
    "The main tuning parameter for the Ridge model is alpha - a regularization parameter that measures how flexible our model is. The higher the regularization the less prone our model will be to overfit. However it will also lose flexibility and might not capture all of the signal in the data."
   ]
  },
  {
   "cell_type": "markdown",
   "metadata": {
    "_cell_guid": "6257894e-03f4-455b-b418-7d125aa32a09",
    "_uuid": "69a21fd129fda6bf12fcea0aaaae1ae78bfcf085"
   },
   "source": []
  },
  {
   "cell_type": "markdown",
   "metadata": {
    "_cell_guid": "d5230a15-d94f-4bf8-ae3b-39386a748cfc",
    "_uuid": "71181ce61e2432ecfcab3499b17088ee0880c917"
   },
   "source": [
    "alphas = [0,5,10,20]\n",
    "cv_ridge = [cross_val_score(Ridge(alpha = alpha), X_train_imp, y_train, cv=kfold, scoring=scoring).mean() \n",
    "            for alpha in alphas]"
   ]
  },
  {
   "cell_type": "markdown",
   "metadata": {
    "_cell_guid": "26624a7e-1272-49bc-a3c4-e88944953cc3",
    "_uuid": "944637ee2b10fc5e187891840cfe1d6aa2e83295"
   },
   "source": [
    "cv_ridge = pd.Series(cv_ridge, index = alphas)\n",
    "cv_ridge.plot(title = \"Alpha Tuning - Ridge\")\n",
    "plt.xlabel(\"alpha\")\n",
    "plt.ylabel(\"mse\")"
   ]
  },
  {
   "cell_type": "markdown",
   "metadata": {
    "_cell_guid": "d6dbe1a6-e117-4339-9dbe-d67be606247e",
    "_uuid": "bc2ee8098b5544fdf3865f65c3d7df1ae66a3aae"
   },
   "source": [
    "cv_ridge.min()"
   ]
  },
  {
   "cell_type": "markdown",
   "metadata": {
    "_cell_guid": "1a6d4d31-578c-430c-80c2-20050e380a3f",
    "_uuid": "e3e11a5705c4cb31f1910f210c5343e3952d7b98"
   },
   "source": [
    "Let' try out the Lasso model. We will do a slightly different approach here and use the built in Lasso CV to figure out the best alpha for us. For some reason the alphas in Lasso CV are really the inverse or the alphas in Ridge."
   ]
  },
  {
   "cell_type": "markdown",
   "metadata": {
    "_cell_guid": "f6c3951b-094e-4849-9ae2-b2c348defe59",
    "_uuid": "1aad3b6e24b30a6a9186e98c26bd211b7fc634a4"
   },
   "source": [
    "alphas = [0.8,0.9,0.1,0.11,1]\n",
    "lasso_ridge = [cross_val_score(Lasso(alpha = alpha), X_train_imp, y_train, cv=kfold, scoring=scoring).mean() \n",
    "            for alpha in alphas]"
   ]
  },
  {
   "cell_type": "markdown",
   "metadata": {
    "_cell_guid": "4c901062-6b75-4502-87c0-418a3b576fc5",
    "_uuid": "a86c9feade909434ec1d514e6ecd8a049c248356"
   },
   "source": [
    "lasso_ridge = pd.Series(lasso_ridge, index = alphas)\n",
    "lasso_ridge.plot(title = \"Alpha Tuning - Lasso\")\n",
    "plt.xlabel(\"alpha\")\n",
    "plt.ylabel(\"mse\")"
   ]
  },
  {
   "cell_type": "markdown",
   "metadata": {
    "_cell_guid": "67f613a6-f3ec-4c5d-aa4e-9d55e851fbac",
    "_uuid": "829b23f287bdf040188d82f8084ab3ae5a00e369",
    "collapsed": true
   },
   "source": [
    "lasso_ridge.min()"
   ]
  },
  {
   "cell_type": "markdown",
   "metadata": {
    "_cell_guid": "0ec46582-9ec0-48c5-8e0e-d7678890ba3f",
    "_uuid": "e61c09d4d263d5d6a5ba002e822853e2179bc220",
    "collapsed": true
   },
   "source": [
    "param_grid = {'learning_rate' : uniform(0.01,0.3), #(2 to 10)/trees\n",
    "#'clf__min_child_weight': uniform(), # 3 / sqrt(rare events)             \n",
    "'max_depth': [2],#randint(low=6, high=12),\n",
    "'subsample': [1.0],#row sampling              \n",
    "#'clf__colsample_bytree':[0.3, 0.4, 0.5],\n",
    "'n_estimators' : [285] }\n",
    "\n",
    "\n",
    "rsearch = RandomizedSearchCV(GB_clf, param_distributions=param_grid, n_iter=7, cv = kfold, \n",
    "                             scoring = scoring)\n",
    "\n",
    "rsearch_result = rsearch.fit(X_train_prepared, y_train)\n",
    "print(\"Best: %f using %s\" % (rsearch_result.best_score_, rsearch_result.best_params_))\n",
    "GB_clf_tuned = rsearch_result.best_estimator_"
   ]
  },
  {
   "cell_type": "markdown",
   "metadata": {
    "_cell_guid": "723a3268-5ba3-43bd-b952-896299040b6d",
    "_uuid": "c31c71405c11c5a94f5766c3c1769f269bb2ae66"
   },
   "source": [
    "models = []\n",
    "models.append(('LR', LR_clf))\n",
    "models.append(('Lasso', LASSO_clf))\n",
    "models.append(('KNN', KNN_clf))\n",
    "models.append(('RF',RF_clf))\n",
    "models.append(('GB', GB_clf))\n",
    "\n",
    "results = []\n",
    "names = []\n",
    "for name, model in models:\n",
    "    cv_results = cross_val_score(model, X_train_imp, y_train, cv=kfold, scoring=scoring)\n",
    "    results.append(cv_results)\n",
    "    names.append(name)\n",
    "    msg = \"%s: %f (%f)\" % (name, cv_results.mean(), cv_results.std())\n",
    "    print(msg)"
   ]
  },
  {
   "cell_type": "markdown",
   "metadata": {
    "_cell_guid": "35fc8eeb-7c41-49df-bf45-07d169350f3e",
    "_uuid": "b1ab124e78d0a1022d334f04f5bf7ecabbd7777d"
   },
   "source": [
    "# scaled/pca/skb\n",
    "pipelines = []\n",
    "pipelines.append(('LR', Pipeline([('Scaler', scaler),(\"feature_union\",feature_union),('LR',LR_clf)])))\n",
    "pipelines.append(('Lasso', Pipeline([('Scaler', scaler),(\"feature_union\",feature_union),('Lasso',LASSO_clf)])))\n",
    "pipelines.append(('KNN', Pipeline([('Scaler', scaler),(\"feature_union\",feature_union),('KNN',KNN_clf)])))\n",
    "pipelines.append(('RF', Pipeline([('Scaler', scaler),(\"feature_union\",feature_union),('RF',RF_clf)])))\n",
    "pipelines.append(('GB', Pipeline([('Scaler', scaler),(\"feature_union\",feature_union),('GB', GB_clf)])))\n",
    "\n",
    "results_pca_tuned = []\n",
    "names_pca_tuned = []\n",
    "for name, model in pipelines:\n",
    "    cv_results = cross_val_score(model, X_train, y_train, cv=kfold, scoring=scoring)\n",
    "    results_pca_tuned.append(cv_results)\n",
    "    names_pca_tuned.append(name)\n",
    "    msg = \"%s: %f (%f)\" % (name, cv_results.mean(), cv_results.std())\n",
    "    print(msg)"
   ]
  },
  {
   "cell_type": "markdown",
   "metadata": {
    "_cell_guid": "b335faa8-cb38-4f3b-8f4a-af860419e6a6",
    "_uuid": "9c5f13d9101f7ab52a080832a815e6c563061996",
    "collapsed": true
   },
   "source": [
    "LASSO_clf_tuned.fit(X_train_prepared, y_train)\n",
    "keras_clf.fit(X_train_prepared, y_train)\n",
    "RF_clf_tuned.fit(X_train_prepared, y_train)\n",
    "GB_clf_tuned.fit(X_train_prepared, y_train)\n"
   ]
  },
  {
   "cell_type": "markdown",
   "metadata": {
    "_cell_guid": "6abed8a3-4cb1-4565-8498-c49f76af8707",
    "_uuid": "c61f6fb2b109e8db2e9614dda6236dd8b71cd4d1"
   },
   "source": [
    "# scaled/pca/skb/tuned\n",
    "pipelines = []\n",
    "#pipelines.append(('LR', Pipeline([('Scaler', scaler),(\"feature_union\",feature_union),('LR',LR_clf)])))\n",
    "pipelines.append(('Lasso', Pipeline([('Scaler', scaler),(\"pca\",PCA(n_components=0.8)),('Lasso',LASSO_clf_tuned)])))\n",
    "pipelines.append(('MLP', Pipeline([('Scaler', scaler),(\"pca\",PCA(n_components=0.8)),('MLP',keras_clf)])))\n",
    "#pipelines.append(('KNN', Pipeline([('Scaler', scaler),(\"feature_union\",feature_union),('KNN',KNN_clf_tuned)])))\n",
    "pipelines.append(('RF', Pipeline([('Scaler', scaler), (\"pca\",PCA(n_components=0.8)),('RF',RF_clf_tuned)])))\n",
    "pipelines.append(('GB', Pipeline([('Scaler', scaler),(\"pca\",PCA(n_components=0.8)),('GB', GB_clf_tuned)])))\n",
    "pipelines.append(('stacking', Pipeline([('Scaler', scaler),(\"pca\",PCA(n_components=0.8)),('stacking', stregr_clf)])))\n",
    "#pipelines.append(('GB', Pipeline([('Scaler', scaler),(\"feature_union\",feature_union),('GB', GB_clf)])))\n",
    "                                  \n",
    "\n",
    "results_pca_tuned = []\n",
    "names_pca_tuned = []\n",
    "for name, model in pipelines:\n",
    "    cv_results = cross_val_score(model, X_train_imp, y_train, cv=kfold, scoring=scoring)\n",
    "    results_pca_tuned.append(cv_results)\n",
    "    names_pca_tuned.append(name)\n",
    "    msg = \"%s: %f (%f)\" % (name, cv_results.mean(), cv_results.std())\n",
    "    print(msg)"
   ]
  },
  {
   "cell_type": "markdown",
   "metadata": {
    "_cell_guid": "4a7823ec-bdde-4cf6-83dd-09b068fed46e",
    "_uuid": "b431a769c2bd38592e5a394e031e298bbb79c05e",
    "collapsed": true
   },
   "source": [
    "# Compare Algorithms\n",
    "fig = pyplot.figure()\n",
    "fig.suptitle('Algorithm Comparison')\n",
    "ax = fig.add_subplot(111)\n",
    "pyplot.boxplot(results)\n",
    "ax.set_xticklabels(names)\n",
    "pyplot.show()\n",
    "\n",
    "# Compare Algorithms\n",
    "fig_pca_tuned = plt.figure()\n",
    "fig_pca_tuned.suptitle('PCA_SKB Algorithm Comparison')\n",
    "ax = fig_pca_tuned.add_subplot(111)\n",
    "plt.boxplot(results_pca_tuned)\n",
    "ax.set_xticklabels(names_pca_tuned)\n",
    "plt.show()"
   ]
  },
  {
   "cell_type": "code",
   "execution_count": null,
   "metadata": {
    "_cell_guid": "4ac903db-ba44-4ab7-b02e-9ca636dbfdad",
    "_uuid": "0c9905537b1ef0149bfcf11aa0ed7703b8be6470",
    "collapsed": false
   },
   "outputs": [],
   "source": [
    "print(__doc__)\n",
    "\n",
    "import numpy as np\n",
    "import matplotlib.pyplot as plt\n",
    "from sklearn.naive_bayes import GaussianNB\n",
    "from sklearn.svm import SVC\n",
    "from sklearn.datasets import load_digits\n",
    "from sklearn.model_selection import learning_curve\n",
    "from sklearn.model_selection import ShuffleSplit\n",
    "\n",
    "\n",
    "def plot_learning_curve(estimator, title, X, y, ylim=None, cv=None,\n",
    "                        n_jobs=1, train_sizes=np.linspace(.1, 1.0, 5)):\n",
    "    \"\"\"\n",
    "    Generate a simple plot of the test and training learning curve.\n",
    "\n",
    "    Parameters\n",
    "    ----------\n",
    "    estimator : object type that implements the \"fit\" and \"predict\" methods\n",
    "        An object of that type which is cloned for each validation.\n",
    "\n",
    "    title : string\n",
    "        Title for the chart.\n",
    "\n",
    "    X : array-like, shape (n_samples, n_features)\n",
    "        Training vector, where n_samples is the number of samples and\n",
    "        n_features is the number of features.\n",
    "\n",
    "    y : array-like, shape (n_samples) or (n_samples, n_features), optional\n",
    "        Target relative to X for classification or regression;\n",
    "        None for unsupervised learning.\n",
    "\n",
    "    ylim : tuple, shape (ymin, ymax), optional\n",
    "        Defines minimum and maximum yvalues plotted.\n",
    "\n",
    "    cv : int, cross-validation generator or an iterable, optional\n",
    "        Determines the cross-validation splitting strategy.\n",
    "        Possible inputs for cv are:\n",
    "          - None, to use the default 3-fold cross-validation,\n",
    "          - integer, to specify the number of folds.\n",
    "          - An object to be used as a cross-validation generator.\n",
    "          - An iterable yielding train/test splits.\n",
    "\n",
    "        For integer/None inputs, if ``y`` is binary or multiclass,\n",
    "        :class:`StratifiedKFold` used. If the estimator is not a classifier\n",
    "        or if ``y`` is neither binary nor multiclass, :class:`KFold` is used.\n",
    "\n",
    "        Refer :ref:`User Guide <cross_validation>` for the various\n",
    "        cross-validators that can be used here.\n",
    "\n",
    "    n_jobs : integer, optional\n",
    "        Number of jobs to run in parallel (default 1).\n",
    "    \"\"\"\n",
    "    plt.figure()\n",
    "    plt.title(title)\n",
    "    if ylim is not None:\n",
    "        plt.ylim(*ylim)\n",
    "    plt.xlabel(\"Training examples\")\n",
    "    plt.ylabel(\"Score\")\n",
    "    train_sizes, train_scores, test_scores = learning_curve(\n",
    "        estimator, X, y, cv=cv, n_jobs=n_jobs, train_sizes=train_sizes)\n",
    "    train_scores_mean = np.mean(train_scores, axis=1)\n",
    "    train_scores_std = np.std(train_scores, axis=1)\n",
    "    test_scores_mean = np.mean(test_scores, axis=1)\n",
    "    test_scores_std = np.std(test_scores, axis=1)\n",
    "    plt.grid()\n",
    "\n",
    "    plt.fill_between(train_sizes, train_scores_mean - train_scores_std,\n",
    "                     train_scores_mean + train_scores_std, alpha=0.1,\n",
    "                     color=\"r\")\n",
    "    plt.fill_between(train_sizes, test_scores_mean - test_scores_std,\n",
    "                     test_scores_mean + test_scores_std, alpha=0.1, color=\"g\")\n",
    "    plt.plot(train_sizes, train_scores_mean, 'o-', color=\"r\",\n",
    "             label=\"Training score\")\n",
    "    plt.plot(train_sizes, test_scores_mean, 'o-', color=\"g\",\n",
    "             label=\"Cross-validation score\")\n",
    "\n",
    "    plt.legend(loc=\"best\")\n",
    "    return plt"
   ]
  },
  {
   "cell_type": "markdown",
   "metadata": {
    "_cell_guid": "c8a84197-3068-41dc-99f4-179b6ed40da6",
    "_uuid": "ab82a80c7b42e72de0ca049f144351203fe137a7"
   },
   "source": [
    "I found using the stacking regressor from mlxtend.regressor much easier than writing a class to weight algorithms. It's pretty cool how it works. Would love some other feedback on stacking. I was disappointed to learn the sklearn has the ability to ensemble algorithms by voting but it is only available for classification algorithms."
   ]
  },
  {
   "cell_type": "markdown",
   "metadata": {
    "_cell_guid": "8cf4af7a-9144-4679-8bef-4a1b3daeaa30",
    "_uuid": "00b7387f38d8278429f1fd30e948293eda1cd867",
    "collapsed": true
   },
   "source": [
    "#title = \"Learning Curves (LR Untuned)\"\n",
    "#plot_learning_curve(LR_clf, title, X_train_prepared, y_train, cv=kfold)\n",
    "\n",
    "title = \"Learning Curves (LASSO Tuned)\"\n",
    "plot_learning_curve(LASSO_clf_tuned, title, X_train_prepared, y_train, cv=kfold)\n",
    "\n",
    "title = \"Learning Curves (MLP Untuned)\"\n",
    "plot_learning_curve(keras_clf, title, X_train_prepared, y_train, cv=kfold)"
   ]
  },
  {
   "cell_type": "code",
   "execution_count": null,
   "metadata": {
    "_cell_guid": "d9f62b64-562a-41d3-9ded-a0f67459e1f1",
    "_uuid": "80259e169a47487fd88260ecb662c8468b5c1ade",
    "collapsed": false
   },
   "outputs": [],
   "source": [
    "#title = \"Learning Curves (GB UnTuned)\"\n",
    "#plot_learning_curve(GB_clf, title, X_train_prepared, y_train, cv=kfold)\n",
    "\n",
    "title = \"Learning Curves (LASSO Tuned)\"\n",
    "plot_learning_curve(LASSO_clf_tuned, title, X_train_final, y_train, cv=kfold)\n",
    "\n",
    "#title = \"Learning Curves (MLP Untuned)\"\n",
    "#plot_learning_curve(keras_clf, title, X_train_final, y_train, cv=kfold)\n",
    "\n",
    "title = \"Learning Curves (RF Tuned)\"\n",
    "plot_learning_curve(RF_clf_tuned, title, X_train_final, y_train, cv=kfold)\n",
    "\n",
    "title = \"Learning Curves (GB Tuned)\"\n",
    "plot_learning_curve(GB_clf_tuned, title, X_train_final, y_train, cv=kfold)\n",
    "\n",
    "title = \"Learning Curves (Stacking)\"\n",
    "plot_learning_curve(stregr_clf, title, X_train_final, y_train, cv=kfold)\n",
    "#title = \"Learning Curves (Voting Tuned)\"\n",
    "# Cross validation with 100 iterations to get smoother mean test and train\n",
    "# score curves, each time with 20% data randomly selected as a validation set.\n",
    "#plot_learning_curve(voting_ensemble, title, X_train_scaled, y_train, cv=sss, n_jobs=1)"
   ]
  },
  {
   "cell_type": "markdown",
   "metadata": {
    "_cell_guid": "34a2c301-caef-4fd1-bab8-48d0c02a0d11",
    "_uuid": "759cf78dbcd4846a50957a905d6b2fe4f676ee53"
   },
   "source": [
    "### Final Predictions"
   ]
  },
  {
   "cell_type": "markdown",
   "metadata": {
    "_cell_guid": "37832232-6f09-42e5-8a39-4f6bf5c27035",
    "_uuid": "0706fdd75ced907c5b070e9f814820aab473b541",
    "collapsed": true
   },
   "source": [
    "RF_clf_tuned.fit(X_train_prepared, y_train)\n",
    "pred = RF_clf_tuned.predict(X_test_prepared)\n",
    "MAE_test = mean_absolute_error(pred, y_test)\n",
    "\n",
    "print (\"MAE Test: {}\".format(MAE_test))"
   ]
  },
  {
   "cell_type": "markdown",
   "metadata": {
    "_cell_guid": "90addf72-c5b1-4657-b882-4cffa1a94e90",
    "_uuid": "4bf96e09c35e49e8fef589ef231871a913904604"
   },
   "source": [
    "GB_clf_tuned.fit(X_train_prepared, y_train)\n",
    "pred = GB_clf_tuned.predict(X_test_prepared)\n",
    "MAE_test = mean_absolute_error(pred, y_test)\n",
    "\n",
    "print (\"MAE Test: {}\".format(MAE_test))"
   ]
  },
  {
   "cell_type": "markdown",
   "metadata": {
    "_cell_guid": "c07f2a0f-33b5-47e2-b3e7-e245734a5f4e",
    "_uuid": "0d04088847d346a70246a3ae825f15477a0bf5a3"
   },
   "source": [
    "LASSO_clf.fit(X_train_prepared, y_train)\n",
    "pred = LASSO_clf.predict(X_test_prepared)\n",
    "MAE_test = mean_absolute_error(pred, y_test)\n",
    "\n",
    "print (\"MAE Test: {}\".format(MAE_test))"
   ]
  },
  {
   "cell_type": "markdown",
   "metadata": {
    "_cell_guid": "d2a1b057-ff95-4f28-aef1-ee75981c9898",
    "_uuid": "bf0afa83c2e229cc51e11e5340d77b667bdeb6b8"
   },
   "source": [
    "voting_ensemble.fit(X_train_prepared, y_train)\n",
    "pred = voting_ensemble.predict(X_test_prepared)\n",
    "MAE_test = mean_absolute_error(pred, y_test)\n",
    "\n",
    "print (\"MAE Test: {}\".format(MAE_test))"
   ]
  },
  {
   "cell_type": "code",
   "execution_count": null,
   "metadata": {
    "_cell_guid": "e7d6e2d6-ee70-4c5b-806b-168f3feae621",
    "_uuid": "a8f523074f7e649e32a8b32836ec110ae6075ddb",
    "collapsed": true
   },
   "outputs": [],
   "source": []
  },
  {
   "cell_type": "code",
   "execution_count": null,
   "metadata": {
    "_cell_guid": "b88d348a-d43f-49d9-86c9-e3c4d995c688",
    "_uuid": "deb448cb63017b38e1684dbc5ec8a6a7071f4e16",
    "collapsed": true
   },
   "outputs": [],
   "source": [
    "# Run final predictions\n",
    "final_pipeline = Pipeline([\n",
    "    ('preparation', prep_pipeline),\n",
    "    ('stacking_reg', stregr_clf)\n",
    "])\n"
   ]
  },
  {
   "cell_type": "markdown",
   "metadata": {
    "_cell_guid": "864f38ea-4906-43e8-b369-fb461083b054",
    "_uuid": "7cfe70d14bdf0925be08fdd7aeb861282783f644",
    "collapsed": true
   },
   "source": [
    "print(len(test_df))"
   ]
  },
  {
   "cell_type": "code",
   "execution_count": null,
   "metadata": {
    "_cell_guid": "329c2d82-8d4e-4aba-950f-2d6007becbd0",
    "_uuid": "775a10a898c5f81fab657fb6dad2c92942e9c98c",
    "collapsed": true
   },
   "outputs": [],
   "source": [
    "final_model = final_pipeline.fit(train_df, y)"
   ]
  },
  {
   "cell_type": "code",
   "execution_count": null,
   "metadata": {
    "_cell_guid": "d3005db2-646c-410e-b934-aa0b2c9cf9c8",
    "_uuid": "60c325e7e67c99f9481b0740a671d91946b2b82b",
    "collapsed": true
   },
   "outputs": [],
   "source": [
    "# Run final predictions\n",
    "pred_final = final_model.predict(test_df)"
   ]
  },
  {
   "cell_type": "markdown",
   "metadata": {
    "_cell_guid": "dbb63a23-077a-435e-b259-5fdd4b41f03f",
    "_uuid": "2e874dff9f96ce0f84538fb7655863568309777a",
    "collapsed": true
   },
   "source": [
    "print(len(test_df))"
   ]
  },
  {
   "cell_type": "code",
   "execution_count": null,
   "metadata": {
    "_cell_guid": "211d58ec-5af5-4008-8ba1-e4f6cb434ab8",
    "_uuid": "f3a8ab5553b005b8c733e51d776c08fac99c6b0f",
    "collapsed": true
   },
   "outputs": [],
   "source": [
    "len(pred_final)"
   ]
  },
  {
   "cell_type": "code",
   "execution_count": null,
   "metadata": {
    "_cell_guid": "c8e1cca8-1ddb-4945-87ef-2a1a64e5644b",
    "_uuid": "00217d82e60d0c756797e1a99af08f9b558f26d1",
    "collapsed": true
   },
   "outputs": [],
   "source": [
    "submission_file = pd.read_csv('../input/sample_submission.csv') "
   ]
  },
  {
   "cell_type": "code",
   "execution_count": null,
   "metadata": {
    "_cell_guid": "75f3ea00-95ed-445c-8cf0-777a4bba816a",
    "_uuid": "5f6da3d113db80fa697f52b34e076a2676cef4aa",
    "collapsed": true
   },
   "outputs": [],
   "source": [
    "len(submission_file)"
   ]
  },
  {
   "cell_type": "code",
   "execution_count": null,
   "metadata": {
    "_cell_guid": "d1b3725f-9563-498c-8040-c977391fe100",
    "_uuid": "31f159a5c462387fb9dfbe9a3e1925ff111ed692",
    "collapsed": true
   },
   "outputs": [],
   "source": [
    "\n",
    "for column in submission_file.columns[submission_file.columns != 'ParcelId']:\n",
    "    submission_file[column] = pred_final"
   ]
  },
  {
   "cell_type": "code",
   "execution_count": null,
   "metadata": {
    "_cell_guid": "3d378fc5-1975-45fe-bdbc-af95cf272b8b",
    "_uuid": "02611f3620dd10f507d251e15084158103bc63e6",
    "collapsed": true
   },
   "outputs": [],
   "source": [
    "submission_file.to_csv('RF_final_predictions.csv', index=False, float_format='%.4f')"
   ]
  }
 ],
 "metadata": {
  "anaconda-cloud": {},
  "kernelspec": {
   "display_name": "Python [conda env:DAND]",
   "language": "python",
   "name": "conda-env-DAND-py"
  },
  "language_info": {
   "codemirror_mode": {
    "name": "ipython",
    "version": 2
   },
   "file_extension": ".py",
   "mimetype": "text/x-python",
   "name": "python",
   "nbconvert_exporter": "python",
   "pygments_lexer": "ipython2",
   "version": "2.7.12"
  }
 },
 "nbformat": 4,
 "nbformat_minor": 1
}
